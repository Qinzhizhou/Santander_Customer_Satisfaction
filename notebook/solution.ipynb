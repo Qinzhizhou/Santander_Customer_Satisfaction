{
 "cells": [
  {
   "cell_type": "markdown",
   "id": "22ef1fda",
   "metadata": {},
   "source": [
    "# 桑坦德客户满意度 Santander Customer Satisfaction"
   ]
  },
  {
   "cell_type": "code",
   "execution_count": 1,
   "id": "ded31303",
   "metadata": {},
   "outputs": [],
   "source": [
    "import numpy as np # linear algebra\n",
    "import pandas as pd # data processing, CSV file I/O (e.g. pd.read_csv)\n",
    "from scipy import stats\n",
    "from scipy.sparse import hstack\n",
    "import itertools\n",
    "import random"
   ]
  },
  {
   "cell_type": "code",
   "execution_count": 2,
   "id": "ca0c0ed3",
   "metadata": {},
   "outputs": [],
   "source": [
    "# 数据可视化\n",
    "import matplotlib.pyplot as plt\n",
    "import seaborn as sns\n",
    "# 特征工程\n",
    "from sklearn.preprocessing import LabelEncoder, StandardScaler, MinMaxScaler\n",
    "from sklearn.preprocessing import OneHotEncoder\n",
    "\n",
    "# 非平衡取\n",
    "from imblearn.over_sampling import RandomOverSampler, SMOTE\n",
    "from imblearn.under_sampling import RandomUnderSampler\n",
    "\n",
    "# 模型\n",
    "from sklearn.ensemble import RandomForestClassifier\n",
    "from sklearn.tree import DecisionTreeClassifier\n",
    "from sklearn.linear_model import LogisticRegression\n",
    "from xgboost import XGBClassifier\n",
    "from sklearn.svm import SVC\n",
    "from sklearn.neighbors import KNeighborsClassifier\n",
    "from lightgbm import LGBMClassifier\n",
    "from catboost import CatBoostClassifier\n",
    "from sklearn.naive_bayes import GaussianNB\n",
    "from sklearn.model_selection import train_test_split, RandomizedSearchCV\n",
    "from sklearn.metrics import accuracy_score, roc_curve, auc, mean_squared_error, f1_score, roc_auc_score, log_loss\n",
    "from sklearn.calibration import CalibratedClassifierCV\n",
    "#杂项\n",
    "import time\n",
    "from tqdm import tqdm\n",
    "import warnings\n",
    "warnings.filterwarnings('ignore')\n"
   ]
  },
  {
   "cell_type": "markdown",
   "id": "b3add4e1",
   "metadata": {},
   "source": [
    "# 1.1 Loading the data"
   ]
  },
  {
   "cell_type": "code",
   "execution_count": 3,
   "id": "48b4aae2",
   "metadata": {},
   "outputs": [],
   "source": [
    "train = pd.read_csv(\"../data/input/train.csv\")\n",
    "test = pd.read_csv(\"../data/input/test.csv\")\n",
    "sample = pd.read_csv(\"../data/input/sample_submission.csv\")"
   ]
  },
  {
   "cell_type": "markdown",
   "id": "e0e49189",
   "metadata": {},
   "source": [
    "## 1.2 Description of data set 数据集描述\n",
    "您将获得一个包含大量数字变量的匿名数据集。\n",
    "\n",
    "- “Target”列是要预测的变量。不满意的客户为 1，满意的客户为 0。\n",
    "- 任务是预测测试集中每个客户是不满意客户的概率。\n",
    "- 369 个匿名特征"
   ]
  },
  {
   "cell_type": "code",
   "execution_count": 4,
   "id": "955aa833",
   "metadata": {},
   "outputs": [
    {
     "data": {
      "text/html": [
       "<div>\n",
       "<style scoped>\n",
       "    .dataframe tbody tr th:only-of-type {\n",
       "        vertical-align: middle;\n",
       "    }\n",
       "\n",
       "    .dataframe tbody tr th {\n",
       "        vertical-align: top;\n",
       "    }\n",
       "\n",
       "    .dataframe thead th {\n",
       "        text-align: right;\n",
       "    }\n",
       "</style>\n",
       "<table border=\"1\" class=\"dataframe\">\n",
       "  <thead>\n",
       "    <tr style=\"text-align: right;\">\n",
       "      <th></th>\n",
       "      <th>ID</th>\n",
       "      <th>var3</th>\n",
       "      <th>var15</th>\n",
       "      <th>imp_ent_var16_ult1</th>\n",
       "      <th>imp_op_var39_comer_ult1</th>\n",
       "      <th>imp_op_var39_comer_ult3</th>\n",
       "      <th>imp_op_var40_comer_ult1</th>\n",
       "      <th>imp_op_var40_comer_ult3</th>\n",
       "      <th>imp_op_var40_efect_ult1</th>\n",
       "      <th>imp_op_var40_efect_ult3</th>\n",
       "      <th>...</th>\n",
       "      <th>saldo_medio_var33_hace2</th>\n",
       "      <th>saldo_medio_var33_hace3</th>\n",
       "      <th>saldo_medio_var33_ult1</th>\n",
       "      <th>saldo_medio_var33_ult3</th>\n",
       "      <th>saldo_medio_var44_hace2</th>\n",
       "      <th>saldo_medio_var44_hace3</th>\n",
       "      <th>saldo_medio_var44_ult1</th>\n",
       "      <th>saldo_medio_var44_ult3</th>\n",
       "      <th>var38</th>\n",
       "      <th>TARGET</th>\n",
       "    </tr>\n",
       "  </thead>\n",
       "  <tbody>\n",
       "    <tr>\n",
       "      <th>0</th>\n",
       "      <td>1</td>\n",
       "      <td>2</td>\n",
       "      <td>23</td>\n",
       "      <td>0.0</td>\n",
       "      <td>0.0</td>\n",
       "      <td>0.0</td>\n",
       "      <td>0.0</td>\n",
       "      <td>0.0</td>\n",
       "      <td>0.0</td>\n",
       "      <td>0.0</td>\n",
       "      <td>...</td>\n",
       "      <td>0.0</td>\n",
       "      <td>0.0</td>\n",
       "      <td>0.0</td>\n",
       "      <td>0.0</td>\n",
       "      <td>0.0</td>\n",
       "      <td>0.0</td>\n",
       "      <td>0.0</td>\n",
       "      <td>0.0</td>\n",
       "      <td>39205.170000</td>\n",
       "      <td>0</td>\n",
       "    </tr>\n",
       "    <tr>\n",
       "      <th>1</th>\n",
       "      <td>3</td>\n",
       "      <td>2</td>\n",
       "      <td>34</td>\n",
       "      <td>0.0</td>\n",
       "      <td>0.0</td>\n",
       "      <td>0.0</td>\n",
       "      <td>0.0</td>\n",
       "      <td>0.0</td>\n",
       "      <td>0.0</td>\n",
       "      <td>0.0</td>\n",
       "      <td>...</td>\n",
       "      <td>0.0</td>\n",
       "      <td>0.0</td>\n",
       "      <td>0.0</td>\n",
       "      <td>0.0</td>\n",
       "      <td>0.0</td>\n",
       "      <td>0.0</td>\n",
       "      <td>0.0</td>\n",
       "      <td>0.0</td>\n",
       "      <td>49278.030000</td>\n",
       "      <td>0</td>\n",
       "    </tr>\n",
       "    <tr>\n",
       "      <th>2</th>\n",
       "      <td>4</td>\n",
       "      <td>2</td>\n",
       "      <td>23</td>\n",
       "      <td>0.0</td>\n",
       "      <td>0.0</td>\n",
       "      <td>0.0</td>\n",
       "      <td>0.0</td>\n",
       "      <td>0.0</td>\n",
       "      <td>0.0</td>\n",
       "      <td>0.0</td>\n",
       "      <td>...</td>\n",
       "      <td>0.0</td>\n",
       "      <td>0.0</td>\n",
       "      <td>0.0</td>\n",
       "      <td>0.0</td>\n",
       "      <td>0.0</td>\n",
       "      <td>0.0</td>\n",
       "      <td>0.0</td>\n",
       "      <td>0.0</td>\n",
       "      <td>67333.770000</td>\n",
       "      <td>0</td>\n",
       "    </tr>\n",
       "    <tr>\n",
       "      <th>3</th>\n",
       "      <td>8</td>\n",
       "      <td>2</td>\n",
       "      <td>37</td>\n",
       "      <td>0.0</td>\n",
       "      <td>195.0</td>\n",
       "      <td>195.0</td>\n",
       "      <td>0.0</td>\n",
       "      <td>0.0</td>\n",
       "      <td>0.0</td>\n",
       "      <td>0.0</td>\n",
       "      <td>...</td>\n",
       "      <td>0.0</td>\n",
       "      <td>0.0</td>\n",
       "      <td>0.0</td>\n",
       "      <td>0.0</td>\n",
       "      <td>0.0</td>\n",
       "      <td>0.0</td>\n",
       "      <td>0.0</td>\n",
       "      <td>0.0</td>\n",
       "      <td>64007.970000</td>\n",
       "      <td>0</td>\n",
       "    </tr>\n",
       "    <tr>\n",
       "      <th>4</th>\n",
       "      <td>10</td>\n",
       "      <td>2</td>\n",
       "      <td>39</td>\n",
       "      <td>0.0</td>\n",
       "      <td>0.0</td>\n",
       "      <td>0.0</td>\n",
       "      <td>0.0</td>\n",
       "      <td>0.0</td>\n",
       "      <td>0.0</td>\n",
       "      <td>0.0</td>\n",
       "      <td>...</td>\n",
       "      <td>0.0</td>\n",
       "      <td>0.0</td>\n",
       "      <td>0.0</td>\n",
       "      <td>0.0</td>\n",
       "      <td>0.0</td>\n",
       "      <td>0.0</td>\n",
       "      <td>0.0</td>\n",
       "      <td>0.0</td>\n",
       "      <td>117310.979016</td>\n",
       "      <td>0</td>\n",
       "    </tr>\n",
       "  </tbody>\n",
       "</table>\n",
       "<p>5 rows × 371 columns</p>\n",
       "</div>"
      ],
      "text/plain": [
       "   ID  var3  var15  imp_ent_var16_ult1  imp_op_var39_comer_ult1  \\\n",
       "0   1     2     23                 0.0                      0.0   \n",
       "1   3     2     34                 0.0                      0.0   \n",
       "2   4     2     23                 0.0                      0.0   \n",
       "3   8     2     37                 0.0                    195.0   \n",
       "4  10     2     39                 0.0                      0.0   \n",
       "\n",
       "   imp_op_var39_comer_ult3  imp_op_var40_comer_ult1  imp_op_var40_comer_ult3  \\\n",
       "0                      0.0                      0.0                      0.0   \n",
       "1                      0.0                      0.0                      0.0   \n",
       "2                      0.0                      0.0                      0.0   \n",
       "3                    195.0                      0.0                      0.0   \n",
       "4                      0.0                      0.0                      0.0   \n",
       "\n",
       "   imp_op_var40_efect_ult1  imp_op_var40_efect_ult3  ...  \\\n",
       "0                      0.0                      0.0  ...   \n",
       "1                      0.0                      0.0  ...   \n",
       "2                      0.0                      0.0  ...   \n",
       "3                      0.0                      0.0  ...   \n",
       "4                      0.0                      0.0  ...   \n",
       "\n",
       "   saldo_medio_var33_hace2  saldo_medio_var33_hace3  saldo_medio_var33_ult1  \\\n",
       "0                      0.0                      0.0                     0.0   \n",
       "1                      0.0                      0.0                     0.0   \n",
       "2                      0.0                      0.0                     0.0   \n",
       "3                      0.0                      0.0                     0.0   \n",
       "4                      0.0                      0.0                     0.0   \n",
       "\n",
       "   saldo_medio_var33_ult3  saldo_medio_var44_hace2  saldo_medio_var44_hace3  \\\n",
       "0                     0.0                      0.0                      0.0   \n",
       "1                     0.0                      0.0                      0.0   \n",
       "2                     0.0                      0.0                      0.0   \n",
       "3                     0.0                      0.0                      0.0   \n",
       "4                     0.0                      0.0                      0.0   \n",
       "\n",
       "   saldo_medio_var44_ult1  saldo_medio_var44_ult3          var38  TARGET  \n",
       "0                     0.0                     0.0   39205.170000       0  \n",
       "1                     0.0                     0.0   49278.030000       0  \n",
       "2                     0.0                     0.0   67333.770000       0  \n",
       "3                     0.0                     0.0   64007.970000       0  \n",
       "4                     0.0                     0.0  117310.979016       0  \n",
       "\n",
       "[5 rows x 371 columns]"
      ]
     },
     "execution_count": 4,
     "metadata": {},
     "output_type": "execute_result"
    }
   ],
   "source": [
    "train.head()"
   ]
  },
  {
   "cell_type": "code",
   "execution_count": 5,
   "id": "07882e89",
   "metadata": {},
   "outputs": [
    {
     "data": {
      "text/html": [
       "<div>\n",
       "<style scoped>\n",
       "    .dataframe tbody tr th:only-of-type {\n",
       "        vertical-align: middle;\n",
       "    }\n",
       "\n",
       "    .dataframe tbody tr th {\n",
       "        vertical-align: top;\n",
       "    }\n",
       "\n",
       "    .dataframe thead th {\n",
       "        text-align: right;\n",
       "    }\n",
       "</style>\n",
       "<table border=\"1\" class=\"dataframe\">\n",
       "  <thead>\n",
       "    <tr style=\"text-align: right;\">\n",
       "      <th></th>\n",
       "      <th>ID</th>\n",
       "      <th>var3</th>\n",
       "      <th>var15</th>\n",
       "      <th>imp_ent_var16_ult1</th>\n",
       "      <th>imp_op_var39_comer_ult1</th>\n",
       "      <th>imp_op_var39_comer_ult3</th>\n",
       "      <th>imp_op_var40_comer_ult1</th>\n",
       "      <th>imp_op_var40_comer_ult3</th>\n",
       "      <th>imp_op_var40_efect_ult1</th>\n",
       "      <th>imp_op_var40_efect_ult3</th>\n",
       "      <th>...</th>\n",
       "      <th>saldo_medio_var29_ult3</th>\n",
       "      <th>saldo_medio_var33_hace2</th>\n",
       "      <th>saldo_medio_var33_hace3</th>\n",
       "      <th>saldo_medio_var33_ult1</th>\n",
       "      <th>saldo_medio_var33_ult3</th>\n",
       "      <th>saldo_medio_var44_hace2</th>\n",
       "      <th>saldo_medio_var44_hace3</th>\n",
       "      <th>saldo_medio_var44_ult1</th>\n",
       "      <th>saldo_medio_var44_ult3</th>\n",
       "      <th>var38</th>\n",
       "    </tr>\n",
       "  </thead>\n",
       "  <tbody>\n",
       "    <tr>\n",
       "      <th>0</th>\n",
       "      <td>2</td>\n",
       "      <td>2</td>\n",
       "      <td>32</td>\n",
       "      <td>0.0</td>\n",
       "      <td>0.0</td>\n",
       "      <td>0.0</td>\n",
       "      <td>0.0</td>\n",
       "      <td>0.0</td>\n",
       "      <td>0.0</td>\n",
       "      <td>0.0</td>\n",
       "      <td>...</td>\n",
       "      <td>0.0</td>\n",
       "      <td>0.0</td>\n",
       "      <td>0.0</td>\n",
       "      <td>0.0</td>\n",
       "      <td>0.0</td>\n",
       "      <td>0.0</td>\n",
       "      <td>0.0</td>\n",
       "      <td>0.0</td>\n",
       "      <td>0.0</td>\n",
       "      <td>40532.10</td>\n",
       "    </tr>\n",
       "    <tr>\n",
       "      <th>1</th>\n",
       "      <td>5</td>\n",
       "      <td>2</td>\n",
       "      <td>35</td>\n",
       "      <td>0.0</td>\n",
       "      <td>0.0</td>\n",
       "      <td>0.0</td>\n",
       "      <td>0.0</td>\n",
       "      <td>0.0</td>\n",
       "      <td>0.0</td>\n",
       "      <td>0.0</td>\n",
       "      <td>...</td>\n",
       "      <td>0.0</td>\n",
       "      <td>0.0</td>\n",
       "      <td>0.0</td>\n",
       "      <td>0.0</td>\n",
       "      <td>0.0</td>\n",
       "      <td>0.0</td>\n",
       "      <td>0.0</td>\n",
       "      <td>0.0</td>\n",
       "      <td>0.0</td>\n",
       "      <td>45486.72</td>\n",
       "    </tr>\n",
       "    <tr>\n",
       "      <th>2</th>\n",
       "      <td>6</td>\n",
       "      <td>2</td>\n",
       "      <td>23</td>\n",
       "      <td>0.0</td>\n",
       "      <td>0.0</td>\n",
       "      <td>0.0</td>\n",
       "      <td>0.0</td>\n",
       "      <td>0.0</td>\n",
       "      <td>0.0</td>\n",
       "      <td>0.0</td>\n",
       "      <td>...</td>\n",
       "      <td>0.0</td>\n",
       "      <td>0.0</td>\n",
       "      <td>0.0</td>\n",
       "      <td>0.0</td>\n",
       "      <td>0.0</td>\n",
       "      <td>0.0</td>\n",
       "      <td>0.0</td>\n",
       "      <td>0.0</td>\n",
       "      <td>0.0</td>\n",
       "      <td>46993.95</td>\n",
       "    </tr>\n",
       "    <tr>\n",
       "      <th>3</th>\n",
       "      <td>7</td>\n",
       "      <td>2</td>\n",
       "      <td>24</td>\n",
       "      <td>0.0</td>\n",
       "      <td>0.0</td>\n",
       "      <td>0.0</td>\n",
       "      <td>0.0</td>\n",
       "      <td>0.0</td>\n",
       "      <td>0.0</td>\n",
       "      <td>0.0</td>\n",
       "      <td>...</td>\n",
       "      <td>0.0</td>\n",
       "      <td>0.0</td>\n",
       "      <td>0.0</td>\n",
       "      <td>0.0</td>\n",
       "      <td>0.0</td>\n",
       "      <td>0.0</td>\n",
       "      <td>0.0</td>\n",
       "      <td>0.0</td>\n",
       "      <td>0.0</td>\n",
       "      <td>187898.61</td>\n",
       "    </tr>\n",
       "    <tr>\n",
       "      <th>4</th>\n",
       "      <td>9</td>\n",
       "      <td>2</td>\n",
       "      <td>23</td>\n",
       "      <td>0.0</td>\n",
       "      <td>0.0</td>\n",
       "      <td>0.0</td>\n",
       "      <td>0.0</td>\n",
       "      <td>0.0</td>\n",
       "      <td>0.0</td>\n",
       "      <td>0.0</td>\n",
       "      <td>...</td>\n",
       "      <td>0.0</td>\n",
       "      <td>0.0</td>\n",
       "      <td>0.0</td>\n",
       "      <td>0.0</td>\n",
       "      <td>0.0</td>\n",
       "      <td>0.0</td>\n",
       "      <td>0.0</td>\n",
       "      <td>0.0</td>\n",
       "      <td>0.0</td>\n",
       "      <td>73649.73</td>\n",
       "    </tr>\n",
       "  </tbody>\n",
       "</table>\n",
       "<p>5 rows × 370 columns</p>\n",
       "</div>"
      ],
      "text/plain": [
       "   ID  var3  var15  imp_ent_var16_ult1  imp_op_var39_comer_ult1  \\\n",
       "0   2     2     32                 0.0                      0.0   \n",
       "1   5     2     35                 0.0                      0.0   \n",
       "2   6     2     23                 0.0                      0.0   \n",
       "3   7     2     24                 0.0                      0.0   \n",
       "4   9     2     23                 0.0                      0.0   \n",
       "\n",
       "   imp_op_var39_comer_ult3  imp_op_var40_comer_ult1  imp_op_var40_comer_ult3  \\\n",
       "0                      0.0                      0.0                      0.0   \n",
       "1                      0.0                      0.0                      0.0   \n",
       "2                      0.0                      0.0                      0.0   \n",
       "3                      0.0                      0.0                      0.0   \n",
       "4                      0.0                      0.0                      0.0   \n",
       "\n",
       "   imp_op_var40_efect_ult1  imp_op_var40_efect_ult3  ...  \\\n",
       "0                      0.0                      0.0  ...   \n",
       "1                      0.0                      0.0  ...   \n",
       "2                      0.0                      0.0  ...   \n",
       "3                      0.0                      0.0  ...   \n",
       "4                      0.0                      0.0  ...   \n",
       "\n",
       "   saldo_medio_var29_ult3  saldo_medio_var33_hace2  saldo_medio_var33_hace3  \\\n",
       "0                     0.0                      0.0                      0.0   \n",
       "1                     0.0                      0.0                      0.0   \n",
       "2                     0.0                      0.0                      0.0   \n",
       "3                     0.0                      0.0                      0.0   \n",
       "4                     0.0                      0.0                      0.0   \n",
       "\n",
       "   saldo_medio_var33_ult1  saldo_medio_var33_ult3  saldo_medio_var44_hace2  \\\n",
       "0                     0.0                     0.0                      0.0   \n",
       "1                     0.0                     0.0                      0.0   \n",
       "2                     0.0                     0.0                      0.0   \n",
       "3                     0.0                     0.0                      0.0   \n",
       "4                     0.0                     0.0                      0.0   \n",
       "\n",
       "   saldo_medio_var44_hace3  saldo_medio_var44_ult1  saldo_medio_var44_ult3  \\\n",
       "0                      0.0                     0.0                     0.0   \n",
       "1                      0.0                     0.0                     0.0   \n",
       "2                      0.0                     0.0                     0.0   \n",
       "3                      0.0                     0.0                     0.0   \n",
       "4                      0.0                     0.0                     0.0   \n",
       "\n",
       "       var38  \n",
       "0   40532.10  \n",
       "1   45486.72  \n",
       "2   46993.95  \n",
       "3  187898.61  \n",
       "4   73649.73  \n",
       "\n",
       "[5 rows x 370 columns]"
      ]
     },
     "execution_count": 5,
     "metadata": {},
     "output_type": "execute_result"
    }
   ],
   "source": [
    "test.head()"
   ]
  },
  {
   "cell_type": "code",
   "execution_count": 6,
   "id": "f188437c",
   "metadata": {},
   "outputs": [
    {
     "data": {
      "text/html": [
       "<div>\n",
       "<style scoped>\n",
       "    .dataframe tbody tr th:only-of-type {\n",
       "        vertical-align: middle;\n",
       "    }\n",
       "\n",
       "    .dataframe tbody tr th {\n",
       "        vertical-align: top;\n",
       "    }\n",
       "\n",
       "    .dataframe thead th {\n",
       "        text-align: right;\n",
       "    }\n",
       "</style>\n",
       "<table border=\"1\" class=\"dataframe\">\n",
       "  <thead>\n",
       "    <tr style=\"text-align: right;\">\n",
       "      <th></th>\n",
       "      <th>ID</th>\n",
       "      <th>TARGET</th>\n",
       "    </tr>\n",
       "  </thead>\n",
       "  <tbody>\n",
       "    <tr>\n",
       "      <th>0</th>\n",
       "      <td>2</td>\n",
       "      <td>0</td>\n",
       "    </tr>\n",
       "    <tr>\n",
       "      <th>1</th>\n",
       "      <td>5</td>\n",
       "      <td>0</td>\n",
       "    </tr>\n",
       "    <tr>\n",
       "      <th>2</th>\n",
       "      <td>6</td>\n",
       "      <td>0</td>\n",
       "    </tr>\n",
       "    <tr>\n",
       "      <th>3</th>\n",
       "      <td>7</td>\n",
       "      <td>0</td>\n",
       "    </tr>\n",
       "    <tr>\n",
       "      <th>4</th>\n",
       "      <td>9</td>\n",
       "      <td>0</td>\n",
       "    </tr>\n",
       "  </tbody>\n",
       "</table>\n",
       "</div>"
      ],
      "text/plain": [
       "   ID  TARGET\n",
       "0   2       0\n",
       "1   5       0\n",
       "2   6       0\n",
       "3   7       0\n",
       "4   9       0"
      ]
     },
     "execution_count": 6,
     "metadata": {},
     "output_type": "execute_result"
    }
   ],
   "source": [
    "sample.head()"
   ]
  },
  {
   "cell_type": "code",
   "execution_count": 7,
   "id": "1a554030",
   "metadata": {
    "scrolled": true
   },
   "outputs": [],
   "source": [
    "train.describe().round(3).T.to_csv('output/train_describe.csv')"
   ]
  },
  {
   "cell_type": "markdown",
   "id": "1acac654",
   "metadata": {},
   "source": [
    "### 结论大多数特性都是0， 需要过滤无用特征和稀疏化特征"
   ]
  },
  {
   "cell_type": "code",
   "execution_count": 8,
   "id": "0b67dd53",
   "metadata": {},
   "outputs": [
    {
     "data": {
      "text/plain": [
       "((76020, 371), (75818, 370), (75818, 2))"
      ]
     },
     "execution_count": 8,
     "metadata": {},
     "output_type": "execute_result"
    }
   ],
   "source": [
    "train.shape, test.shape, sample.shape"
   ]
  },
  {
   "cell_type": "code",
   "execution_count": 9,
   "id": "3a018009",
   "metadata": {},
   "outputs": [
    {
     "name": "stdout",
     "output_type": "stream",
     "text": [
      "Null values in training data is False\n",
      "Null values in testing data is False\n"
     ]
    }
   ],
   "source": [
    "print('Null values in training data is {}'.format(train.isnull().sum().any()))\n",
    "print('Null values in testing data is {}'.format(test.isnull().sum().any()))"
   ]
  },
  {
   "cell_type": "code",
   "execution_count": 10,
   "id": "60d44d25",
   "metadata": {},
   "outputs": [
    {
     "name": "stdout",
     "output_type": "stream",
     "text": [
      "<class 'pandas.core.frame.DataFrame'>\n",
      "RangeIndex: 76020 entries, 0 to 76019\n",
      "Columns: 371 entries, ID to TARGET\n",
      "dtypes: float64(111), int64(260)\n",
      "memory usage: 215.2 MB\n",
      "<class 'pandas.core.frame.DataFrame'>\n",
      "RangeIndex: 75818 entries, 0 to 75817\n",
      "Columns: 370 entries, ID to var38\n",
      "dtypes: float64(110), int64(260)\n",
      "memory usage: 214.0 MB\n"
     ]
    },
    {
     "data": {
      "text/plain": [
       "(None, None)"
      ]
     },
     "execution_count": 10,
     "metadata": {},
     "output_type": "execute_result"
    }
   ],
   "source": [
    "train.info(), test.info()"
   ]
  },
  {
   "cell_type": "markdown",
   "id": "4dc6116c",
   "metadata": {},
   "source": [
    "## 1.3 Preprocessing the data"
   ]
  },
  {
   "cell_type": "markdown",
   "id": "fd55dd2a",
   "metadata": {},
   "source": [
    "### 删除所有只有 1 个唯一值的列(0 方差），因为没什么用"
   ]
  },
  {
   "cell_type": "code",
   "execution_count": 11,
   "id": "aace7510",
   "metadata": {},
   "outputs": [
    {
     "name": "stdout",
     "output_type": "stream",
     "text": [
      "删除的数量:  34\n"
     ]
    }
   ],
   "source": [
    "# Removing all the columns having only 1 unique value.\n",
    "j = 0\n",
    "for col in train.columns:\n",
    "    if train[col].nunique() == 1:\n",
    "        j += 1\n",
    "        # print(i, print(\"删除的columns\"))\n",
    "        #train.drop(i, inplace = True, axis = 1)\n",
    "        #test.drop(i, inplace = True, axis = 1)\n",
    "        del train[col]\n",
    "        del test[col]\n",
    "print('删除的数量: ',j)"
   ]
  },
  {
   "cell_type": "code",
   "execution_count": 12,
   "id": "612393e9",
   "metadata": {},
   "outputs": [
    {
     "name": "stdout",
     "output_type": "stream",
     "text": [
      "删除的数量:  0\n"
     ]
    }
   ],
   "source": [
    "# Removing all the columns having only 1 unique value.\n",
    "j = 0\n",
    "for col in train.columns:\n",
    "    if train[col].var() == 0:\n",
    "        j += 1\n",
    "        # print(i, print(\"删除的columns\"))\n",
    "        #train.drop(i, inplace = True, axis = 1)\n",
    "        #test.drop(i, inplace = True, axis = 1)\n",
    "        del train[col]\n",
    "        del test[col]\n",
    "print('删除的数量: ',j)"
   ]
  },
  {
   "cell_type": "markdown",
   "id": "3fb094c4",
   "metadata": {},
   "source": [
    "### 过滤稀疏特征"
   ]
  },
  {
   "cell_type": "code",
   "execution_count": 13,
   "id": "b8687dd4",
   "metadata": {},
   "outputs": [
    {
     "name": "stdout",
     "output_type": "stream",
     "text": [
      "删除的数量:  188\n"
     ]
    }
   ],
   "source": [
    "i= 0\n",
    "for col in train.columns:\n",
    "    if np.percentile(train[col],99) == 0:\n",
    "        i += 1\n",
    "        train.drop(col, inplace = True, axis = 1)\n",
    "        test.drop(col, inplace = True, axis = 1)\n",
    "print('删除的数量: ',i)"
   ]
  },
  {
   "cell_type": "code",
   "execution_count": 14,
   "id": "9c67d98c",
   "metadata": {},
   "outputs": [
    {
     "name": "stdout",
     "output_type": "stream",
     "text": [
      "[('ID', 'var3'), ('ID', 'var15'), ('ID', 'imp_ent_var16_ult1'), ('ID', 'imp_op_var39_comer_ult1'), ('ID', 'imp_op_var39_comer_ult3'), ('ID', 'imp_op_var41_comer_ult1'), ('ID', 'imp_op_var41_comer_ult3'), ('ID', 'imp_op_var41_efect_ult1'), ('ID', 'imp_op_var41_efect_ult3'), ('ID', 'imp_op_var41_ult1'), ('ID', 'imp_op_var39_efect_ult1'), ('ID', 'imp_op_var39_efect_ult3'), ('ID', 'imp_op_var39_ult1'), ('ID', 'ind_var1_0'), ('ID', 'ind_var5_0'), ('ID', 'ind_var5'), ('ID', 'ind_var8_0'), ('ID', 'ind_var8'), ('ID', 'ind_var12_0'), ('ID', 'ind_var12')]\n",
      "11026\n",
      "12 个特征是重复的, 删除6 个\n",
      "其中特征 ['ind_var26_0', 'ind_var25_0', 'ind_var37_0', 'num_var26_0', 'num_var25_0', 'num_var37_0'] 被删除\t 6 个特征被保留\n"
     ]
    }
   ],
   "source": [
    "combinations = list(itertools.combinations(train.columns,2))\n",
    "print(combinations[:20])\n",
    "print(len(combinations))\n",
    "\n",
    "remove =[]\n",
    "keep = []\n",
    "for f1, f2 in combinations:\n",
    "    if (f1 not in remove) & (f2 not in remove):\n",
    "        if train[f1].equals(train[f2]):\n",
    "            remove.append(f1)\n",
    "            keep.append(f2)\n",
    "train.drop(remove, axis = 1, inplace = True)\n",
    "test.drop(remove, axis = 1, inplace = True)\n",
    "print(\"%i 个特征是重复的, 删除%i 个\" % (len(remove)*2, len(remove)))\n",
    "print(\"其中特征 %s 被删除\\t %i 个特征被保留\" %(remove, len(keep)))\n",
    "\n",
    "del remove\n",
    "del keep\n",
    "del combinations"
   ]
  },
  {
   "cell_type": "code",
   "execution_count": 15,
   "id": "f68c097f",
   "metadata": {},
   "outputs": [
    {
     "data": {
      "text/plain": [
       "((76020, 143), (75818, 142))"
      ]
     },
     "execution_count": 15,
     "metadata": {},
     "output_type": "execute_result"
    }
   ],
   "source": [
    "train.shape, test.shape"
   ]
  },
  {
   "cell_type": "markdown",
   "id": "f735d9ce",
   "metadata": {},
   "source": [
    "# 2. EDA 探索性数据分析"
   ]
  },
  {
   "cell_type": "markdown",
   "id": "be7a2711",
   "metadata": {},
   "source": [
    "## 2.1 粗略看一下"
   ]
  },
  {
   "cell_type": "code",
   "execution_count": 16,
   "id": "da2f0a17",
   "metadata": {},
   "outputs": [
    {
     "data": {
      "image/png": "[encoded data removed]",
      "text/plain": [
       "<Figure size 2520x2520 with 50 Axes>"
      ]
     },
     "metadata": {
      "needs_background": "light"
     },
     "output_type": "display_data"
    }
   ],
   "source": [
    "plt.figure(figsize = (35,35))\n",
    "for i in range (50):\n",
    "    plt.subplot(10, 10, i+1)\n",
    "    sns.boxplot(train.iloc[:,i])\n",
    "    plt.xlabel(train.columns[i], size = 10)"
   ]
  },
  {
   "cell_type": "markdown",
   "id": "2b4d60f5",
   "metadata": {},
   "source": [
    "重点var15"
   ]
  },
  {
   "cell_type": "markdown",
   "id": "9e723532",
   "metadata": {},
   "source": [
    "### 2.2 绘图函数"
   ]
  },
  {
   "cell_type": "code",
   "execution_count": 17,
   "id": "489b3eae",
   "metadata": {},
   "outputs": [],
   "source": [
    "def countplot_target(df, h = 500):\n",
    "    \"\"\"\n",
    "    频率分布，满意客户和不满意客户的数量\n",
    "    h:高度\n",
    "    \"\"\"\n",
    "    plt.figure(figsize = (8,5))\n",
    "    plt.rcParams[\"font.sans-serif\"] = ['SimHei']\n",
    "    plt.rcParams[\"axes.unicode_minus\"] = False\n",
    "    \n",
    "    ax = sns.countplot(x='TARGET', data = df)\n",
    "    for p in ax.patches:\n",
    "        height = p.get_height()\n",
    "        ax.text(p.get_x() + p.get_width()/2, height + h,\n",
    "               '{:1.2f}%'.format(height*100/df.shape[0]), ha = \"center\")\n",
    "                \n",
    "    plt.title(\"Target变量的频率分布图\")\n",
    "    print(\"满意客户的数量为%i, 不满意客户的数量为 %i\" %\n",
    "          (df[df['TARGET'] == 0].shape[0], df[df['TARGET'] == 1].shape[0]))\n",
    "    plt.show()\n",
    "    \n",
    "\n",
    "                                                  \n",
    "    "
   ]
  },
  {
   "cell_type": "code",
   "execution_count": 18,
   "id": "735716a7",
   "metadata": {},
   "outputs": [],
   "source": [
    "def histplot_comb(col, train = train, test=test, size = (20,5), bins = 20):\n",
    "    \"\"\"\n",
    "    绘制训练集和测试集某一特征的直方图\n",
    "    \"\"\"\n",
    "    \n",
    "    plt.subplots(1,2, figsize =size)\n",
    "    plt.subplot(121)\n",
    "    plt.title(\"训练集特征{}的分布\".format(col))\n",
    "    plt.ylabel(\"频数\")\n",
    "    plt.xlabel(col)\n",
    "    plt.hist(train[col], bins = bins)\n",
    "    \n",
    "    plt.subplot(122)\n",
    "    plt.title(\"训练集特征{}的分布\".format(col))\n",
    "    plt.ylabel(\"频数\")\n",
    "    plt.xlabel(col)\n",
    "    plt.hist(test[col], bins = bins)\n",
    "    "
   ]
  },
  {
   "cell_type": "code",
   "execution_count": 19,
   "id": "aae75b45",
   "metadata": {},
   "outputs": [],
   "source": [
    "def valuecounts_plot(col, train=train, test = test):\n",
    "    \"\"\"\n",
    "    绘制训练集和测试集特定列的频数分布折线图，并输出出现百分比最高的前五个值和最低的前五个值\n",
    "    \"\"\"\n",
    "    plt.subplots(1,2,figsize=(15,6))\n",
    "    plt.subplot(121)\n",
    "    df = train[col].value_counts().sort_index()\n",
    "    sns.lineplot(x=df.index, y =df.values)\n",
    "    plt.title(\"%s的频率分布折线图\" % (col))\n",
    "    plt.ylabel(\"频数\")\n",
    "    \n",
    "    plt.subplot(122)\n",
    "    df = test[col].value_counts().sort_index()\n",
    "    sns.lineplot(x=df.index, y=df.values)\n",
    "    plt.title(\"%s的频数分布折线图\" % (col))\n",
    "    plt.ylabel('频数')\n",
    "    \n",
    "    plt.tight_layout()\n",
    "    plt.show()\n",
    "    \n",
    "    print(\"*\"*100)\n",
    "    print(\"训练集特征 '%s'其值占比top5：\" % (col))\n",
    "    print(\"值\\t 占比%\")\n",
    "    print((train[col].value_counts()*100/train.shape[0]).iloc[:5])\n",
    "    print(\"*\"*100)\n",
    "    print(\"训练集特征 '%s'其值占比bottom5：\" % (col))\n",
    "    print(\"值\\t 占比%\")\n",
    "    print((train[col].value_counts()*100/train.shape[0]).iloc[-5:])\n",
    "    \n",
    "    print(\"*\"*100)\n",
    "    print(\"测试集特征 '%s'其值占比top5：\" % (col))\n",
    "    print(\"值\\t 占比%\")\n",
    "    print((test[col].value_counts()*100/train.shape[0]).iloc[:5])\n",
    "    print(\"*\"*100)\n",
    "    print(\"测试集特征 '%s'其值占比bottom5：\" % (col))\n",
    "    print(\"值\\t 占比%\")\n",
    "    print((test[col].value_counts()*100/train.shape[0]).iloc[-5:])"
   ]
  },
  {
   "cell_type": "code",
   "execution_count": 20,
   "id": "0e018425",
   "metadata": {},
   "outputs": [],
   "source": [
    "def histplot_target(col, df = train, height = 6, bins = 20):\n",
    "    \"\"\"\n",
    "    绘制数据集特征列再不同目标变量下的频数分布图\n",
    "    \"\"\"\n",
    "    sns.FacetGrid(data =df, hue='TARGET', height=height).map(plt.hist, col,bins=bins).add_legend()\n",
    "    plt.title(\"特征%s在不同目标变量下的频数分布\" %(col))\n",
    "    plt.ylabel(\"频数\")\n",
    "    plt.show()"
   ]
  },
  {
   "cell_type": "code",
   "execution_count": 21,
   "id": "16eee3be",
   "metadata": {},
   "outputs": [
    {
     "name": "stdout",
     "output_type": "stream",
     "text": [
      "满意客户的数量为73012, 不满意客户的数量为 3008\n"
     ]
    },
    {
     "data": {
      "image/png": "[encoded data removed]",
      "text/plain": [
       "<Figure size 576x360 with 1 Axes>"
      ]
     },
     "metadata": {
      "needs_background": "light"
     },
     "output_type": "display_data"
    }
   ],
   "source": [
    "countplot_target(train)"
   ]
  },
  {
   "cell_type": "markdown",
   "id": "4ddc2d04",
   "metadata": {},
   "source": [
    "#### var_3 分析， 可能是国家，-9999缺失值"
   ]
  },
  {
   "cell_type": "code",
   "execution_count": 22,
   "id": "50286fee",
   "metadata": {},
   "outputs": [
    {
     "data": {
      "text/plain": [
       "array([-999999,       0,       1,       2,       3,       4,       5,\n",
       "             6,       7,       8,       9,      10,      11,      12,\n",
       "            13,      14,      15,      16,      17,      18,      19,\n",
       "            20,      21,      22,      23,      24,      25,      26,\n",
       "            27,      28,      29,      30,      31,      32,      33,\n",
       "            34,      35,      36,      38,      40,      41,      42,\n",
       "            43,      44,      45,      46,      47,      48,      49,\n",
       "            50,      51,      52,      53,      54,      55,      56,\n",
       "            57,      58,      59,      60,      61,      62,      63,\n",
       "            64,      65,      66,      68,      69,      71,      72,\n",
       "            73,      74,      76,      77,      78,      79,      81,\n",
       "            82,      84,      85,      86,      87,      88,      89,\n",
       "            90,      91,      93,      94,      95,      96,      97,\n",
       "            98,      99,     100,     101,     102,     103,     104,\n",
       "           105,     106,     107,     108,     110,     111,     112,\n",
       "           114,     115,     116,     117,     118,     119,     120,\n",
       "           121,     122,     124,     125,     126,     127,     128,\n",
       "           129,     130,     131,     132,     133,     134,     135,\n",
       "           136,     137,     138,     139,     141,     142,     143,\n",
       "           144,     145,     146,     147,     148,     149,     150,\n",
       "           151,     152,     153,     154,     156,     157,     158,\n",
       "           159,     161,     162,     163,     164,     165,     166,\n",
       "           167,     168,     169,     170,     171,     172,     173,\n",
       "           174,     175,     176,     177,     178,     181,     182,\n",
       "           183,     184,     185,     186,     187,     188,     189,\n",
       "           190,     191,     192,     193,     194,     195,     196,\n",
       "           197,     198,     199,     200,     201,     204,     205,\n",
       "           207,     208,     209,     210,     211,     213,     215,\n",
       "           216,     217,     218,     219,     220,     223,     225,\n",
       "           228,     229,     231,     235,     238], dtype=int64)"
      ]
     },
     "execution_count": 22,
     "metadata": {},
     "output_type": "execute_result"
    }
   ],
   "source": [
    "# var_3\n",
    "np.array(sorted(train.var3.unique()))"
   ]
  },
  {
   "cell_type": "code",
   "execution_count": 23,
   "id": "62e70317",
   "metadata": {},
   "outputs": [
    {
     "name": "stdout",
     "output_type": "stream",
     "text": [
      "值\t 计数\t 训练\n",
      " 2         74165\n",
      " 8           138\n",
      "-999999      116\n",
      " 9           110\n",
      " 3           108\n",
      "Name: var3, dtype: int64\n",
      "值\t 占比%\t 训练\n",
      " 2         97.559853\n",
      " 8          0.181531\n",
      "-999999     0.152591\n",
      " 9          0.144699\n",
      " 3          0.142068\n",
      "Name: var3, dtype: float64\n",
      "值\t 计数\t 测试\n",
      " 2         73962\n",
      "-999999      120\n",
      " 8           116\n",
      " 9           108\n",
      " 13          107\n",
      "Name: var3, dtype: int64\n",
      "值\t 占比%\t 测试\n",
      " 2         97.292818\n",
      "-999999     0.157853\n",
      " 8          0.152591\n",
      " 9          0.142068\n",
      " 13         0.140752\n",
      "Name: var3, dtype: float64\n"
     ]
    }
   ],
   "source": [
    "print('值\\t 计数\\t 训练')\n",
    "print(train.var3.value_counts()[:5])\n",
    "\n",
    "print('值\\t 占比%\\t 训练')\n",
    "print(train.var3.value_counts()[:5]/train.shape[0]*100)\n",
    "\n",
    "print('值\\t 计数\\t 测试')\n",
    "print(test.var3.value_counts()[:5])\n",
    "\n",
    "print('值\\t 占比%\\t 测试')\n",
    "print(test.var3.value_counts()[:5]/train.shape[0]*100)"
   ]
  },
  {
   "cell_type": "markdown",
   "id": "41b78aef",
   "metadata": {},
   "source": [
    "将-9999 替换为2"
   ]
  },
  {
   "cell_type": "code",
   "execution_count": 24,
   "id": "30ce9ec0",
   "metadata": {},
   "outputs": [],
   "source": [
    "train['var3'].replace(-999999,2, inplace= True)\n",
    "test['var3'].replace(-999999,2, inplace= True)"
   ]
  },
  {
   "cell_type": "code",
   "execution_count": 25,
   "id": "92bf4be0",
   "metadata": {},
   "outputs": [
    {
     "name": "stdout",
     "output_type": "stream",
     "text": [
      "满意客户的数量为71328, 不满意客户的数量为 2953\n"
     ]
    },
    {
     "data": {
      "image/png": "[encoded data removed]",
      "text/plain": [
       "<Figure size 576x360 with 1 Axes>"
      ]
     },
     "metadata": {
      "needs_background": "light"
     },
     "output_type": "display_data"
    },
    {
     "name": "stdout",
     "output_type": "stream",
     "text": [
      "满意客户的数量为1684, 不满意客户的数量为 55\n"
     ]
    },
    {
     "data": {
      "image/png": "[encoded data removed]",
      "text/plain": [
       "<Figure size 576x360 with 1 Axes>"
      ]
     },
     "metadata": {
      "needs_background": "light"
     },
     "output_type": "display_data"
    }
   ],
   "source": [
    "countplot_target(train[train['var3'] == 2], h =20)\n",
    "countplot_target(train[train['var3'] != 2], h =20)"
   ]
  },
  {
   "cell_type": "markdown",
   "id": "d8f98c0b",
   "metadata": {},
   "source": [
    "#### var15(age)"
   ]
  },
  {
   "cell_type": "code",
   "execution_count": 26,
   "id": "84281742",
   "metadata": {},
   "outputs": [
    {
     "name": "stdout",
     "output_type": "stream",
     "text": [
      "最大值为 105, 最小值为 5\n"
     ]
    }
   ],
   "source": [
    "print(\"最大值为 %i, 最小值为 %i\" %(train['var15'].max(), train['var15'].min()))"
   ]
  },
  {
   "cell_type": "code",
   "execution_count": 27,
   "id": "fcd02408",
   "metadata": {},
   "outputs": [
    {
     "name": "stdout",
     "output_type": "stream",
     "text": [
      "训练集中年龄在30岁以下的客户占所有数据的 56.15%\n",
      "训练集中年龄在30岁以下的客户占所有数据的 56.58%\n"
     ]
    },
    {
     "data": {
      "image/png": "[encoded data removed]",
      "text/plain": [
       "<Figure size 1440x360 with 2 Axes>"
      ]
     },
     "metadata": {
      "needs_background": "light"
     },
     "output_type": "display_data"
    }
   ],
   "source": [
    "histplot_comb('var15')\n",
    "print(\"训练集中年龄在30岁以下的客户占所有数据的 %.2f%%\" % (stats.percentileofscore(train['var15'].values, 30)))\n",
    "print(\"训练集中年龄在30岁以下的客户占所有数据的 %.2f%%\" % (stats.percentileofscore(test['var15'].values, 30)))"
   ]
  },
  {
   "cell_type": "code",
   "execution_count": 28,
   "id": "d2ddf804",
   "metadata": {},
   "outputs": [
    {
     "data": {
      "image/png": "[encoded data removed]",
      "text/plain": [
       "<Figure size 473x432 with 1 Axes>"
      ]
     },
     "metadata": {
      "needs_background": "light"
     },
     "output_type": "display_data"
    },
    {
     "data": {
      "image/png": "[encoded data removed]",
      "text/plain": [
       "<Figure size 576x360 with 1 Axes>"
      ]
     },
     "metadata": {
      "needs_background": "light"
     },
     "output_type": "display_data"
    }
   ],
   "source": [
    "ax= histplot_target('var15', bins=10)\n",
    "\n",
    "plt.figure(figsize = (8,5))\n",
    "mask = train[(train['TARGET'] == 1)]\n",
    "\n",
    "plt.hist(mask['var15'], color='orange')\n",
    "plt.title('特征var15在target=1下的频数分布')\n",
    "plt.xlabel('var15')\n",
    "plt.show()"
   ]
  },
  {
   "cell_type": "markdown",
   "id": "02cdecaa",
   "metadata": {},
   "source": [
    "从上图可以看出，不满意客户的年龄是23-102岁，我们可以创建一个新特征，用来判断客户是否小于23岁"
   ]
  },
  {
   "cell_type": "code",
   "execution_count": 29,
   "id": "5d1ca6c7",
   "metadata": {},
   "outputs": [],
   "source": [
    "for df in [train, test]:\n",
    "    df['var15_below23'] = np.zeros(df.shape[0], dtype = int)\n",
    "    df.loc[df['var15'] <23, 'var15_below23'] = 1"
   ]
  },
  {
   "cell_type": "markdown",
   "id": "8d9f00b2",
   "metadata": {},
   "source": [
    "将var15离散化，有助于2分类"
   ]
  },
  {
   "cell_type": "code",
   "execution_count": 30,
   "id": "16a8ad76",
   "metadata": {},
   "outputs": [
    {
     "name": "stdout",
     "output_type": "stream",
     "text": [
      "[(4.9, 25.0], (25.0, 45.0], (4.9, 25.0], (25.0, 45.0], (25.0, 45.0], ..., (45.0, 65.0], (25.0, 45.0], (4.9, 25.0], (4.9, 25.0], (45.0, 65.0]]\n",
      "Length: 76020\n",
      "Categories (5, interval[float64, right]): [(4.9, 25.0] < (25.0, 45.0] < (45.0, 65.0] < (65.0, 85.0] < (85.0, 105.0]]\n"
     ]
    }
   ],
   "source": [
    "_,bins = pd.cut(train['var15'].values, 5, retbins=True)\n",
    "print(_)"
   ]
  },
  {
   "cell_type": "code",
   "execution_count": 31,
   "id": "001a4161",
   "metadata": {},
   "outputs": [
    {
     "data": {
      "text/plain": [
       "0        0\n",
       "1        1\n",
       "2        0\n",
       "3        1\n",
       "4        1\n",
       "        ..\n",
       "76015    2\n",
       "76016    1\n",
       "76017    0\n",
       "76018    0\n",
       "76019    2\n",
       "Name: var15, Length: 76020, dtype: int64"
      ]
     },
     "execution_count": 31,
     "metadata": {},
     "output_type": "execute_result"
    }
   ],
   "source": [
    "train['var15'] = pd.cut(train['var15'].values, bins, labels=False)\n",
    "test['var15'] = pd.cut(test['var15'].values, bins, labels=False)\n",
    "train['var15']"
   ]
  },
  {
   "cell_type": "code",
   "execution_count": 32,
   "id": "8e240133",
   "metadata": {},
   "outputs": [
    {
     "data": {
      "image/png": "[encoded data removed]",
      "text/plain": [
       "<Figure size 473x432 with 1 Axes>"
      ]
     },
     "metadata": {
      "needs_background": "light"
     },
     "output_type": "display_data"
    }
   ],
   "source": [
    "histplot_target('var15')"
   ]
  },
  {
   "cell_type": "markdown",
   "id": "35cd48cd",
   "metadata": {},
   "source": [
    "#### var38(连续性数据)"
   ]
  },
  {
   "cell_type": "code",
   "execution_count": 33,
   "id": "2e7a9407",
   "metadata": {},
   "outputs": [
    {
     "name": "stdout",
     "output_type": "stream",
     "text": [
      "var38 min: 5163.750, max :22034738.760\n"
     ]
    }
   ],
   "source": [
    "print(\"var38 min: %.3f, max :%.3f\" % (train['var38'].min(), train['var38'].max()))"
   ]
  },
  {
   "cell_type": "code",
   "execution_count": 34,
   "id": "25566a09",
   "metadata": {},
   "outputs": [
    {
     "data": {
      "text/plain": [
       "117310.979016    14868\n",
       "451931.220000       16\n",
       "463625.160000       12\n",
       "288997.440000       11\n",
       "104563.800000       11\n",
       "                 ...  \n",
       "89665.500000         1\n",
       "45876.570000         1\n",
       "151505.640000        1\n",
       "74548.170000         1\n",
       "84278.160000         1\n",
       "Name: var38, Length: 57736, dtype: int64"
      ]
     },
     "execution_count": 34,
     "metadata": {},
     "output_type": "execute_result"
    }
   ],
   "source": [
    "train.var38.value_counts()"
   ]
  },
  {
   "cell_type": "code",
   "execution_count": 35,
   "id": "44df9ba6",
   "metadata": {},
   "outputs": [
    {
     "name": "stdout",
     "output_type": "stream",
     "text": [
      "0 percentile: 5163\n",
      "10 percentile: 48070\n",
      "20 percentile: 61496\n",
      "30 percentile: 74152\n",
      "40 percentile: 88571\n",
      "50 percentile: 106409\n",
      "60 percentile: 117310\n",
      "70 percentile: 117310\n",
      "80 percentile: 132859\n",
      "90 percentile: 182585\n",
      "100 percentile: 22034738\n"
     ]
    }
   ],
   "source": [
    "for i in np.arange(0, 1.1, 0.1):\n",
    "    print(\"%i percentile: %i\" % (i*100, np.quantile(train.var38.values, i)))"
   ]
  },
  {
   "cell_type": "code",
   "execution_count": 36,
   "id": "1bbdc6ab",
   "metadata": {},
   "outputs": [
    {
     "data": {
      "image/png": "[encoded data removed]",
      "text/plain": [
       "<Figure size 473x432 with 1 Axes>"
      ]
     },
     "metadata": {
      "needs_background": "light"
     },
     "output_type": "display_data"
    }
   ],
   "source": [
    "mask = train[train['var38']<= np.quantile(train.var38.values, 0.975)]\n",
    "histplot_target('var38', df = mask, bins =50)"
   ]
  },
  {
   "cell_type": "markdown",
   "id": "a3235907",
   "metadata": {},
   "source": [
    "#### 对var38进行对数变换"
   ]
  },
  {
   "cell_type": "code",
   "execution_count": 37,
   "id": "088d76bf",
   "metadata": {},
   "outputs": [
    {
     "data": {
      "image/png": "[encoded data removed]",
      "text/plain": [
       "<Figure size 473x432 with 1 Axes>"
      ]
     },
     "metadata": {
      "needs_background": "light"
     },
     "output_type": "display_data"
    }
   ],
   "source": [
    "mask['var38'] = np.log(mask.var38).values\n",
    "histplot_target('var38', df = mask, bins =100)"
   ]
  },
  {
   "cell_type": "markdown",
   "id": "402090c8",
   "metadata": {},
   "source": [
    "#### var36 & var 21"
   ]
  },
  {
   "cell_type": "code",
   "execution_count": 38,
   "id": "790b2a95",
   "metadata": {},
   "outputs": [
    {
     "data": {
      "text/plain": [
       "99    30064\n",
       "3     22177\n",
       "1     14664\n",
       "2      8704\n",
       "0       411\n",
       "Name: var36, dtype: int64"
      ]
     },
     "execution_count": 38,
     "metadata": {},
     "output_type": "execute_result"
    }
   ],
   "source": [
    "train.var36.value_counts()"
   ]
  },
  {
   "cell_type": "code",
   "execution_count": 39,
   "id": "e91927c5",
   "metadata": {},
   "outputs": [
    {
     "data": {
      "text/plain": [
       "0        75152\n",
       "900        236\n",
       "1800       206\n",
       "4500        96\n",
       "3000        84\n",
       "7200        62\n",
       "3600        52\n",
       "1500        31\n",
       "6000        27\n",
       "2700        26\n",
       "9000        14\n",
       "1200        12\n",
       "5400         4\n",
       "2400         3\n",
       "18000        2\n",
       "3300         2\n",
       "4200         2\n",
       "5100         2\n",
       "2100         2\n",
       "5700         1\n",
       "10500        1\n",
       "6600         1\n",
       "7500         1\n",
       "30000        1\n",
       "Name: var21, dtype: int64"
      ]
     },
     "execution_count": 39,
     "metadata": {},
     "output_type": "execute_result"
    }
   ],
   "source": [
    "train.var21.value_counts()"
   ]
  },
  {
   "cell_type": "markdown",
   "id": "0079f1c5",
   "metadata": {},
   "source": [
    "### 分析带关键词前缀特征"
   ]
  },
  {
   "cell_type": "code",
   "execution_count": 40,
   "id": "dac20e3e",
   "metadata": {},
   "outputs": [
    {
     "data": {
      "text/plain": [
       "['var3', 'var15', 'var36', 'var21', 'var38', 'var15_below23']"
      ]
     },
     "execution_count": 40,
     "metadata": {},
     "output_type": "execute_result"
    }
   ],
   "source": [
    "import re\n",
    "[col for col in train.columns if col[:3] == 'var']"
   ]
  },
  {
   "cell_type": "code",
   "execution_count": 41,
   "id": "1c3bda22",
   "metadata": {},
   "outputs": [
    {
     "data": {
      "text/plain": [
       "{'imp', 'ind', 'num', 'saldo'}"
      ]
     },
     "execution_count": 41,
     "metadata": {},
     "output_type": "execute_result"
    }
   ],
   "source": [
    "#f_keywords = {col.split(\"_\")[0] for col in train.columns if (len(col.split(\"_\"))>1 ) and ~(\"var\" in  col)}\n",
    "f_keywords = {'imp', 'ind', 'num', 'saldo'}\n",
    "f_keywords"
   ]
  },
  {
   "cell_type": "code",
   "execution_count": 42,
   "id": "fdbe9cde",
   "metadata": {},
   "outputs": [
    {
     "data": {
      "text/plain": [
       "{'saldo': 26, 'num': 64, 'imp': 14, 'ind': 32}"
      ]
     },
     "execution_count": 42,
     "metadata": {},
     "output_type": "execute_result"
    }
   ],
   "source": [
    "f_keywords = dict(zip(f_keywords,np.zeros(len(f_keywords), dtype = int)))\n",
    "\n",
    "for key in f_keywords.keys():\n",
    "    for col in train.columns:\n",
    "        if key in col:\n",
    "            f_keywords[key] += 1\n",
    "f_keywords"
   ]
  },
  {
   "cell_type": "code",
   "execution_count": 43,
   "id": "d45cd312",
   "metadata": {},
   "outputs": [
    {
     "data": {
      "text/plain": [
       "Text(0.5, 0, '关键词前缀')"
      ]
     },
     "execution_count": 43,
     "metadata": {},
     "output_type": "execute_result"
    },
    {
     "data": {
      "image/png": "[encoded data removed]",
      "text/plain": [
       "<Figure size 432x288 with 1 Axes>"
      ]
     },
     "metadata": {
      "needs_background": "light"
     },
     "output_type": "display_data"
    }
   ],
   "source": [
    "k = pd.Series(f_keywords)\n",
    "ax = sns.barplot(x = k.index, y =k.values)\n",
    "plt.title(\"特征关键词前缀的频数分布\")\n",
    "plt.ylabel(\"频数\")\n",
    "plt.xlabel(\"关键词前缀\")\n"
   ]
  },
  {
   "cell_type": "markdown",
   "id": "63631e12",
   "metadata": {},
   "source": [
    "#### imp特征"
   ]
  },
  {
   "cell_type": "code",
   "execution_count": 44,
   "id": "2a1db739",
   "metadata": {},
   "outputs": [
    {
     "name": "stdout",
     "output_type": "stream",
     "text": [
      "14\n"
     ]
    },
    {
     "data": {
      "text/plain": [
       "['imp_ent_var16_ult1',\n",
       " 'imp_op_var39_comer_ult1',\n",
       " 'imp_op_var39_comer_ult3',\n",
       " 'imp_op_var41_comer_ult1',\n",
       " 'imp_op_var41_comer_ult3',\n",
       " 'imp_op_var41_efect_ult1',\n",
       " 'imp_op_var41_efect_ult3',\n",
       " 'imp_op_var41_ult1',\n",
       " 'imp_op_var39_efect_ult1',\n",
       " 'imp_op_var39_efect_ult3',\n",
       " 'imp_op_var39_ult1',\n",
       " 'imp_aport_var13_hace3',\n",
       " 'imp_var43_emit_ult1',\n",
       " 'imp_trans_var37_ult1']"
      ]
     },
     "execution_count": 44,
     "metadata": {},
     "output_type": "execute_result"
    }
   ],
   "source": [
    "imp = [col for col in train.columns if 'imp' in col]\n",
    "print(len(imp))\n",
    "imp"
   ]
  },
  {
   "cell_type": "code",
   "execution_count": 45,
   "id": "f622aad4",
   "metadata": {},
   "outputs": [
    {
     "data": {
      "text/plain": [
       "['imp_trans_var37_ult1']"
      ]
     },
     "execution_count": 45,
     "metadata": {},
     "output_type": "execute_result"
    }
   ],
   "source": [
    "import random\n",
    "random.seed(a=0)\n",
    "random.sample(imp,1)"
   ]
  },
  {
   "cell_type": "code",
   "execution_count": 46,
   "id": "0e401597",
   "metadata": {},
   "outputs": [
    {
     "data": {
      "image/png": "[encoded data removed]",
      "text/plain": [
       "<Figure size 1080x432 with 2 Axes>"
      ]
     },
     "metadata": {
      "needs_background": "light"
     },
     "output_type": "display_data"
    },
    {
     "name": "stdout",
     "output_type": "stream",
     "text": [
      "****************************************************************************************************\n",
      "训练集特征 'imp_trans_var37_ult1'其值占比top5：\n",
      "值\t 占比%\n",
      "0.0       87.069192\n",
      "300.0      0.536701\n",
      "600.0      0.420942\n",
      "1500.0     0.361747\n",
      "150.0      0.344646\n",
      "Name: imp_trans_var37_ult1, dtype: float64\n",
      "****************************************************************************************************\n",
      "训练集特征 'imp_trans_var37_ult1'其值占比bottom5：\n",
      "值\t 占比%\n",
      "2.37       0.001315\n",
      "4171.68    0.001315\n",
      "7881.96    0.001315\n",
      "4740.00    0.001315\n",
      "792.81     0.001315\n",
      "Name: imp_trans_var37_ult1, dtype: float64\n",
      "****************************************************************************************************\n",
      "测试集特征 'imp_trans_var37_ult1'其值占比top5：\n",
      "值\t 占比%\n",
      "0.0       87.003420\n",
      "300.0      0.561694\n",
      "600.0      0.464351\n",
      "1500.0     0.390687\n",
      "3000.0     0.318337\n",
      "Name: imp_trans_var37_ult1, dtype: float64\n",
      "****************************************************************************************************\n",
      "测试集特征 'imp_trans_var37_ult1'其值占比bottom5：\n",
      "值\t 占比%\n",
      "3309.84     0.001315\n",
      "662.88      0.001315\n",
      "2206.53     0.001315\n",
      "5576.19     0.001315\n",
      "10938.60    0.001315\n",
      "Name: imp_trans_var37_ult1, dtype: float64\n"
     ]
    }
   ],
   "source": [
    "valuecounts_plot(train=train, test=test, col ='imp_trans_var37_ult1')"
   ]
  },
  {
   "cell_type": "code",
   "execution_count": 47,
   "id": "3678f861",
   "metadata": {},
   "outputs": [],
   "source": [
    "col = 'imp_trans_var37_ult1'\n",
    "df = train[train[col] != 0]\n",
    "df1 = test[test[col] != 0]\n",
    "for data in [df,df1]:\n",
    "    data.loc[data[col] != 0, col] = np.log(data.loc[data[col] != 0, col])"
   ]
  },
  {
   "cell_type": "code",
   "execution_count": 48,
   "id": "70336109",
   "metadata": {},
   "outputs": [
    {
     "data": {
      "image/png": "[encoded data removed]",
      "text/plain": [
       "<Figure size 1440x360 with 2 Axes>"
      ]
     },
     "metadata": {
      "needs_background": "light"
     },
     "output_type": "display_data"
    }
   ],
   "source": [
    "histplot_comb(col, train = df, test =df1)"
   ]
  },
  {
   "cell_type": "code",
   "execution_count": 49,
   "id": "e30e626e",
   "metadata": {},
   "outputs": [
    {
     "name": "stdout",
     "output_type": "stream",
     "text": [
      "26\n"
     ]
    },
    {
     "data": {
      "text/plain": [
       "['saldo_var5',\n",
       " 'saldo_var8',\n",
       " 'saldo_var12',\n",
       " 'saldo_var13_corto',\n",
       " 'saldo_var13',\n",
       " 'saldo_var24',\n",
       " 'saldo_var26',\n",
       " 'saldo_var25',\n",
       " 'saldo_var30',\n",
       " 'saldo_var37',\n",
       " 'saldo_var42',\n",
       " 'saldo_medio_var5_hace2',\n",
       " 'saldo_medio_var5_hace3',\n",
       " 'saldo_medio_var5_ult1',\n",
       " 'saldo_medio_var5_ult3',\n",
       " 'saldo_medio_var8_hace2',\n",
       " 'saldo_medio_var8_ult1',\n",
       " 'saldo_medio_var8_ult3',\n",
       " 'saldo_medio_var12_hace2',\n",
       " 'saldo_medio_var12_hace3',\n",
       " 'saldo_medio_var12_ult1',\n",
       " 'saldo_medio_var12_ult3',\n",
       " 'saldo_medio_var13_corto_hace2',\n",
       " 'saldo_medio_var13_corto_hace3',\n",
       " 'saldo_medio_var13_corto_ult1',\n",
       " 'saldo_medio_var13_corto_ult3']"
      ]
     },
     "execution_count": 49,
     "metadata": {},
     "output_type": "execute_result"
    }
   ],
   "source": [
    "saldo = [col for col in train.columns if 'saldo' in col]\n",
    "print(len(saldo))\n",
    "saldo"
   ]
  },
  {
   "cell_type": "markdown",
   "id": "27cfc971",
   "metadata": {},
   "source": [
    "#### num_var"
   ]
  },
  {
   "cell_type": "code",
   "execution_count": 50,
   "id": "bf50fa21",
   "metadata": {},
   "outputs": [
    {
     "name": "stdout",
     "output_type": "stream",
     "text": [
      "64\n"
     ]
    },
    {
     "data": {
      "text/plain": [
       "['num_var1_0',\n",
       " 'num_var4',\n",
       " 'num_var5_0',\n",
       " 'num_var5',\n",
       " 'num_var8_0',\n",
       " 'num_var8',\n",
       " 'num_var12_0',\n",
       " 'num_var12',\n",
       " 'num_var13_0',\n",
       " 'num_var13_corto_0',\n",
       " 'num_var13_corto',\n",
       " 'num_var13_largo_0',\n",
       " 'num_var13',\n",
       " 'num_var14_0',\n",
       " 'num_var24_0',\n",
       " 'num_var24',\n",
       " 'num_var26',\n",
       " 'num_var25',\n",
       " 'num_op_var41_hace2',\n",
       " 'num_op_var41_hace3',\n",
       " 'num_op_var41_ult1',\n",
       " 'num_op_var41_ult3',\n",
       " 'num_op_var39_hace2',\n",
       " 'num_op_var39_hace3',\n",
       " 'num_op_var39_ult1',\n",
       " 'num_op_var39_ult3',\n",
       " 'num_var30_0',\n",
       " 'num_var30',\n",
       " 'num_var35',\n",
       " 'num_var37_med_ult2',\n",
       " 'num_var37',\n",
       " 'num_var39_0',\n",
       " 'num_var40_0',\n",
       " 'num_var41_0',\n",
       " 'num_var42_0',\n",
       " 'num_var42',\n",
       " 'num_aport_var13_hace3',\n",
       " 'num_ent_var16_ult1',\n",
       " 'num_var22_hace2',\n",
       " 'num_var22_hace3',\n",
       " 'num_var22_ult1',\n",
       " 'num_var22_ult3',\n",
       " 'num_med_var22_ult3',\n",
       " 'num_med_var45_ult3',\n",
       " 'num_meses_var5_ult3',\n",
       " 'num_meses_var8_ult3',\n",
       " 'num_meses_var12_ult3',\n",
       " 'num_meses_var13_corto_ult3',\n",
       " 'num_meses_var39_vig_ult3',\n",
       " 'num_op_var39_comer_ult1',\n",
       " 'num_op_var39_comer_ult3',\n",
       " 'num_op_var41_comer_ult1',\n",
       " 'num_op_var41_comer_ult3',\n",
       " 'num_op_var41_efect_ult1',\n",
       " 'num_op_var41_efect_ult3',\n",
       " 'num_op_var39_efect_ult1',\n",
       " 'num_op_var39_efect_ult3',\n",
       " 'num_var43_emit_ult1',\n",
       " 'num_var43_recib_ult1',\n",
       " 'num_trasp_var11_ult1',\n",
       " 'num_var45_hace2',\n",
       " 'num_var45_hace3',\n",
       " 'num_var45_ult1',\n",
       " 'num_var45_ult3']"
      ]
     },
     "execution_count": 50,
     "metadata": {},
     "output_type": "execute_result"
    }
   ],
   "source": [
    "num = [col for col in train.columns if 'num' in col]\n",
    "print(len(num))\n",
    "num"
   ]
  },
  {
   "cell_type": "code",
   "execution_count": 51,
   "id": "22064eb6",
   "metadata": {},
   "outputs": [
    {
     "name": "stdout",
     "output_type": "stream",
     "text": [
      "0 15\n",
      "0 12\n"
     ]
    }
   ],
   "source": [
    "col = 'num_var5'\n",
    "print((train[col].min()),(train[col].max()))\n",
    "print((test[col].min()),(test[col].max()))"
   ]
  },
  {
   "cell_type": "code",
   "execution_count": 52,
   "id": "556b1b16",
   "metadata": {},
   "outputs": [
    {
     "data": {
      "image/png": "[encoded data removed]",
      "text/plain": [
       "<Figure size 1080x432 with 2 Axes>"
      ]
     },
     "metadata": {
      "needs_background": "light"
     },
     "output_type": "display_data"
    },
    {
     "name": "stdout",
     "output_type": "stream",
     "text": [
      "****************************************************************************************************\n",
      "训练集特征 'num_var5'其值占比top5：\n",
      "值\t 占比%\n",
      "3     66.120758\n",
      "0     33.624046\n",
      "6      0.249934\n",
      "9      0.003946\n",
      "15     0.001315\n",
      "Name: num_var5, dtype: float64\n",
      "****************************************************************************************************\n",
      "训练集特征 'num_var5'其值占比bottom5：\n",
      "值\t 占比%\n",
      "3     66.120758\n",
      "0     33.624046\n",
      "6      0.249934\n",
      "9      0.003946\n",
      "15     0.001315\n",
      "Name: num_var5, dtype: float64\n",
      "****************************************************************************************************\n",
      "测试集特征 'num_var5'其值占比top5：\n",
      "值\t 占比%\n",
      "3     65.957643\n",
      "0     33.535912\n",
      "6      0.232833\n",
      "9      0.006577\n",
      "12     0.001315\n",
      "Name: num_var5, dtype: float64\n",
      "****************************************************************************************************\n",
      "测试集特征 'num_var5'其值占比bottom5：\n",
      "值\t 占比%\n",
      "3     65.957643\n",
      "0     33.535912\n",
      "6      0.232833\n",
      "9      0.006577\n",
      "12     0.001315\n",
      "Name: num_var5, dtype: float64\n"
     ]
    }
   ],
   "source": [
    "valuecounts_plot(train=train, test = test, col=col)"
   ]
  },
  {
   "cell_type": "code",
   "execution_count": 53,
   "id": "75ffe77f",
   "metadata": {},
   "outputs": [
    {
     "data": {
      "image/png": "[encoded data removed]",
      "text/plain": [
       "<Figure size 473x432 with 1 Axes>"
      ]
     },
     "metadata": {
      "needs_background": "light"
     },
     "output_type": "display_data"
    }
   ],
   "source": [
    "histplot_target(col=col, bins=10)\n",
    "for i in train[col].unique():\n",
    "    (col, i, train[(train['TARGET']==1)&(train[col]==i)].shape[0],\n",
    "     train[(train['TARGET'] == 1) & (train[col]==1)].shape[0]*100 /train[train[col] == i].shape[0])"
   ]
  },
  {
   "cell_type": "code",
   "execution_count": 54,
   "id": "a83da1c5",
   "metadata": {},
   "outputs": [
    {
     "name": "stdout",
     "output_type": "stream",
     "text": [
      "num_var1_0 \t unique values:3 \t dtype:int64\n",
      "num_var4 \t unique values:8 \t dtype:int64\n",
      "num_var5_0 \t unique values:5 \t dtype:int64\n",
      "num_var5 \t unique values:5 \t dtype:int64\n",
      "num_var8_0 \t unique values:3 \t dtype:int64\n",
      "num_var8 \t unique values:2 \t dtype:int64\n",
      "num_var12_0 \t unique values:6 \t dtype:int64\n",
      "num_var12 \t unique values:4 \t dtype:int64\n",
      "num_var13_0 \t unique values:7 \t dtype:int64\n",
      "num_var13_corto_0 \t unique values:3 \t dtype:int64\n",
      "num_var13_corto \t unique values:3 \t dtype:int64\n",
      "num_var13_largo_0 \t unique values:7 \t dtype:int64\n",
      "num_var13 \t unique values:7 \t dtype:int64\n",
      "num_var14_0 \t unique values:5 \t dtype:int64\n",
      "num_var24_0 \t unique values:4 \t dtype:int64\n",
      "num_var24 \t unique values:3 \t dtype:int64\n",
      "num_var26 \t unique values:9 \t dtype:int64\n",
      "num_var25 \t unique values:9 \t dtype:int64\n",
      "num_op_var41_hace2 \t unique values:51 \t dtype:int64\n",
      "num_op_var41_hace3 \t unique values:22 \t dtype:int64\n",
      "num_op_var41_ult1 \t unique values:68 \t dtype:int64\n",
      "num_op_var41_ult3 \t unique values:96 \t dtype:int64\n",
      "num_op_var39_hace2 \t unique values:50 \t dtype:int64\n",
      "num_op_var39_hace3 \t unique values:22 \t dtype:int64\n",
      "num_op_var39_ult1 \t unique values:71 \t dtype:int64\n",
      "num_op_var39_ult3 \t unique values:99 \t dtype:int64\n",
      "num_var30_0 \t unique values:11 \t dtype:int64\n",
      "num_var30 \t unique values:9 \t dtype:int64\n",
      "num_var35 \t unique values:13 \t dtype:int64\n",
      "num_var37_med_ult2 \t unique values:21 \t dtype:int64\n",
      "num_var37 \t unique values:22 \t dtype:int64\n",
      "num_var39_0 \t unique values:9 \t dtype:int64\n",
      "num_var40_0 \t unique values:3 \t dtype:int64\n",
      "num_var41_0 \t unique values:9 \t dtype:int64\n",
      "num_var42_0 \t unique values:8 \t dtype:int64\n",
      "num_var42 \t unique values:7 \t dtype:int64\n",
      "num_aport_var13_hace3 \t unique values:8 \t dtype:int64\n",
      "num_ent_var16_ult1 \t unique values:13 \t dtype:int64\n",
      "num_var22_hace2 \t unique values:22 \t dtype:int64\n",
      "num_var22_hace3 \t unique values:19 \t dtype:int64\n",
      "num_var22_ult1 \t unique values:18 \t dtype:int64\n",
      "num_var22_ult3 \t unique values:33 \t dtype:int64\n",
      "num_med_var22_ult3 \t unique values:15 \t dtype:int64\n",
      "num_med_var45_ult3 \t unique values:71 \t dtype:int64\n",
      "num_meses_var5_ult3 \t unique values:4 \t dtype:int64\n",
      "num_meses_var8_ult3 \t unique values:4 \t dtype:int64\n",
      "num_meses_var12_ult3 \t unique values:4 \t dtype:int64\n",
      "num_meses_var13_corto_ult3 \t unique values:4 \t dtype:int64\n",
      "num_meses_var39_vig_ult3 \t unique values:4 \t dtype:int64\n",
      "num_op_var39_comer_ult1 \t unique values:63 \t dtype:int64\n",
      "num_op_var39_comer_ult3 \t unique values:92 \t dtype:int64\n",
      "num_op_var41_comer_ult1 \t unique values:60 \t dtype:int64\n",
      "num_op_var41_comer_ult3 \t unique values:88 \t dtype:int64\n",
      "num_op_var41_efect_ult1 \t unique values:25 \t dtype:int64\n",
      "num_op_var41_efect_ult3 \t unique values:40 \t dtype:int64\n",
      "num_op_var39_efect_ult1 \t unique values:26 \t dtype:int64\n",
      "num_op_var39_efect_ult3 \t unique values:40 \t dtype:int64\n",
      "num_var43_emit_ult1 \t unique values:27 \t dtype:int64\n",
      "num_var43_recib_ult1 \t unique values:38 \t dtype:int64\n",
      "num_trasp_var11_ult1 \t unique values:18 \t dtype:int64\n",
      "num_var45_hace2 \t unique values:85 \t dtype:int64\n",
      "num_var45_hace3 \t unique values:66 \t dtype:int64\n",
      "num_var45_ult1 \t unique values:94 \t dtype:int64\n",
      "num_var45_ult3 \t unique values:172 \t dtype:int64\n"
     ]
    }
   ],
   "source": [
    "for feat in num:\n",
    "    print(\"%s \\t unique values:%i \\t dtype:%s\" %(feat, train[feat].nunique(), train[feat].dtype))"
   ]
  },
  {
   "cell_type": "markdown",
   "id": "4b88f947",
   "metadata": {},
   "source": [
    "num 特征做以下处理：对唯一值的最大数量设置一个阈值，以便可以将特征定义为分类特征"
   ]
  },
  {
   "cell_type": "code",
   "execution_count": 55,
   "id": "4c7e2ce1",
   "metadata": {},
   "outputs": [
    {
     "name": "stdout",
     "output_type": "stream",
     "text": [
      "32\n"
     ]
    },
    {
     "data": {
      "text/plain": [
       "['ind_var1_0',\n",
       " 'ind_var5_0',\n",
       " 'ind_var5',\n",
       " 'ind_var8_0',\n",
       " 'ind_var8',\n",
       " 'ind_var12_0',\n",
       " 'ind_var12',\n",
       " 'ind_var13_0',\n",
       " 'ind_var13_corto_0',\n",
       " 'ind_var13_corto',\n",
       " 'ind_var13_largo_0',\n",
       " 'ind_var13',\n",
       " 'ind_var14_0',\n",
       " 'ind_var24_0',\n",
       " 'ind_var24',\n",
       " 'ind_var25_cte',\n",
       " 'ind_var26_cte',\n",
       " 'ind_var26',\n",
       " 'ind_var25',\n",
       " 'ind_var30_0',\n",
       " 'ind_var30',\n",
       " 'ind_var37_cte',\n",
       " 'ind_var37',\n",
       " 'ind_var39_0',\n",
       " 'ind_var40_0',\n",
       " 'ind_var41_0',\n",
       " 'ind_var10_ult1',\n",
       " 'ind_var10cte_ult1',\n",
       " 'ind_var9_cte_ult1',\n",
       " 'ind_var9_ult1',\n",
       " 'ind_var43_emit_ult1',\n",
       " 'ind_var43_recib_ult1']"
      ]
     },
     "execution_count": 55,
     "metadata": {},
     "output_type": "execute_result"
    }
   ],
   "source": [
    "ind = [col for col in train.columns if 'ind' in col]\n",
    "print(len(ind))\n",
    "ind"
   ]
  },
  {
   "cell_type": "code",
   "execution_count": 56,
   "id": "fab0471b",
   "metadata": {},
   "outputs": [
    {
     "name": "stdout",
     "output_type": "stream",
     "text": [
      "0 1\n",
      "0 1\n"
     ]
    }
   ],
   "source": [
    "col = 'ind_var5_0'\n",
    "print((train[col].min()),(train[col].max()))\n",
    "print((test[col].min()),(test[col].max()))"
   ]
  },
  {
   "cell_type": "code",
   "execution_count": 57,
   "id": "afc34b9e",
   "metadata": {},
   "outputs": [
    {
     "data": {
      "image/png": "[encoded data removed]",
      "text/plain": [
       "<Figure size 1080x432 with 2 Axes>"
      ]
     },
     "metadata": {
      "needs_background": "light"
     },
     "output_type": "display_data"
    },
    {
     "name": "stdout",
     "output_type": "stream",
     "text": [
      "****************************************************************************************************\n",
      "训练集特征 'ind_var5_0'其值占比top5：\n",
      "值\t 占比%\n",
      "1    95.80242\n",
      "0     4.19758\n",
      "Name: ind_var5_0, dtype: float64\n",
      "****************************************************************************************************\n",
      "训练集特征 'ind_var5_0'其值占比bottom5：\n",
      "值\t 占比%\n",
      "1    95.80242\n",
      "0     4.19758\n",
      "Name: ind_var5_0, dtype: float64\n",
      "****************************************************************************************************\n",
      "测试集特征 'ind_var5_0'其值占比top5：\n",
      "值\t 占比%\n",
      "1    95.445935\n",
      "0     4.288345\n",
      "Name: ind_var5_0, dtype: float64\n",
      "****************************************************************************************************\n",
      "测试集特征 'ind_var5_0'其值占比bottom5：\n",
      "值\t 占比%\n",
      "1    95.445935\n",
      "0     4.288345\n",
      "Name: ind_var5_0, dtype: float64\n"
     ]
    }
   ],
   "source": [
    "valuecounts_plot(train=train, test = test, col=col)"
   ]
  },
  {
   "cell_type": "code",
   "execution_count": 58,
   "id": "e389f845",
   "metadata": {},
   "outputs": [
    {
     "data": {
      "text/plain": [
       "((76020, 144), (75818, 143))"
      ]
     },
     "execution_count": 58,
     "metadata": {},
     "output_type": "execute_result"
    }
   ],
   "source": [
    "train.shape, test.shape"
   ]
  },
  {
   "cell_type": "code",
   "execution_count": 59,
   "id": "a3b1a1ca",
   "metadata": {},
   "outputs": [],
   "source": [
    "train.to_pickle('output/train.pkl')\n",
    "test.to_pickle('output/test.pkl')"
   ]
  },
  {
   "cell_type": "markdown",
   "id": "91ec018a",
   "metadata": {},
   "source": [
    "# 3. 特征工程"
   ]
  },
  {
   "cell_type": "code",
   "execution_count": 60,
   "id": "ad6b191a",
   "metadata": {},
   "outputs": [
    {
     "data": {
      "text/plain": [
       "((76020, 144), (75818, 143))"
      ]
     },
     "execution_count": 60,
     "metadata": {},
     "output_type": "execute_result"
    }
   ],
   "source": [
    "train = pd.read_pickle('output/train.pkl')\n",
    "test = pd.read_pickle('output/test.pkl')\n",
    "X_train = train.copy()\n",
    "X_test = test.copy()\n",
    "X_train.shape,X_test.shape"
   ]
  },
  {
   "cell_type": "markdown",
   "id": "3252faf5",
   "metadata": {},
   "source": [
    "### 构造新特征 零或非0出现次数"
   ]
  },
  {
   "cell_type": "code",
   "execution_count": 61,
   "id": "9f1fefa3",
   "metadata": {},
   "outputs": [],
   "source": [
    "def add_feature_no_zeros(train =X_train, test=X_test):\n",
    "    \"\"\"\n",
    "    构建新特征，表示每行样本中143个特征取值为0或者非0的出现次数\n",
    "    \"\"\"\n",
    "    col = [k for k in train.columns if k!= 'TARGET']\n",
    "    for df in [train, test]:\n",
    "        df['no_zeros'] = (df.loc[:, col] == 0).sum(axis=1).values\n",
    "        df['no_nonzeros'] = (df.loc[:,col]!=0).sum(axis =1).values\n",
    "        \n",
    "def add_feature_no_zeros_keyword(keyword, train =X_train, test =X_test):\n",
    "    \"\"\"\n",
    "    构造新特征，表示每行样本对于每一种关键词前缀的特征取值为0或非0的出现次数\n",
    "    \"\"\"\n",
    "    col = [k for k in train.columns if keyword in k]\n",
    "    for df in [train, test]:  \n",
    "        df['no_zeros' + k] = (df.loc[:, col] == 0).sum(axis=1).values\n",
    "        df['no_nonzeros'+ k] = (df.loc[:,col]!=0).sum(axis =1).values\n",
    "    "
   ]
  },
  {
   "cell_type": "code",
   "execution_count": 62,
   "id": "b8cc754a",
   "metadata": {},
   "outputs": [],
   "source": [
    "add_feature_no_zeros()\n",
    "keywords = ['imp','saldo', 'num', 'ind']\n",
    "for k in keywords:\n",
    "    add_feature_no_zeros_keyword(k)"
   ]
  },
  {
   "cell_type": "code",
   "execution_count": 63,
   "id": "455c4f59",
   "metadata": {},
   "outputs": [
    {
     "data": {
      "text/plain": [
       "((76020, 154), (75818, 153))"
      ]
     },
     "execution_count": 63,
     "metadata": {},
     "output_type": "execute_result"
    }
   ],
   "source": [
    "X_train.shape,X_test.shape"
   ]
  },
  {
   "cell_type": "markdown",
   "id": "3aa465cc",
   "metadata": {},
   "source": [
    "### 构造新特征 - 获取唯一值个数处于（50，210】之间的‘col'特征中取每一种唯一值的情况下，含imp和saldo的前缀特征的均值\n"
   ]
  },
  {
   "cell_type": "code",
   "execution_count": 64,
   "id": "797e7f6a",
   "metadata": {},
   "outputs": [],
   "source": [
    "def average_col(col, features, train=X_train, test =X_test):\n",
    "    \"\"\"\n",
    "    获取’col'特征中每一种为一值的情况下feature特征的均值，并令其为新特征\n",
    "    \"\"\"\n",
    "    for df in [train, test]:\n",
    "        unique_values = df[col].unique()\n",
    "        \n",
    "        for feature in features:\n",
    "            avg_value = []\n",
    "            for value in unique_values:\n",
    "                avg = df.loc[df[col] == value, feature].mean()\n",
    "                avg_value.append(avg)\n",
    "            avg_dict = dict(zip(unique_values, avg_value))\n",
    "            new_col = 'avg_' + col + \"_\" + feature\n",
    "            df[new_col] = np.zeros(df.shape[0])\n",
    "            for value in unique_values:\n",
    "                df.loc[df[col] == value, new_col] = avg_dict[value]\n",
    "            "
   ]
  },
  {
   "cell_type": "code",
   "execution_count": 65,
   "id": "eb9a8761",
   "metadata": {},
   "outputs": [
    {
     "data": {
      "text/plain": [
       "(43, 19)"
      ]
     },
     "execution_count": 65,
     "metadata": {},
     "output_type": "execute_result"
    }
   ],
   "source": [
    "# 含imp和saldo前缀的所有特征，不包括no_zeros_imp 和 no_zeros_saldo\n",
    "features = [i for i in X_train.columns if (('imp' in i) | (('saldo' in i)) & (\"no_zeros\" not in i))]\n",
    "# 唯一值处于【50，210】之间的特征列\n",
    "columns = [i for i in X_train.columns if (X_train[i].nunique() <= 210) & (X_train[i].nunique() > 50)]\n",
    "\n",
    "len(features), len(columns)"
   ]
  },
  {
   "cell_type": "code",
   "execution_count": 66,
   "id": "4941f1a9",
   "metadata": {},
   "outputs": [
    {
     "data": {
      "text/plain": [
       "['var3',\n",
       " 'num_op_var41_hace2',\n",
       " 'num_op_var41_ult1',\n",
       " 'num_op_var41_ult3',\n",
       " 'num_op_var39_ult1',\n",
       " 'num_op_var39_ult3',\n",
       " 'num_med_var45_ult3',\n",
       " 'num_op_var39_comer_ult1',\n",
       " 'num_op_var39_comer_ult3',\n",
       " 'num_op_var41_comer_ult1',\n",
       " 'num_op_var41_comer_ult3',\n",
       " 'num_var45_hace2',\n",
       " 'num_var45_hace3',\n",
       " 'num_var45_ult1',\n",
       " 'num_var45_ult3',\n",
       " 'no_zeros',\n",
       " 'no_nonzeros',\n",
       " 'no_zerosnum',\n",
       " 'no_nonzerosnum']"
      ]
     },
     "execution_count": 66,
     "metadata": {},
     "output_type": "execute_result"
    }
   ],
   "source": [
    "columns"
   ]
  },
  {
   "cell_type": "code",
   "execution_count": 67,
   "id": "b91db899",
   "metadata": {},
   "outputs": [
    {
     "name": "stderr",
     "output_type": "stream",
     "text": [
      "100%|██████████████████████████████████████████████████████████████████████████████████| 19/19 [01:47<00:00,  5.66s/it]"
     ]
    },
    {
     "name": "stdout",
     "output_type": "stream",
     "text": [
      "Wall time: 1min 47s\n"
     ]
    },
    {
     "name": "stderr",
     "output_type": "stream",
     "text": [
      "\n"
     ]
    }
   ],
   "source": [
    "%%time\n",
    "for col in tqdm(columns):\n",
    "    average_col(col, features)"
   ]
  },
  {
   "cell_type": "code",
   "execution_count": 68,
   "id": "2fe2f12e",
   "metadata": {},
   "outputs": [
    {
     "data": {
      "text/plain": [
       "((76020, 971), (75818, 970))"
      ]
     },
     "execution_count": 68,
     "metadata": {},
     "output_type": "execute_result"
    }
   ],
   "source": [
    "X_train.shape,X_test.shape"
   ]
  },
  {
   "cell_type": "markdown",
   "id": "f3132e68",
   "metadata": {},
   "source": [
    "## 特征选择\n",
    "- 删除与目标变量TARGET 低相关的特征和彼此之间高相关的特征"
   ]
  },
  {
   "cell_type": "code",
   "execution_count": 69,
   "id": "6bf64f34",
   "metadata": {},
   "outputs": [],
   "source": [
    "def remove_corr_var(train=X_train, test = X_test, target_threshold= 10**-3, within_threshold = 0.95):\n",
    "    \"\"\"\n",
    "    删除与目标变量相关性低的特征，删除彼此之间相关性高的特征（保留一个）\n",
    "    \"\"\"\n",
    "    # 删除像关性低的特征\n",
    "    initial_feature = train.shape[1]\n",
    "    corr = train.drop(\"ID\", axis=1).corr().abs()\n",
    "    corr_target = pd.DataFrame(corr['TARGET']).sort_values(by='TARGET')\n",
    "    feat_df = corr_target[(corr_target['TARGET']) <= target_threshold]\n",
    "    print(\"有 %i个特征应为与目标变量target的相关系数绝对值小于 %.3f 而被删除\" % (feat_df.shape[0], target_threshold))\n",
    "    print(\"删除中\")\n",
    "    for df in [train, test]:\n",
    "        df.drop(feat_df.index, axis=1, inplace=True)\n",
    "    print(\"已删除！\")\n",
    "    \n",
    "    # 删除彼此像关性高的特征\n",
    "    corr.sort_values(by='TARGET', ascending = False, inplace =True)\n",
    "    corr  = corr.reindex(columns=corr.index)\n",
    "    corr.drop('TARGET',axis = 1, inplace = True)\n",
    "    corr.drop('TARGET',axis = 0, inplace = True)\n",
    "    corr.drop(feat_df.index,axis = 1, inplace = True)\n",
    "    corr.drop(feat_df.index, inplace = True)\n",
    "    upper = corr.where(np.triu(np.ones(corr.shape), k =1).astype(np.bool))\n",
    "    column = [col for col in upper.columns if any(upper[col] > within_threshold)]\n",
    "    \n",
    "    print(\"有 %i 个特征与另一个特征高度相关且相关系数为 %.3f 及以上而删除\" % (len(column), within_threshold))\n",
    "    print(\"删除中\")\n",
    "    for df in [train, test]:\n",
    "        df.drop(column, axis =1, inplace =True)\n",
    "    print(\"已删除！\")\n",
    "    print(\"特征数从%i 个变成 %i 个，其中 %i 个已删除\" % \n",
    "          (initial_feature, test.shape[1],\n",
    "                                          initial_feature - test.shape[1])\n",
    "         )"
   ]
  },
  {
   "cell_type": "code",
   "execution_count": 70,
   "id": "9603ecb1",
   "metadata": {},
   "outputs": [
    {
     "name": "stdout",
     "output_type": "stream",
     "text": [
      "有 48个特征应为与目标变量target的相关系数绝对值小于 0.001 而被删除\n",
      "删除中\n",
      "已删除！\n",
      "有 575 个特征与另一个特征高度相关且相关系数为 0.950 及以上而删除\n",
      "删除中\n",
      "已删除！\n",
      "特征数从971 个变成 347 个，其中 624 个已删除\n",
      "Wall time: 2min 39s\n"
     ]
    }
   ],
   "source": [
    "%%time\n",
    "remove_corr_var()"
   ]
  },
  {
   "cell_type": "code",
   "execution_count": 71,
   "id": "36db71ef",
   "metadata": {},
   "outputs": [],
   "source": [
    "X_train.to_pickle('output/X_train.pkl')\n",
    "X_test.to_pickle('output/X_test.pkl')"
   ]
  },
  {
   "cell_type": "code",
   "execution_count": 72,
   "id": "8be90306",
   "metadata": {},
   "outputs": [
    {
     "data": {
      "text/plain": [
       "((76020, 348), (75818, 347))"
      ]
     },
     "execution_count": 72,
     "metadata": {},
     "output_type": "execute_result"
    }
   ],
   "source": [
    "X_train = pd.read_pickle('output/X_train.pkl')\n",
    "X_test = pd.read_pickle('output/X_test.pkl')\n",
    "X_train = X_train.copy()\n",
    "X_test = X_test.copy()\n",
    "\n",
    "X_train.shape,X_test.shape"
   ]
  },
  {
   "cell_type": "markdown",
   "id": "1182107d",
   "metadata": {},
   "source": [
    "## 将imp和saldo进行对数变换"
   ]
  },
  {
   "cell_type": "code",
   "execution_count": 73,
   "id": "c900db4f",
   "metadata": {},
   "outputs": [],
   "source": [
    "def apply_loglp(column, train=X_train, test =X_test):\n",
    "    \"\"\"\n",
    "    对数变换所有特征\n",
    "    \"\"\"\n",
    "    tr = train.copy()\n",
    "    te = test.copy()\n",
    "    for df in [tr,te]:\n",
    "        for col in column:\n",
    "            df.loc[df[col] >= 0, col] = np.log1p(df.loc[df[col] >= 0, col].values)\n",
    "            return tr, te"
   ]
  },
  {
   "cell_type": "code",
   "execution_count": 74,
   "id": "111a9e5a",
   "metadata": {},
   "outputs": [
    {
     "data": {
      "text/plain": [
       "['imp_op_var39_comer_ult1',\n",
       " 'imp_op_var41_comer_ult3',\n",
       " 'imp_op_var41_ult1',\n",
       " 'imp_op_var39_efect_ult1',\n",
       " 'imp_op_var39_efect_ult3',\n",
       " 'saldo_var5',\n",
       " 'saldo_var8',\n",
       " 'saldo_var13_corto',\n",
       " 'saldo_var13',\n",
       " 'saldo_var26',\n",
       " 'saldo_var30',\n",
       " 'saldo_var37',\n",
       " 'saldo_var42',\n",
       " 'imp_aport_var13_hace3',\n",
       " 'imp_var43_emit_ult1',\n",
       " 'imp_trans_var37_ult1',\n",
       " 'saldo_medio_var5_hace2',\n",
       " 'saldo_medio_var5_hace3',\n",
       " 'saldo_medio_var5_ult1',\n",
       " 'saldo_medio_var5_ult3',\n",
       " 'saldo_medio_var8_hace2',\n",
       " 'saldo_medio_var8_ult1',\n",
       " 'saldo_medio_var8_ult3',\n",
       " 'saldo_medio_var12_hace2',\n",
       " 'saldo_medio_var12_hace3',\n",
       " 'saldo_medio_var13_corto_hace2',\n",
       " 'saldo_medio_var13_corto_hace3',\n",
       " 'no_nonzerosimp',\n",
       " 'no_zerossaldo',\n",
       " 'avg_var3_imp_ent_var16_ult1',\n",
       " 'avg_var3_imp_op_var39_comer_ult1',\n",
       " 'avg_var3_imp_op_var39_comer_ult3',\n",
       " 'avg_var3_imp_op_var41_comer_ult1',\n",
       " 'avg_var3_imp_op_var41_comer_ult3',\n",
       " 'avg_var3_imp_op_var39_efect_ult1',\n",
       " 'avg_var3_imp_op_var39_efect_ult3',\n",
       " 'avg_var3_imp_op_var39_ult1',\n",
       " 'avg_var3_saldo_var5',\n",
       " 'avg_var3_saldo_var8',\n",
       " 'avg_var3_saldo_var13_corto',\n",
       " 'avg_var3_saldo_var26',\n",
       " 'avg_var3_saldo_var30',\n",
       " 'avg_var3_saldo_var37',\n",
       " 'avg_var3_imp_aport_var13_hace3',\n",
       " 'avg_var3_imp_var43_emit_ult1',\n",
       " 'avg_var3_imp_trans_var37_ult1',\n",
       " 'avg_var3_saldo_medio_var5_hace2',\n",
       " 'avg_var3_saldo_medio_var5_ult1',\n",
       " 'avg_var3_saldo_medio_var8_hace2',\n",
       " 'avg_var3_saldo_medio_var8_ult3',\n",
       " 'avg_var3_saldo_medio_var12_hace2',\n",
       " 'avg_var3_saldo_medio_var12_hace3',\n",
       " 'avg_var3_saldo_medio_var13_corto_hace3',\n",
       " 'avg_var3_no_nonzerosimp',\n",
       " 'avg_var3_no_nonzerossaldo',\n",
       " 'avg_num_op_var41_hace2_imp_ent_var16_ult1',\n",
       " 'avg_num_op_var41_hace2_imp_op_var39_efect_ult3',\n",
       " 'avg_num_op_var41_hace2_saldo_var5',\n",
       " 'avg_num_op_var41_hace2_saldo_var8',\n",
       " 'avg_num_op_var41_hace2_saldo_var25',\n",
       " 'avg_num_op_var41_hace2_saldo_var37',\n",
       " 'avg_num_op_var41_hace2_saldo_var42',\n",
       " 'avg_num_op_var41_hace2_imp_trans_var37_ult1',\n",
       " 'avg_num_op_var41_hace2_saldo_medio_var5_hace2',\n",
       " 'avg_num_op_var41_hace2_saldo_medio_var5_ult3',\n",
       " 'avg_num_op_var41_hace2_saldo_medio_var8_hace2',\n",
       " 'avg_num_op_var41_hace2_saldo_medio_var12_ult1',\n",
       " 'avg_num_op_var41_hace2_saldo_medio_var13_corto_hace3',\n",
       " 'avg_num_op_var41_ult1_saldo_var5',\n",
       " 'avg_num_op_var41_ult1_saldo_var25',\n",
       " 'avg_num_op_var41_ult1_saldo_var30',\n",
       " 'avg_num_op_var41_ult1_saldo_var42',\n",
       " 'avg_num_op_var41_ult1_imp_var43_emit_ult1',\n",
       " 'avg_num_op_var41_ult1_imp_trans_var37_ult1',\n",
       " 'avg_num_op_var41_ult1_saldo_medio_var5_hace2',\n",
       " 'avg_num_op_var41_ult1_saldo_medio_var5_hace3',\n",
       " 'avg_num_op_var41_ult1_saldo_medio_var5_ult3',\n",
       " 'avg_num_op_var41_ult1_saldo_medio_var8_hace2',\n",
       " 'avg_num_op_var41_ult1_saldo_medio_var8_ult3',\n",
       " 'avg_num_op_var41_ult1_saldo_medio_var12_hace3',\n",
       " 'avg_num_op_var41_ult3_imp_ent_var16_ult1',\n",
       " 'avg_num_op_var41_ult3_imp_op_var41_comer_ult1',\n",
       " 'avg_num_op_var41_ult3_imp_op_var39_efect_ult3',\n",
       " 'avg_num_op_var41_ult3_imp_op_var39_ult1',\n",
       " 'avg_num_op_var41_ult3_saldo_var25',\n",
       " 'avg_num_op_var41_ult3_saldo_var37',\n",
       " 'avg_num_op_var41_ult3_saldo_var42',\n",
       " 'avg_num_op_var41_ult3_imp_aport_var13_hace3',\n",
       " 'avg_num_op_var41_ult3_imp_var43_emit_ult1',\n",
       " 'avg_num_op_var41_ult3_imp_trans_var37_ult1',\n",
       " 'avg_num_op_var41_ult3_saldo_medio_var5_hace3',\n",
       " 'avg_num_op_var41_ult3_saldo_medio_var5_ult1',\n",
       " 'avg_num_op_var41_ult3_saldo_medio_var5_ult3',\n",
       " 'avg_num_op_var41_ult3_saldo_medio_var8_hace2',\n",
       " 'avg_num_op_var41_ult3_saldo_medio_var8_ult1',\n",
       " 'avg_num_op_var41_ult3_saldo_medio_var12_hace3',\n",
       " 'avg_num_op_var39_ult1_imp_ent_var16_ult1',\n",
       " 'avg_num_op_var39_ult1_saldo_var5',\n",
       " 'avg_num_op_var39_ult1_saldo_var37',\n",
       " 'avg_num_op_var39_ult1_saldo_var42',\n",
       " 'avg_num_op_var39_ult1_imp_var43_emit_ult1',\n",
       " 'avg_num_op_var39_ult1_saldo_medio_var5_hace2',\n",
       " 'avg_num_op_var39_ult1_saldo_medio_var5_ult3',\n",
       " 'avg_num_op_var39_ult1_saldo_medio_var12_hace3',\n",
       " 'avg_num_op_var39_ult3_saldo_var5',\n",
       " 'avg_num_op_var39_ult3_saldo_var30',\n",
       " 'avg_num_op_var39_ult3_saldo_var37',\n",
       " 'avg_num_op_var39_ult3_saldo_var42',\n",
       " 'avg_num_op_var39_ult3_imp_aport_var13_hace3',\n",
       " 'avg_num_op_var39_ult3_imp_var43_emit_ult1',\n",
       " 'avg_num_op_var39_ult3_imp_trans_var37_ult1',\n",
       " 'avg_num_op_var39_ult3_saldo_medio_var5_hace2',\n",
       " 'avg_num_op_var39_ult3_saldo_medio_var5_hace3',\n",
       " 'avg_num_op_var39_ult3_saldo_medio_var5_ult1',\n",
       " 'avg_num_op_var39_ult3_saldo_medio_var5_ult3',\n",
       " 'avg_num_op_var39_ult3_saldo_medio_var8_hace2',\n",
       " 'avg_num_op_var39_ult3_saldo_medio_var8_ult1',\n",
       " 'avg_num_op_var39_ult3_saldo_medio_var12_hace3',\n",
       " 'avg_num_op_var39_ult3_saldo_medio_var13_corto_hace3',\n",
       " 'avg_num_med_var45_ult3_imp_ent_var16_ult1',\n",
       " 'avg_num_med_var45_ult3_imp_op_var39_comer_ult3',\n",
       " 'avg_num_med_var45_ult3_saldo_var8',\n",
       " 'avg_num_med_var45_ult3_saldo_var26',\n",
       " 'avg_num_med_var45_ult3_saldo_var37',\n",
       " 'avg_num_med_var45_ult3_imp_var43_emit_ult1',\n",
       " 'avg_num_med_var45_ult3_imp_trans_var37_ult1',\n",
       " 'avg_num_med_var45_ult3_saldo_medio_var5_hace3',\n",
       " 'avg_num_med_var45_ult3_saldo_medio_var5_ult3',\n",
       " 'avg_num_med_var45_ult3_saldo_medio_var8_hace2',\n",
       " 'avg_num_med_var45_ult3_saldo_medio_var12_hace3',\n",
       " 'avg_num_op_var39_comer_ult1_imp_ent_var16_ult1',\n",
       " 'avg_num_op_var39_comer_ult1_saldo_var5',\n",
       " 'avg_num_op_var39_comer_ult1_saldo_var8',\n",
       " 'avg_num_op_var39_comer_ult1_saldo_var30',\n",
       " 'avg_num_op_var39_comer_ult1_saldo_var42',\n",
       " 'avg_num_op_var39_comer_ult1_imp_aport_var13_hace3',\n",
       " 'avg_num_op_var39_comer_ult1_imp_var43_emit_ult1',\n",
       " 'avg_num_op_var39_comer_ult1_imp_trans_var37_ult1',\n",
       " 'avg_num_op_var39_comer_ult1_saldo_medio_var5_hace3',\n",
       " 'avg_num_op_var39_comer_ult1_saldo_medio_var5_ult3',\n",
       " 'avg_num_op_var39_comer_ult1_saldo_medio_var8_hace2',\n",
       " 'avg_num_op_var39_comer_ult1_saldo_medio_var12_hace3',\n",
       " 'avg_num_op_var39_comer_ult1_saldo_medio_var13_corto_hace3',\n",
       " 'avg_num_op_var39_comer_ult3_imp_ent_var16_ult1',\n",
       " 'avg_num_op_var39_comer_ult3_imp_op_var39_efect_ult3',\n",
       " 'avg_num_op_var39_comer_ult3_saldo_var5',\n",
       " 'avg_num_op_var39_comer_ult3_saldo_var13_corto',\n",
       " 'avg_num_op_var39_comer_ult3_saldo_var24',\n",
       " 'avg_num_op_var39_comer_ult3_saldo_var25',\n",
       " 'avg_num_op_var39_comer_ult3_saldo_var30',\n",
       " 'avg_num_op_var39_comer_ult3_saldo_var42',\n",
       " 'avg_num_op_var39_comer_ult3_imp_aport_var13_hace3',\n",
       " 'avg_num_op_var39_comer_ult3_imp_trans_var37_ult1',\n",
       " 'avg_num_op_var39_comer_ult3_saldo_medio_var5_hace2',\n",
       " 'avg_num_op_var39_comer_ult3_saldo_medio_var5_hace3',\n",
       " 'avg_num_op_var39_comer_ult3_saldo_medio_var5_ult1',\n",
       " 'avg_num_op_var39_comer_ult3_saldo_medio_var5_ult3',\n",
       " 'avg_num_op_var39_comer_ult3_saldo_medio_var8_ult3',\n",
       " 'avg_num_op_var39_comer_ult3_saldo_medio_var12_hace3',\n",
       " 'avg_num_op_var41_comer_ult1_imp_ent_var16_ult1',\n",
       " 'avg_num_op_var41_comer_ult1_saldo_var5',\n",
       " 'avg_num_op_var41_comer_ult1_saldo_var8',\n",
       " 'avg_num_op_var41_comer_ult1_saldo_var25',\n",
       " 'avg_num_op_var41_comer_ult1_saldo_var37',\n",
       " 'avg_num_op_var41_comer_ult1_saldo_var42',\n",
       " 'avg_num_op_var41_comer_ult1_imp_var43_emit_ult1',\n",
       " 'avg_num_op_var41_comer_ult1_imp_trans_var37_ult1',\n",
       " 'avg_num_op_var41_comer_ult1_saldo_medio_var5_hace2',\n",
       " 'avg_num_op_var41_comer_ult1_saldo_medio_var5_hace3',\n",
       " 'avg_num_op_var41_comer_ult1_saldo_medio_var5_ult3',\n",
       " 'avg_num_op_var41_comer_ult1_saldo_medio_var8_hace2',\n",
       " 'avg_num_op_var41_comer_ult1_saldo_medio_var12_hace3',\n",
       " 'avg_num_op_var41_comer_ult3_imp_ent_var16_ult1',\n",
       " 'avg_num_op_var41_comer_ult3_saldo_var25',\n",
       " 'avg_num_op_var41_comer_ult3_saldo_var37',\n",
       " 'avg_num_op_var41_comer_ult3_saldo_var42',\n",
       " 'avg_num_op_var41_comer_ult3_imp_var43_emit_ult1',\n",
       " 'avg_num_op_var41_comer_ult3_imp_trans_var37_ult1',\n",
       " 'avg_num_op_var41_comer_ult3_saldo_medio_var5_hace2',\n",
       " 'avg_num_op_var41_comer_ult3_saldo_medio_var8_hace2',\n",
       " 'avg_num_op_var41_comer_ult3_saldo_medio_var8_ult3',\n",
       " 'avg_num_op_var41_comer_ult3_saldo_medio_var12_hace3',\n",
       " 'avg_num_var45_hace2_imp_ent_var16_ult1',\n",
       " 'avg_num_var45_hace2_imp_op_var41_comer_ult1',\n",
       " 'avg_num_var45_hace2_saldo_var5',\n",
       " 'avg_num_var45_hace2_saldo_var8',\n",
       " 'avg_num_var45_hace2_saldo_var26',\n",
       " 'avg_num_var45_hace2_saldo_var37',\n",
       " 'avg_num_var45_hace2_imp_aport_var13_hace3',\n",
       " 'avg_num_var45_hace2_imp_var43_emit_ult1',\n",
       " 'avg_num_var45_hace2_imp_trans_var37_ult1',\n",
       " 'avg_num_var45_hace2_saldo_medio_var5_hace3',\n",
       " 'avg_num_var45_hace2_saldo_medio_var5_ult3',\n",
       " 'avg_num_var45_hace2_saldo_medio_var8_hace2',\n",
       " 'avg_num_var45_hace2_saldo_medio_var12_hace3',\n",
       " 'avg_num_var45_hace2_saldo_medio_var13_corto_hace2',\n",
       " 'avg_num_var45_hace3_imp_ent_var16_ult1',\n",
       " 'avg_num_var45_hace3_imp_op_var39_comer_ult3',\n",
       " 'avg_num_var45_hace3_imp_op_var39_efect_ult3',\n",
       " 'avg_num_var45_hace3_saldo_var26',\n",
       " 'avg_num_var45_hace3_saldo_var37',\n",
       " 'avg_num_var45_hace3_imp_aport_var13_hace3',\n",
       " 'avg_num_var45_hace3_imp_var43_emit_ult1',\n",
       " 'avg_num_var45_hace3_imp_trans_var37_ult1',\n",
       " 'avg_num_var45_hace3_saldo_medio_var5_hace2',\n",
       " 'avg_num_var45_hace3_saldo_medio_var5_hace3',\n",
       " 'avg_num_var45_hace3_saldo_medio_var5_ult3',\n",
       " 'avg_num_var45_hace3_saldo_medio_var8_hace2',\n",
       " 'avg_num_var45_hace3_saldo_medio_var8_ult1',\n",
       " 'avg_num_var45_hace3_saldo_medio_var12_hace2',\n",
       " 'avg_num_var45_hace3_saldo_medio_var12_hace3',\n",
       " 'avg_num_var45_ult1_imp_ent_var16_ult1',\n",
       " 'avg_num_var45_ult1_imp_op_var39_comer_ult3',\n",
       " 'avg_num_var45_ult1_imp_op_var41_efect_ult1',\n",
       " 'avg_num_var45_ult1_imp_op_var39_ult1',\n",
       " 'avg_num_var45_ult1_saldo_var5',\n",
       " 'avg_num_var45_ult1_saldo_var8',\n",
       " 'avg_num_var45_ult1_saldo_var25',\n",
       " 'avg_num_var45_ult1_saldo_var30',\n",
       " 'avg_num_var45_ult1_saldo_var37',\n",
       " 'avg_num_var45_ult1_imp_var43_emit_ult1',\n",
       " 'avg_num_var45_ult1_imp_trans_var37_ult1',\n",
       " 'avg_num_var45_ult1_saldo_medio_var5_hace2',\n",
       " 'avg_num_var45_ult1_saldo_medio_var5_hace3',\n",
       " 'avg_num_var45_ult1_saldo_medio_var5_ult3',\n",
       " 'avg_num_var45_ult1_saldo_medio_var8_hace2',\n",
       " 'avg_num_var45_ult1_saldo_medio_var8_ult3',\n",
       " 'avg_num_var45_ult1_saldo_medio_var12_hace3',\n",
       " 'avg_num_var45_ult1_saldo_medio_var13_corto_ult1',\n",
       " 'avg_num_var45_ult1_no_nonzerosimp',\n",
       " 'avg_num_var45_ult3_imp_op_var39_comer_ult3',\n",
       " 'avg_num_var45_ult3_imp_op_var41_efect_ult1',\n",
       " 'avg_num_var45_ult3_imp_op_var41_ult1',\n",
       " 'avg_num_var45_ult3_saldo_var5',\n",
       " 'avg_num_var45_ult3_saldo_var8',\n",
       " 'avg_num_var45_ult3_saldo_var13_corto',\n",
       " 'avg_num_var45_ult3_saldo_var26',\n",
       " 'avg_num_var45_ult3_saldo_var30',\n",
       " 'avg_num_var45_ult3_saldo_var37',\n",
       " 'avg_num_var45_ult3_imp_var43_emit_ult1',\n",
       " 'avg_num_var45_ult3_imp_trans_var37_ult1',\n",
       " 'avg_num_var45_ult3_saldo_medio_var5_hace2',\n",
       " 'avg_num_var45_ult3_saldo_medio_var5_hace3',\n",
       " 'avg_num_var45_ult3_saldo_medio_var5_ult3',\n",
       " 'avg_num_var45_ult3_saldo_medio_var8_hace2',\n",
       " 'avg_num_var45_ult3_saldo_medio_var12_hace3',\n",
       " 'avg_num_var45_ult3_saldo_medio_var13_corto_hace3',\n",
       " 'avg_num_var45_ult3_no_nonzerossaldo',\n",
       " 'avg_no_zeros_imp_op_var39_efect_ult1',\n",
       " 'avg_no_zeros_imp_aport_var13_hace3',\n",
       " 'avg_no_zeros_imp_trans_var37_ult1',\n",
       " 'avg_no_zeros_saldo_medio_var5_hace2',\n",
       " 'avg_no_zeros_saldo_medio_var5_ult1',\n",
       " 'avg_no_zeros_saldo_medio_var5_ult3',\n",
       " 'avg_no_zeros_saldo_medio_var8_hace2',\n",
       " 'avg_no_zeros_saldo_medio_var13_corto_hace3',\n",
       " 'avg_no_zeros_no_zerosimp',\n",
       " 'avg_no_zeros_no_nonzerossaldo',\n",
       " 'avg_no_nonzeros_imp_ent_var16_ult1',\n",
       " 'avg_no_nonzeros_saldo_var13',\n",
       " 'avg_no_nonzeros_saldo_var25',\n",
       " 'avg_no_nonzeros_saldo_var37',\n",
       " 'avg_no_nonzeros_imp_var43_emit_ult1',\n",
       " 'avg_no_nonzeros_saldo_medio_var5_hace3',\n",
       " 'avg_no_nonzeros_saldo_medio_var8_ult1',\n",
       " 'avg_no_nonzeros_saldo_medio_var12_hace3',\n",
       " 'avg_no_zerosnum_imp_ent_var16_ult1',\n",
       " 'avg_no_zerosnum_imp_op_var39_efect_ult1',\n",
       " 'avg_no_zerosnum_saldo_var42',\n",
       " 'avg_no_zerosnum_imp_trans_var37_ult1',\n",
       " 'avg_no_zerosnum_saldo_medio_var5_hace2',\n",
       " 'avg_no_zerosnum_saldo_medio_var5_hace3',\n",
       " 'avg_no_zerosnum_saldo_medio_var5_ult3',\n",
       " 'avg_no_zerosnum_saldo_medio_var8_hace2',\n",
       " 'avg_no_nonzerosnum_saldo_var25',\n",
       " 'avg_no_nonzerosnum_saldo_var37',\n",
       " 'avg_no_nonzerosnum_saldo_medio_var5_ult1',\n",
       " 'avg_no_nonzerosnum_saldo_medio_var8_ult1',\n",
       " 'avg_no_nonzerosnum_saldo_medio_var12_hace3']"
      ]
     },
     "execution_count": 74,
     "metadata": {},
     "output_type": "execute_result"
    }
   ],
   "source": [
    "features = [i for i in X_train.columns if (('saldo' in i)) | (\"imp\" in i) & ((X_train[i].values >= 0)).all()]#if (('saldo' in i) | (\"imp\" in i)) & ((X_train[i].values >= 0).all())]\n",
    "features"
   ]
  },
  {
   "cell_type": "code",
   "execution_count": 75,
   "id": "042d3779",
   "metadata": {},
   "outputs": [],
   "source": [
    "#features = [i for i in X_train.columns if (('saldo' in i) | (\"imp\" in i)) & ((X_train[i].values >= 0).all())]\n",
    "X_train_1, X_test_1 = apply_loglp(features)\n"
   ]
  },
  {
   "cell_type": "code",
   "execution_count": 76,
   "id": "49f26066",
   "metadata": {},
   "outputs": [
    {
     "data": {
      "text/plain": [
       "((76020, 348), (75818, 347))"
      ]
     },
     "execution_count": 76,
     "metadata": {},
     "output_type": "execute_result"
    }
   ],
   "source": [
    "X_train_1.to_pickle('output/X_train_1.pkl')\n",
    "X_test_1.to_pickle('output/X_test_1.pkl')\n",
    "\n",
    "X_train_1.shape,X_test_1.shape"
   ]
  },
  {
   "cell_type": "markdown",
   "id": "bfeca0ee",
   "metadata": {},
   "source": [
    "### 独热编码"
   ]
  },
  {
   "cell_type": "code",
   "execution_count": 77,
   "id": "cdbec68a",
   "metadata": {},
   "outputs": [
    {
     "name": "stdout",
     "output_type": "stream",
     "text": [
      "有 17 个特征其唯一值数量（2，10] 并使用它们创建独热编码和响应编码变量，同时删除原始特征\n"
     ]
    }
   ],
   "source": [
    "cat_col = []\n",
    "for col in X_train.columns:\n",
    "    if (X_train[col].nunique() <= 10) & (col != 'TARGET') & (X_train[col].nunique() > 2 ):\n",
    "        cat_col.append(col)\n",
    "print(\"有 %i 个特征其唯一值数量（2，10] 并使用它们创建独热编码和响应编码变量，同时删除原始特征\" % (len(cat_col)))"
   ]
  },
  {
   "cell_type": "code",
   "execution_count": 78,
   "id": "1d896bb8",
   "metadata": {},
   "outputs": [],
   "source": [
    "def one_hot_encoding(col, train = X_train, test =X_test):\n",
    "    \"\"\"\n",
    "    对训练集和测试集中的特征进行独热编码\n",
    "    \"\"\"\n",
    "    ohe = OneHotEncoder(sparse=True, handle_unknown = 'ignore')\n",
    "    ohe.fit(train[col])\n",
    "    feature_names = list(ohe.get_feature_names_out(input_features=col))\n",
    "    print(feature_names)\n",
    "    features = list(train.drop(col, axis = 1).columns)\n",
    "    features.extend(feature_names)\n",
    "    \n",
    "    #train\n",
    "    df = train.copy()\n",
    "    temp = ohe.transform(df[col])\n",
    "    df.drop(col, axis =1, inplace= True)\n",
    "    train = pd.DataFrame(hstack([df.values, temp]).toarray(), columns= features)\n",
    "    train = train.loc[:, ~train.columns.duplicated(keep = 'first')]\n",
    "    \n",
    "     #test\n",
    "    df = test.copy()\n",
    "    temp = ohe.transform(df[col])\n",
    "    df.drop(col, axis =1, inplace= True)\n",
    "    features.remove('TARGET')\n",
    "    test = pd.DataFrame(hstack([df.values, temp]).toarray(), columns= features)\n",
    "    test = train.loc[:, ~test.columns.duplicated(keep = 'first')]\n",
    "    \n",
    "    return train, test\n",
    "    "
   ]
  },
  {
   "cell_type": "code",
   "execution_count": 79,
   "id": "61ddda1c",
   "metadata": {},
   "outputs": [
    {
     "name": "stdout",
     "output_type": "stream",
     "text": [
      "['var15_0', 'var15_1', 'var15_2', 'var15_3', 'var15_4', 'num_var4_0', 'num_var4_1', 'num_var4_2', 'num_var4_3', 'num_var4_4', 'num_var4_5', 'num_var4_6', 'num_var4_7', 'num_var5_0_0', 'num_var5_0_3', 'num_var5_0_6', 'num_var5_0_9', 'num_var5_0_15', 'num_var12_0_0', 'num_var12_0_3', 'num_var12_0_6', 'num_var12_0_9', 'num_var12_0_15', 'num_var12_0_111', 'num_var13_largo_0_0', 'num_var13_largo_0_3', 'num_var13_largo_0_6', 'num_var13_largo_0_9', 'num_var13_largo_0_12', 'num_var13_largo_0_15', 'num_var13_largo_0_18', 'num_var14_0_0', 'num_var14_0_3', 'num_var14_0_6', 'num_var14_0_12', 'num_var14_0_111', 'num_var25_0', 'num_var25_3', 'num_var25_6', 'num_var25_9', 'num_var25_12', 'num_var25_15', 'num_var25_21', 'num_var25_27', 'num_var25_33', 'num_var30_0', 'num_var30_3', 'num_var30_6', 'num_var30_9', 'num_var30_12', 'num_var30_15', 'num_var30_18', 'num_var30_21', 'num_var30_33', 'num_var40_0_0', 'num_var40_0_3', 'num_var40_0_6', 'num_var41_0_0', 'num_var41_0_3', 'num_var41_0_6', 'num_var41_0_9', 'num_var41_0_12', 'num_var41_0_15', 'num_var41_0_18', 'num_var41_0_21', 'num_var41_0_33', 'num_var42_0_0', 'num_var42_0_3', 'num_var42_0_6', 'num_var42_0_9', 'num_var42_0_12', 'num_var42_0_15', 'num_var42_0_18', 'num_var42_0_114', 'num_var42_0', 'num_var42_3', 'num_var42_6', 'num_var42_9', 'num_var42_12', 'num_var42_15', 'num_var42_18', 'var36_0', 'var36_1', 'var36_2', 'var36_3', 'var36_99', 'num_aport_var13_hace3_0', 'num_aport_var13_hace3_3', 'num_aport_var13_hace3_6', 'num_aport_var13_hace3_9', 'num_aport_var13_hace3_12', 'num_aport_var13_hace3_15', 'num_aport_var13_hace3_18', 'num_aport_var13_hace3_24', 'num_meses_var5_ult3_0', 'num_meses_var5_ult3_1', 'num_meses_var5_ult3_2', 'num_meses_var5_ult3_3', 'num_meses_var8_ult3_0', 'num_meses_var8_ult3_1', 'num_meses_var8_ult3_2', 'num_meses_var8_ult3_3', 'num_meses_var39_vig_ult3_0', 'num_meses_var39_vig_ult3_1', 'num_meses_var39_vig_ult3_2', 'num_meses_var39_vig_ult3_3']\n",
      "['var15_0', 'var15_1', 'var15_2', 'var15_3', 'var15_4', 'num_var4_0', 'num_var4_1', 'num_var4_2', 'num_var4_3', 'num_var4_4', 'num_var4_5', 'num_var4_6', 'num_var4_7', 'num_var5_0_0', 'num_var5_0_3', 'num_var5_0_6', 'num_var5_0_9', 'num_var5_0_15', 'num_var12_0_0', 'num_var12_0_3', 'num_var12_0_6', 'num_var12_0_9', 'num_var12_0_15', 'num_var12_0_111', 'num_var13_largo_0_0', 'num_var13_largo_0_3', 'num_var13_largo_0_6', 'num_var13_largo_0_9', 'num_var13_largo_0_12', 'num_var13_largo_0_15', 'num_var13_largo_0_18', 'num_var14_0_0', 'num_var14_0_3', 'num_var14_0_6', 'num_var14_0_12', 'num_var14_0_111', 'num_var25_0', 'num_var25_3', 'num_var25_6', 'num_var25_9', 'num_var25_12', 'num_var25_15', 'num_var25_21', 'num_var25_27', 'num_var25_33', 'num_var30_0', 'num_var30_3', 'num_var30_6', 'num_var30_9', 'num_var30_12', 'num_var30_15', 'num_var30_18', 'num_var30_21', 'num_var30_33', 'num_var40_0_0', 'num_var40_0_3', 'num_var40_0_6', 'num_var41_0_0', 'num_var41_0_3', 'num_var41_0_6', 'num_var41_0_9', 'num_var41_0_12', 'num_var41_0_15', 'num_var41_0_18', 'num_var41_0_21', 'num_var41_0_33', 'num_var42_0_0', 'num_var42_0_3', 'num_var42_0_6', 'num_var42_0_9', 'num_var42_0_12', 'num_var42_0_15', 'num_var42_0_18', 'num_var42_0_114', 'num_var42_0', 'num_var42_3', 'num_var42_6', 'num_var42_9', 'num_var42_12', 'num_var42_15', 'num_var42_18', 'var36_0', 'var36_1', 'var36_2', 'var36_3', 'var36_99', 'num_aport_var13_hace3_0', 'num_aport_var13_hace3_3', 'num_aport_var13_hace3_6', 'num_aport_var13_hace3_9', 'num_aport_var13_hace3_12', 'num_aport_var13_hace3_15', 'num_aport_var13_hace3_18', 'num_aport_var13_hace3_24', 'num_meses_var5_ult3_0', 'num_meses_var5_ult3_1', 'num_meses_var5_ult3_2', 'num_meses_var5_ult3_3', 'num_meses_var8_ult3_0', 'num_meses_var8_ult3_1', 'num_meses_var8_ult3_2', 'num_meses_var8_ult3_3', 'num_meses_var39_vig_ult3_0', 'num_meses_var39_vig_ult3_1', 'num_meses_var39_vig_ult3_2', 'num_meses_var39_vig_ult3_3']\n"
     ]
    },
    {
     "data": {
      "text/plain": [
       "((76020, 436), (76020, 435), (76020, 436), (76020, 435))"
      ]
     },
     "execution_count": 79,
     "metadata": {},
     "output_type": "execute_result"
    }
   ],
   "source": [
    "X_train_ohe, X_test_ohe = one_hot_encoding(cat_col)\n",
    "X_train_1_ohe, X_test_1_ohe = one_hot_encoding(cat_col, X_train_1, X_test_1)\n",
    "X_train_ohe.shape, X_test_ohe.shape, X_train_1_ohe.shape, X_test_1_ohe.shape"
   ]
  },
  {
   "cell_type": "code",
   "execution_count": 80,
   "id": "67c90813",
   "metadata": {},
   "outputs": [
    {
     "data": {
      "text/plain": [
       "0        0.0\n",
       "1        0.0\n",
       "2        0.0\n",
       "3        0.0\n",
       "4        0.0\n",
       "        ... \n",
       "76015    0.0\n",
       "76016    0.0\n",
       "76017    0.0\n",
       "76018    0.0\n",
       "76019    0.0\n",
       "Name: num_var25_33, Length: 76020, dtype: float64"
      ]
     },
     "execution_count": 80,
     "metadata": {},
     "output_type": "execute_result"
    }
   ],
   "source": [
    "X_train_ohe['num_var25_33']"
   ]
  },
  {
   "cell_type": "markdown",
   "id": "e3493d2f",
   "metadata": {},
   "source": [
    "### 响应编码"
   ]
  },
  {
   "cell_type": "code",
   "execution_count": 81,
   "id": "f47843a8",
   "metadata": {},
   "outputs": [],
   "source": [
    "def response_encoding_return(df, column, target, alpha = 5000):\n",
    "    \"\"\"\n",
    "    使用带有拉普拉斯平滑的响应编码到分类列column, 并在训练测试验证数据集中转换到相应的列\n",
    "    此函数用来寻找最优的alpha\n",
    "    \"\"\"\n",
    "    unique_values = set(df[column].values)\n",
    "    dict_values = {}\n",
    "    \n",
    "    for value in unique_values:\n",
    "        total = len(df[df[column] == value])\n",
    "        sum_promoted = len(df[(df[column] == value)& df[target] == 1])\n",
    "        dict_values[value] = np.round((sum_promoted + alpha) / (total + alpha * len(unique_values)), 2)\n",
    "    return dict_values"
   ]
  },
  {
   "cell_type": "code",
   "execution_count": 82,
   "id": "e1e5b2fb",
   "metadata": {},
   "outputs": [],
   "source": [
    "def find_alpha(seed):\n",
    "    random.seed(seed)\n",
    "    ran_in = random.randint(0, 10)\n",
    "    col = [col for col in cat_col if X_train[col].nunique() >3][ran_in]\n",
    "    \n",
    "    print('Feature: \"%s\"' % (col))\n",
    "    \n",
    "    for alpha in [100, 500, 1000, 2500, 5000, 10000]:\n",
    "        print('for alpha %i:%s' % (alpha, response_encoding_return(X_train, col, 'TARGET', alpha = alpha)))"
   ]
  },
  {
   "cell_type": "code",
   "execution_count": 83,
   "id": "71a6984a",
   "metadata": {},
   "outputs": [
    {
     "name": "stdout",
     "output_type": "stream",
     "text": [
      "Feature: \"num_var5_0\"\n",
      "for alpha 100:{0: 0.09, 3: 0.04, 6: 0.13, 9: 0.2, 15: 0.2}\n",
      "for alpha 500:{0: 0.13, 3: 0.04, 6: 0.18, 9: 0.2, 15: 0.2}\n",
      "for alpha 1000:{0: 0.15, 3: 0.05, 6: 0.19, 9: 0.2, 15: 0.2}\n",
      "for alpha 2500:{0: 0.17, 3: 0.06, 6: 0.19, 9: 0.2, 15: 0.2}\n",
      "for alpha 5000:{0: 0.19, 3: 0.08, 6: 0.2, 9: 0.2, 15: 0.2}\n",
      "for alpha 10000:{0: 0.19, 3: 0.1, 6: 0.2, 9: 0.2, 15: 0.2}\n",
      "Feature: \"num_var25\"\n",
      "for alpha 100:{0: 0.04, 33: 0.11, 3: 0.08, 6: 0.1, 9: 0.11, 12: 0.11, 15: 0.11, 21: 0.11, 27: 0.11}\n",
      "for alpha 500:{0: 0.04, 33: 0.11, 3: 0.1, 6: 0.11, 9: 0.11, 12: 0.11, 15: 0.11, 21: 0.11, 27: 0.11}\n",
      "for alpha 1000:{0: 0.05, 33: 0.11, 3: 0.1, 6: 0.11, 9: 0.11, 12: 0.11, 15: 0.11, 21: 0.11, 27: 0.11}\n",
      "for alpha 2500:{0: 0.06, 33: 0.11, 3: 0.11, 6: 0.11, 9: 0.11, 12: 0.11, 15: 0.11, 21: 0.11, 27: 0.11}\n",
      "for alpha 5000:{0: 0.07, 33: 0.11, 3: 0.11, 6: 0.11, 9: 0.11, 12: 0.11, 15: 0.11, 21: 0.11, 27: 0.11}\n",
      "for alpha 10000:{0: 0.08, 33: 0.11, 3: 0.11, 6: 0.11, 9: 0.11, 12: 0.11, 15: 0.11, 21: 0.11, 27: 0.11}\n"
     ]
    }
   ],
   "source": [
    "find_alpha(100)\n",
    "find_alpha(1000) # 100"
   ]
  },
  {
   "cell_type": "code",
   "execution_count": 84,
   "id": "5d8b9482",
   "metadata": {},
   "outputs": [],
   "source": [
    "def response_encoding(df, test_df, column, target = 'TARGET', alpha =5000):\n",
    "    feature = column + \"_1\"\n",
    "    feature_ = column + '_0'\n",
    "    unique_values = set(df[column].values)\n",
    "    dict_values = {}\n",
    "    dict_values_ = {}\n",
    "    for value in unique_values:\n",
    "        total = len(df[df[column] == value])\n",
    "        sum_promoted = len(df[(df[column] == value)& df[target] == 1])\n",
    "        sum_unpromoted = total - sum_promoted\n",
    "        dict_values[value] = np.round((sum_promoted + alpha) / (total + alpha * len(unique_values)), 2) # 拉普拉斯平滑\n",
    "        dict_values_[value] = np.round((sum_unpromoted + alpha) / (total + alpha * len(unique_values)), 2)\n",
    "    dict_values['unknow'] = 0.5\n",
    "    dict_values_['unknow'] = 0.5\n",
    "    df[feature] = (df[column].map(dict_values)).values\n",
    "    df[feature_] = (df[column].map(dict_values)).values\n",
    "    df.drop(column, axis =1, inplace =True)\n",
    "                                       \n",
    "    unique_values_test = set(test_df[column].values)\n",
    "                                       \n",
    "    test_df[column] = test_df[column].apply(lambda x: 'unknow' if x in (unique_values_test- unique_values) else x)\n",
    "    test_df[feature] = (test_df[column].map(dict_values)).values\n",
    "    test_df[feature_] = (test_df[column].map(dict_values_)).values\n",
    "    test_df.drop(column, axis =1, inplace = True)\n",
    "                                       \n",
    "                                       "
   ]
  },
  {
   "cell_type": "code",
   "execution_count": 85,
   "id": "b039a8f9",
   "metadata": {},
   "outputs": [
    {
     "name": "stderr",
     "output_type": "stream",
     "text": [
      "100%|██████████████████████████████████████████████████████████████████████████████████| 17/17 [00:18<00:00,  1.10s/it]\n"
     ]
    },
    {
     "data": {
      "text/plain": [
       "((76020, 364), (75818, 363), (76020, 364), (75818, 363))"
      ]
     },
     "execution_count": 85,
     "metadata": {},
     "output_type": "execute_result"
    }
   ],
   "source": [
    "alpha =100\n",
    "X_train_re = X_train.copy()\n",
    "X_test_re = X_test.copy()\n",
    "X_train_1_re = X_train.copy()\n",
    "X_test_1_re = X_test.copy()\n",
    "for col in tqdm(cat_col):\n",
    "    response_encoding(X_train_re,X_test_re, col, alpha=alpha)\n",
    "    response_encoding(X_train_1_re, X_test_1_re, col, alpha=alpha)\n",
    "X_train_re.shape, X_test_re.shape, X_train_1_re.shape, X_test_1_re.shape"
   ]
  },
  {
   "cell_type": "code",
   "execution_count": 86,
   "id": "f0f07e65",
   "metadata": {},
   "outputs": [
    {
     "data": {
      "text/plain": [
       "0        0.0\n",
       "1        0.0\n",
       "2        0.0\n",
       "3        0.0\n",
       "4        0.0\n",
       "        ... \n",
       "76015    0.0\n",
       "76016    0.0\n",
       "76017    0.0\n",
       "76018    0.0\n",
       "76019    0.0\n",
       "Name: num_var25_33, Length: 76020, dtype: float64"
      ]
     },
     "execution_count": 86,
     "metadata": {},
     "output_type": "execute_result"
    }
   ],
   "source": [
    "X_train_1_ohe['num_var25_33']"
   ]
  },
  {
   "cell_type": "markdown",
   "id": "1c92d9a5",
   "metadata": {},
   "source": [
    "### 标准化处理"
   ]
  },
  {
   "cell_type": "code",
   "execution_count": 87,
   "id": "095deac6",
   "metadata": {},
   "outputs": [],
   "source": [
    "def stdzation(train, test):\n",
    "    #col = [i for i in train.columns if (i != 'TARGET') & (i != 'ID') & (i !='num_var25_33')] ### 有问题\n",
    "    col = [i for i in train.columns if (i != 'TARGET') & (i != 'ID') ]\n",
    "    scaler = StandardScaler()\n",
    "    train[col] = scaler.fit_transform(train[col])\n",
    "    test[col] = scaler.fit_transform(test[col])"
   ]
  },
  {
   "cell_type": "code",
   "execution_count": 88,
   "id": "32bfa52c",
   "metadata": {},
   "outputs": [],
   "source": [
    "datasets = [#(X_train, X_test), (X_train_re, X_test_re), (X_train_ohe, X_test_ohe),\n",
    "            (X_train_1, X_test_1), (X_train_1_re, X_test_1_re)]#(X_train_1_ohe, X_test_1_ohe)]"
   ]
  },
  {
   "cell_type": "code",
   "execution_count": 89,
   "id": "42dec81e",
   "metadata": {
    "scrolled": true
   },
   "outputs": [],
   "source": [
    "for train, test in datasets:\n",
    "    stdzation(train, test)"
   ]
  },
  {
   "cell_type": "code",
   "execution_count": 90,
   "id": "4b07646b",
   "metadata": {},
   "outputs": [
    {
     "name": "stdout",
     "output_type": "stream",
     "text": [
      "不同数据集的最终特征数： \n",
      "normal:\t347\n",
      "normal_re:\t363\n"
     ]
    }
   ],
   "source": [
    "datasets_labels = ['normal', \"normal_re\", 'normal_ohe', \"log\", \"log_re\", \"log_ohe\"]\n",
    "print(\"不同数据集的最终特征数： \")\n",
    "\n",
    "for i, (train, test) in enumerate(datasets):\n",
    "    print(\"%s:\\t%i\" % (datasets_labels[i], test.shape[1]))"
   ]
  },
  {
   "cell_type": "code",
   "execution_count": 91,
   "id": "fe286fd7",
   "metadata": {},
   "outputs": [],
   "source": [
    "for  i, (train, test)in enumerate(datasets):\n",
    "    file = datasets_labels[i] + '.kpl'\n",
    "    train.to_pickle('output/train_' +file)\n",
    "    test.to_pickle('output/test_' +file)"
   ]
  },
  {
   "cell_type": "markdown",
   "id": "03a210e0",
   "metadata": {},
   "source": [
    "# 4. 模型"
   ]
  },
  {
   "cell_type": "code",
   "execution_count": 92,
   "id": "5d7476de",
   "metadata": {},
   "outputs": [
    {
     "data": {
      "text/plain": [
       "((64617, 362), (11403, 362), (75818, 362))"
      ]
     },
     "execution_count": 92,
     "metadata": {},
     "output_type": "execute_result"
    }
   ],
   "source": [
    "dataset = 'log_re'\n",
    "train = pd.read_pickle(\"output/train_log_re.kpl\")\n",
    "test = pd.read_pickle(\"output/test_log_re.kpl\")\n",
    "X_train = train.drop(['ID', 'TARGET'], axis = 1)\n",
    "y_train = train['TARGET'].values\n",
    "X_test = test.drop(\"ID\",axis=1)\n",
    "test_id = test['ID']\n",
    "del train, test\n",
    "\n",
    "X_train, X_val, y_train, y_val = train_test_split(X_train, y_train, stratify = y_train,test_size = 0.15, random_state = 42)\n",
    "# sttatify = y \n",
    "X_train.shape, X_val.shape, X_test.shape"
   ]
  },
  {
   "cell_type": "markdown",
   "id": "a2be9d31",
   "metadata": {},
   "source": [
    "### 4.1 定义AUC函数和调参函数"
   ]
  },
  {
   "cell_type": "code",
   "execution_count": 93,
   "id": "b7519684",
   "metadata": {},
   "outputs": [],
   "source": [
    "global i\n",
    "i = 0\n",
    "\"\"\"\n",
    "给出 y_true y_pred时汇出ROC曲线\n",
    "dataset:哪一个数据集\n",
    "label:哪一个模型\n",
    "\"\"\"\n",
    "def plot_auc(y_true, y_pred, label, dataset = dataset):\n",
    "    if (type(label) != list) & (type(label) != np.array):\n",
    "        print(\"\\t\\t %s on %s dataset \\t\\t \\n\" % (label, dataset))\n",
    "        auc = roc_auc_score(y_true, y_pred)\n",
    "        logloss = log_loss(y_true, y_pred)\n",
    "        label_1 = label + \"AUC =%.3f\" % (auc)\n",
    "\n",
    "        # 绘图\n",
    "        fpr, tpr, threshold = roc_curve(y_true, y_pred)\n",
    "        sns.lineplot(fpr, tpr, label = label_1)\n",
    "        x= np.arange(0, 1.1, 0.1)\n",
    "        sns.lineplot(x,x, label = \"AUC=0.5\")\n",
    "        plt.title(\"ROC on %s dataset\" % (dataset))\n",
    "        plt.xlabel(\"False Positive Rate\")\n",
    "        plt.ylabel(\"True Positive Rate\")\n",
    "        plt.legend(bbox_to_anchor=(1.05, 1), loc=2, borderaxespad=0.)\n",
    "        plt.show()\n",
    "        print(\"在 %s 数据集上 %s 模型的logloss = %.3f AUC = %.3f\" % (dataset, label, logloss, auc))\n",
    "\n",
    "        # \n",
    "        result_dict ={\n",
    "            'Model': label,\n",
    "            'Dataset':dataset,\n",
    "            'log_loss':logloss,\n",
    "            'AUC': auc\n",
    "        }\n",
    "        return pd.DataFrame(result_dict, index=[i])\n",
    "    else:\n",
    "            plt.figure(figsize=(12, 8))\n",
    "            for k, y in enumerate(12,8):\n",
    "                fpr, tpr, threshold = roc_curve(y_true, y)\n",
    "                auc = roc_auc_score(y_true, y)\n",
    "                label_ = label[k] + 'AUC=%f' % (auc)\n",
    "                sns.lineplot(fpr, tpr, label = label_)\n",
    "            \n",
    "            x = np.arange(0,1.1, 0.1)\n",
    "            sns.lineplot(x,x, label='AUC=0.5')\n",
    "            plt.title(\"Combined ROC\")\n",
    "            plt.xlabel(\"False Positive Rate\")\n",
    "            plt.ylabel(\"True Postitive Rate\")\n",
    "            plt.legend(bbox_to_anchor = (1.05, 1), loc=2, borderaxespad=0.)\n",
    "            plt.show()\n",
    "\n",
    "\n",
    "\n",
    "\n"
   ]
  },
  {
   "cell_type": "code",
   "execution_count": 94,
   "id": "2c6ac9d6",
   "metadata": {},
   "outputs": [],
   "source": [
    "def find_best_params(model, params, cv =10, n_jobs = -1, X_train = X_train):\n",
    "    \"\"\"\n",
    "    使用随即搜索RandomizedSearchCV调参，返回最佳模型\n",
    "    \"\"\"\n",
    "    random_cv = RandomizedSearchCV(model,\n",
    "                                  param_distributions = params,\n",
    "                                  scoring = 'roc_auc',\n",
    "                                  n_jobs=n_jobs,\n",
    "                                  cv =cv,\n",
    "                                  verbose=2)\n",
    "    random_cv.fit(X_train, y_train)\n",
    "    print(\"最佳的AUC得分为： %.3f\" % (random_cv.best_score_))\n",
    "    print(\"最佳的参数为:%s \" % (random_cv.best_params_))\n",
    "    return random_cv.best_score_, random_cv.best_params_"
   ]
  },
  {
   "cell_type": "markdown",
   "id": "f2fbd221",
   "metadata": {},
   "source": [
    "#### 逻辑回归"
   ]
  },
  {
   "cell_type": "code",
   "execution_count": 95,
   "id": "97aa1586",
   "metadata": {},
   "outputs": [],
   "source": [
    "model_lr = LogisticRegression(class_weight = \"balanced\")\n",
    "params = {\n",
    "    'penalty': ['l2', \"l1\"],\n",
    "    'C': [10.** i for i in np.arange(-3,4,1)],\n",
    "    'fit_intercept': [True, False],\n",
    "}"
   ]
  },
  {
   "cell_type": "code",
   "execution_count": 96,
   "id": "a26e7ad2",
   "metadata": {},
   "outputs": [
    {
     "name": "stdout",
     "output_type": "stream",
     "text": [
      "Fitting 10 folds for each of 10 candidates, totalling 100 fits\n",
      "最佳的AUC得分为： 0.647\n",
      "最佳的参数为:{'penalty': 'l2', 'fit_intercept': False, 'C': 10.0} \n",
      "Wall time: 1min 31s\n"
     ]
    },
    {
     "data": {
      "text/plain": [
       "(0.6468306996451094, {'penalty': 'l2', 'fit_intercept': False, 'C': 10.0})"
      ]
     },
     "execution_count": 96,
     "metadata": {},
     "output_type": "execute_result"
    }
   ],
   "source": [
    "%%time\n",
    "find_best_params(model_lr, params)"
   ]
  },
  {
   "cell_type": "code",
   "execution_count": 97,
   "id": "5c625ebb",
   "metadata": {},
   "outputs": [
    {
     "data": {
      "text/html": [
       "<style>#sk-container-id-1 {color: black;background-color: white;}#sk-container-id-1 pre{padding: 0;}#sk-container-id-1 div.sk-toggleable {background-color: white;}#sk-container-id-1 label.sk-toggleable__label {cursor: pointer;display: block;width: 100%;margin-bottom: 0;padding: 0.3em;box-sizing: border-box;text-align: center;}#sk-container-id-1 label.sk-toggleable__label-arrow:before {content: \"▸\";float: left;margin-right: 0.25em;color: #696969;}#sk-container-id-1 label.sk-toggleable__label-arrow:hover:before {color: black;}#sk-container-id-1 div.sk-estimator:hover label.sk-toggleable__label-arrow:before {color: black;}#sk-container-id-1 div.sk-toggleable__content {max-height: 0;max-width: 0;overflow: hidden;text-align: left;background-color: #f0f8ff;}#sk-container-id-1 div.sk-toggleable__content pre {margin: 0.2em;color: black;border-radius: 0.25em;background-color: #f0f8ff;}#sk-container-id-1 input.sk-toggleable__control:checked~div.sk-toggleable__content {max-height: 200px;max-width: 100%;overflow: auto;}#sk-container-id-1 input.sk-toggleable__control:checked~label.sk-toggleable__label-arrow:before {content: \"▾\";}#sk-container-id-1 div.sk-estimator input.sk-toggleable__control:checked~label.sk-toggleable__label {background-color: #d4ebff;}#sk-container-id-1 div.sk-label input.sk-toggleable__control:checked~label.sk-toggleable__label {background-color: #d4ebff;}#sk-container-id-1 input.sk-hidden--visually {border: 0;clip: rect(1px 1px 1px 1px);clip: rect(1px, 1px, 1px, 1px);height: 1px;margin: -1px;overflow: hidden;padding: 0;position: absolute;width: 1px;}#sk-container-id-1 div.sk-estimator {font-family: monospace;background-color: #f0f8ff;border: 1px dotted black;border-radius: 0.25em;box-sizing: border-box;margin-bottom: 0.5em;}#sk-container-id-1 div.sk-estimator:hover {background-color: #d4ebff;}#sk-container-id-1 div.sk-parallel-item::after {content: \"\";width: 100%;border-bottom: 1px solid gray;flex-grow: 1;}#sk-container-id-1 div.sk-label:hover label.sk-toggleable__label {background-color: #d4ebff;}#sk-container-id-1 div.sk-serial::before {content: \"\";position: absolute;border-left: 1px solid gray;box-sizing: border-box;top: 0;bottom: 0;left: 50%;z-index: 0;}#sk-container-id-1 div.sk-serial {display: flex;flex-direction: column;align-items: center;background-color: white;padding-right: 0.2em;padding-left: 0.2em;position: relative;}#sk-container-id-1 div.sk-item {position: relative;z-index: 1;}#sk-container-id-1 div.sk-parallel {display: flex;align-items: stretch;justify-content: center;background-color: white;position: relative;}#sk-container-id-1 div.sk-item::before, #sk-container-id-1 div.sk-parallel-item::before {content: \"\";position: absolute;border-left: 1px solid gray;box-sizing: border-box;top: 0;bottom: 0;left: 50%;z-index: -1;}#sk-container-id-1 div.sk-parallel-item {display: flex;flex-direction: column;z-index: 1;position: relative;background-color: white;}#sk-container-id-1 div.sk-parallel-item:first-child::after {align-self: flex-end;width: 50%;}#sk-container-id-1 div.sk-parallel-item:last-child::after {align-self: flex-start;width: 50%;}#sk-container-id-1 div.sk-parallel-item:only-child::after {width: 0;}#sk-container-id-1 div.sk-dashed-wrapped {border: 1px dashed gray;margin: 0 0.4em 0.5em 0.4em;box-sizing: border-box;padding-bottom: 0.4em;background-color: white;}#sk-container-id-1 div.sk-label label {font-family: monospace;font-weight: bold;display: inline-block;line-height: 1.2em;}#sk-container-id-1 div.sk-label-container {text-align: center;}#sk-container-id-1 div.sk-container {/* jupyter's `normalize.less` sets `[hidden] { display: none; }` but bootstrap.min.css set `[hidden] { display: none !important; }` so we also need the `!important` here to be able to override the default hidden behavior on the sphinx rendered scikit-learn.org. See: https://github.com/scikit-learn/scikit-learn/issues/21755 */display: inline-block !important;position: relative;}#sk-container-id-1 div.sk-text-repr-fallback {display: none;}</style><div id=\"sk-container-id-1\" class=\"sk-top-container\"><div class=\"sk-text-repr-fallback\"><pre>LogisticRegression(C=0.1, class_weight=&#x27;balanced&#x27;)</pre><b>In a Jupyter environment, please rerun this cell to show the HTML representation or trust the notebook. <br />On GitHub, the HTML representation is unable to render, please try loading this page with nbviewer.org.</b></div><div class=\"sk-container\" hidden><div class=\"sk-item\"><div class=\"sk-estimator sk-toggleable\"><input class=\"sk-toggleable__control sk-hidden--visually\" id=\"sk-estimator-id-1\" type=\"checkbox\" checked><label for=\"sk-estimator-id-1\" class=\"sk-toggleable__label sk-toggleable__label-arrow\">LogisticRegression</label><div class=\"sk-toggleable__content\"><pre>LogisticRegression(C=0.1, class_weight=&#x27;balanced&#x27;)</pre></div></div></div></div></div>"
      ],
      "text/plain": [
       "LogisticRegression(C=0.1, class_weight='balanced')"
      ]
     },
     "execution_count": 97,
     "metadata": {},
     "output_type": "execute_result"
    }
   ],
   "source": [
    "model_lr = LogisticRegression(C=0.1, class_weight='balanced')\n",
    "model_lr.fit(X_train, y_train)"
   ]
  },
  {
   "cell_type": "code",
   "execution_count": 98,
   "id": "03356d40",
   "metadata": {},
   "outputs": [
    {
     "name": "stdout",
     "output_type": "stream",
     "text": [
      "\t\t Logistic Regression on log_re dataset \t\t \n",
      "\n"
     ]
    },
    {
     "data": {
      "image/png": "[encoded data removed]",
      "text/plain": [
       "<Figure size 432x288 with 1 Axes>"
      ]
     },
     "metadata": {
      "needs_background": "light"
     },
     "output_type": "display_data"
    },
    {
     "name": "stdout",
     "output_type": "stream",
     "text": [
      "在 log_re 数据集上 Logistic Regression 模型的logloss = 0.658 AUC = 0.677\n"
     ]
    }
   ],
   "source": [
    "labels = []\n",
    "y_preds=[]\n",
    "y_pred = model_lr.predict_proba(X_val)[:, 1]\n",
    "label = 'Logistic Regression'\n",
    "labels.append(label)\n",
    "y_preds.append(y_pred)\n",
    "\n",
    "i = 0\n",
    "result = plot_auc(y_val, y_pred, label, dataset)\n",
    "result_df = result\n",
    "\n",
    "del result"
   ]
  },
  {
   "cell_type": "code",
   "execution_count": 99,
   "id": "3fdcbb7d",
   "metadata": {},
   "outputs": [
    {
     "data": {
      "text/html": [
       "<div>\n",
       "<style scoped>\n",
       "    .dataframe tbody tr th:only-of-type {\n",
       "        vertical-align: middle;\n",
       "    }\n",
       "\n",
       "    .dataframe tbody tr th {\n",
       "        vertical-align: top;\n",
       "    }\n",
       "\n",
       "    .dataframe thead th {\n",
       "        text-align: right;\n",
       "    }\n",
       "</style>\n",
       "<table border=\"1\" class=\"dataframe\">\n",
       "  <thead>\n",
       "    <tr style=\"text-align: right;\">\n",
       "      <th></th>\n",
       "      <th>Model</th>\n",
       "      <th>Dataset</th>\n",
       "      <th>log_loss</th>\n",
       "      <th>AUC</th>\n",
       "    </tr>\n",
       "  </thead>\n",
       "  <tbody>\n",
       "    <tr>\n",
       "      <th>0</th>\n",
       "      <td>Logistic Regression</td>\n",
       "      <td>log_re</td>\n",
       "      <td>0.658498</td>\n",
       "      <td>0.67746</td>\n",
       "    </tr>\n",
       "  </tbody>\n",
       "</table>\n",
       "</div>"
      ],
      "text/plain": [
       "                 Model Dataset  log_loss      AUC\n",
       "0  Logistic Regression  log_re  0.658498  0.67746"
      ]
     },
     "execution_count": 99,
     "metadata": {},
     "output_type": "execute_result"
    }
   ],
   "source": [
    "result_df"
   ]
  },
  {
   "cell_type": "markdown",
   "id": "725700a5",
   "metadata": {},
   "source": [
    "#### 决策树"
   ]
  },
  {
   "cell_type": "code",
   "execution_count": 100,
   "id": "cdfd6f2e",
   "metadata": {},
   "outputs": [],
   "source": [
    "model_dt =  DecisionTreeClassifier(class_weight='balanced')\n",
    "params = {\n",
    "    'max_depth':[10, 100, 500, 1000, -1],\n",
    "    'min_samples_split':[2, 5, 10,100, 500],\n",
    "    'min_samples_leaf':[1,3,5,7,9],\n",
    "    'max_leaf_nodes': [100, 500, 1000, 5000, -1]\n",
    "}\n"
   ]
  },
  {
   "cell_type": "code",
   "execution_count": 101,
   "id": "f2011a85",
   "metadata": {},
   "outputs": [
    {
     "name": "stdout",
     "output_type": "stream",
     "text": [
      "Fitting 10 folds for each of 10 candidates, totalling 100 fits\n",
      "最佳的AUC得分为： 0.780\n",
      "最佳的参数为:{'min_samples_split': 10, 'min_samples_leaf': 1, 'max_leaf_nodes': 100, 'max_depth': 10} \n",
      "Wall time: 1min 13s\n"
     ]
    },
    {
     "data": {
      "text/plain": [
       "(0.7801205587828509,\n",
       " {'min_samples_split': 10,\n",
       "  'min_samples_leaf': 1,\n",
       "  'max_leaf_nodes': 100,\n",
       "  'max_depth': 10})"
      ]
     },
     "execution_count": 101,
     "metadata": {},
     "output_type": "execute_result"
    }
   ],
   "source": [
    "%%time\n",
    "find_best_params(model_dt, params)"
   ]
  },
  {
   "cell_type": "code",
   "execution_count": 102,
   "id": "879eab8b",
   "metadata": {},
   "outputs": [
    {
     "data": {
      "text/html": [
       "<style>#sk-container-id-2 {color: black;background-color: white;}#sk-container-id-2 pre{padding: 0;}#sk-container-id-2 div.sk-toggleable {background-color: white;}#sk-container-id-2 label.sk-toggleable__label {cursor: pointer;display: block;width: 100%;margin-bottom: 0;padding: 0.3em;box-sizing: border-box;text-align: center;}#sk-container-id-2 label.sk-toggleable__label-arrow:before {content: \"▸\";float: left;margin-right: 0.25em;color: #696969;}#sk-container-id-2 label.sk-toggleable__label-arrow:hover:before {color: black;}#sk-container-id-2 div.sk-estimator:hover label.sk-toggleable__label-arrow:before {color: black;}#sk-container-id-2 div.sk-toggleable__content {max-height: 0;max-width: 0;overflow: hidden;text-align: left;background-color: #f0f8ff;}#sk-container-id-2 div.sk-toggleable__content pre {margin: 0.2em;color: black;border-radius: 0.25em;background-color: #f0f8ff;}#sk-container-id-2 input.sk-toggleable__control:checked~div.sk-toggleable__content {max-height: 200px;max-width: 100%;overflow: auto;}#sk-container-id-2 input.sk-toggleable__control:checked~label.sk-toggleable__label-arrow:before {content: \"▾\";}#sk-container-id-2 div.sk-estimator input.sk-toggleable__control:checked~label.sk-toggleable__label {background-color: #d4ebff;}#sk-container-id-2 div.sk-label input.sk-toggleable__control:checked~label.sk-toggleable__label {background-color: #d4ebff;}#sk-container-id-2 input.sk-hidden--visually {border: 0;clip: rect(1px 1px 1px 1px);clip: rect(1px, 1px, 1px, 1px);height: 1px;margin: -1px;overflow: hidden;padding: 0;position: absolute;width: 1px;}#sk-container-id-2 div.sk-estimator {font-family: monospace;background-color: #f0f8ff;border: 1px dotted black;border-radius: 0.25em;box-sizing: border-box;margin-bottom: 0.5em;}#sk-container-id-2 div.sk-estimator:hover {background-color: #d4ebff;}#sk-container-id-2 div.sk-parallel-item::after {content: \"\";width: 100%;border-bottom: 1px solid gray;flex-grow: 1;}#sk-container-id-2 div.sk-label:hover label.sk-toggleable__label {background-color: #d4ebff;}#sk-container-id-2 div.sk-serial::before {content: \"\";position: absolute;border-left: 1px solid gray;box-sizing: border-box;top: 0;bottom: 0;left: 50%;z-index: 0;}#sk-container-id-2 div.sk-serial {display: flex;flex-direction: column;align-items: center;background-color: white;padding-right: 0.2em;padding-left: 0.2em;position: relative;}#sk-container-id-2 div.sk-item {position: relative;z-index: 1;}#sk-container-id-2 div.sk-parallel {display: flex;align-items: stretch;justify-content: center;background-color: white;position: relative;}#sk-container-id-2 div.sk-item::before, #sk-container-id-2 div.sk-parallel-item::before {content: \"\";position: absolute;border-left: 1px solid gray;box-sizing: border-box;top: 0;bottom: 0;left: 50%;z-index: -1;}#sk-container-id-2 div.sk-parallel-item {display: flex;flex-direction: column;z-index: 1;position: relative;background-color: white;}#sk-container-id-2 div.sk-parallel-item:first-child::after {align-self: flex-end;width: 50%;}#sk-container-id-2 div.sk-parallel-item:last-child::after {align-self: flex-start;width: 50%;}#sk-container-id-2 div.sk-parallel-item:only-child::after {width: 0;}#sk-container-id-2 div.sk-dashed-wrapped {border: 1px dashed gray;margin: 0 0.4em 0.5em 0.4em;box-sizing: border-box;padding-bottom: 0.4em;background-color: white;}#sk-container-id-2 div.sk-label label {font-family: monospace;font-weight: bold;display: inline-block;line-height: 1.2em;}#sk-container-id-2 div.sk-label-container {text-align: center;}#sk-container-id-2 div.sk-container {/* jupyter's `normalize.less` sets `[hidden] { display: none; }` but bootstrap.min.css set `[hidden] { display: none !important; }` so we also need the `!important` here to be able to override the default hidden behavior on the sphinx rendered scikit-learn.org. See: https://github.com/scikit-learn/scikit-learn/issues/21755 */display: inline-block !important;position: relative;}#sk-container-id-2 div.sk-text-repr-fallback {display: none;}</style><div id=\"sk-container-id-2\" class=\"sk-top-container\"><div class=\"sk-text-repr-fallback\"><pre>CalibratedClassifierCV(cv=&#x27;prefit&#x27;,\n",
       "                       estimator=DecisionTreeClassifier(class_weight=&#x27;balanced&#x27;,\n",
       "                                                        max_depth=10,\n",
       "                                                        max_leaf_nodes=100,\n",
       "                                                        min_samples_leaf=9,\n",
       "                                                        min_samples_split=500))</pre><b>In a Jupyter environment, please rerun this cell to show the HTML representation or trust the notebook. <br />On GitHub, the HTML representation is unable to render, please try loading this page with nbviewer.org.</b></div><div class=\"sk-container\" hidden><div class=\"sk-item sk-dashed-wrapped\"><div class=\"sk-label-container\"><div class=\"sk-label sk-toggleable\"><input class=\"sk-toggleable__control sk-hidden--visually\" id=\"sk-estimator-id-2\" type=\"checkbox\" ><label for=\"sk-estimator-id-2\" class=\"sk-toggleable__label sk-toggleable__label-arrow\">CalibratedClassifierCV</label><div class=\"sk-toggleable__content\"><pre>CalibratedClassifierCV(cv=&#x27;prefit&#x27;,\n",
       "                       estimator=DecisionTreeClassifier(class_weight=&#x27;balanced&#x27;,\n",
       "                                                        max_depth=10,\n",
       "                                                        max_leaf_nodes=100,\n",
       "                                                        min_samples_leaf=9,\n",
       "                                                        min_samples_split=500))</pre></div></div></div><div class=\"sk-parallel\"><div class=\"sk-parallel-item\"><div class=\"sk-item\"><div class=\"sk-label-container\"><div class=\"sk-label sk-toggleable\"><input class=\"sk-toggleable__control sk-hidden--visually\" id=\"sk-estimator-id-3\" type=\"checkbox\" ><label for=\"sk-estimator-id-3\" class=\"sk-toggleable__label sk-toggleable__label-arrow\">estimator: DecisionTreeClassifier</label><div class=\"sk-toggleable__content\"><pre>DecisionTreeClassifier(class_weight=&#x27;balanced&#x27;, max_depth=10,\n",
       "                       max_leaf_nodes=100, min_samples_leaf=9,\n",
       "                       min_samples_split=500)</pre></div></div></div><div class=\"sk-serial\"><div class=\"sk-item\"><div class=\"sk-estimator sk-toggleable\"><input class=\"sk-toggleable__control sk-hidden--visually\" id=\"sk-estimator-id-4\" type=\"checkbox\" ><label for=\"sk-estimator-id-4\" class=\"sk-toggleable__label sk-toggleable__label-arrow\">DecisionTreeClassifier</label><div class=\"sk-toggleable__content\"><pre>DecisionTreeClassifier(class_weight=&#x27;balanced&#x27;, max_depth=10,\n",
       "                       max_leaf_nodes=100, min_samples_leaf=9,\n",
       "                       min_samples_split=500)</pre></div></div></div></div></div></div></div></div></div></div>"
      ],
      "text/plain": [
       "CalibratedClassifierCV(cv='prefit',\n",
       "                       estimator=DecisionTreeClassifier(class_weight='balanced',\n",
       "                                                        max_depth=10,\n",
       "                                                        max_leaf_nodes=100,\n",
       "                                                        min_samples_leaf=9,\n",
       "                                                        min_samples_split=500))"
      ]
     },
     "execution_count": 102,
     "metadata": {},
     "output_type": "execute_result"
    }
   ],
   "source": [
    "model_dt = DecisionTreeClassifier(class_weight='balanced', min_samples_split =  500, min_samples_leaf = 9,max_leaf_nodes=  100,\n",
    "                                  max_depth =  10)\n",
    "model_dt.fit(X_train, y_train)\n",
    "cc_model_dt = CalibratedClassifierCV(model_dt, cv = 'prefit') #校准分类器\n",
    "cc_model_dt.fit(X_train, y_train)"
   ]
  },
  {
   "cell_type": "code",
   "execution_count": 103,
   "id": "c56cd8b9",
   "metadata": {},
   "outputs": [
    {
     "name": "stdout",
     "output_type": "stream",
     "text": [
      "\t\t Decision Tree on log_re dataset \t\t \n",
      "\n"
     ]
    },
    {
     "data": {
      "image/png": "[encoded data removed]",
      "text/plain": [
       "<Figure size 432x288 with 1 Axes>"
      ]
     },
     "metadata": {
      "needs_background": "light"
     },
     "output_type": "display_data"
    },
    {
     "name": "stdout",
     "output_type": "stream",
     "text": [
      "在 log_re 数据集上 Decision Tree 模型的logloss = 0.139 AUC = 0.817\n"
     ]
    }
   ],
   "source": [
    "y_pred = cc_model_dt.predict_proba(X_val)[:, 1]\n",
    "label = \"Decision Tree\"\n",
    "labels.append(label)\n",
    "y_preds.append(y_pred)\n",
    "result = plot_auc(y_val, y_pred, label, dataset)\n",
    "result_df = result_df.append(result)\n",
    "del result"
   ]
  },
  {
   "cell_type": "code",
   "execution_count": 104,
   "id": "aae0875d",
   "metadata": {},
   "outputs": [
    {
     "data": {
      "text/html": [
       "<div>\n",
       "<style scoped>\n",
       "    .dataframe tbody tr th:only-of-type {\n",
       "        vertical-align: middle;\n",
       "    }\n",
       "\n",
       "    .dataframe tbody tr th {\n",
       "        vertical-align: top;\n",
       "    }\n",
       "\n",
       "    .dataframe thead th {\n",
       "        text-align: right;\n",
       "    }\n",
       "</style>\n",
       "<table border=\"1\" class=\"dataframe\">\n",
       "  <thead>\n",
       "    <tr style=\"text-align: right;\">\n",
       "      <th></th>\n",
       "      <th>Model</th>\n",
       "      <th>Dataset</th>\n",
       "      <th>log_loss</th>\n",
       "      <th>AUC</th>\n",
       "    </tr>\n",
       "  </thead>\n",
       "  <tbody>\n",
       "    <tr>\n",
       "      <th>0</th>\n",
       "      <td>Logistic Regression</td>\n",
       "      <td>log_re</td>\n",
       "      <td>0.658498</td>\n",
       "      <td>0.677460</td>\n",
       "    </tr>\n",
       "    <tr>\n",
       "      <th>0</th>\n",
       "      <td>Decision Tree</td>\n",
       "      <td>log_re</td>\n",
       "      <td>0.139120</td>\n",
       "      <td>0.816913</td>\n",
       "    </tr>\n",
       "  </tbody>\n",
       "</table>\n",
       "</div>"
      ],
      "text/plain": [
       "                 Model Dataset  log_loss       AUC\n",
       "0  Logistic Regression  log_re  0.658498  0.677460\n",
       "0        Decision Tree  log_re  0.139120  0.816913"
      ]
     },
     "execution_count": 104,
     "metadata": {},
     "output_type": "execute_result"
    }
   ],
   "source": [
    "result_df"
   ]
  },
  {
   "cell_type": "markdown",
   "id": "5954b2ed",
   "metadata": {},
   "source": [
    "### 随机森林\n"
   ]
  },
  {
   "cell_type": "code",
   "execution_count": 105,
   "id": "ea603c04",
   "metadata": {},
   "outputs": [],
   "source": [
    "model_rf = RandomForestClassifier(class_weight = \"balanced\")\n",
    "params = {\n",
    "    'n_estimators': [100,1000, 1500],\n",
    "    \"max_depth\": [500, 1000, 1500],\n",
    "    'min_samples_split':[100, 150, 200 ],\n",
    "    \"min_samples_leaf\":[3, 5,7],\n",
    "    'max_leaf_nodes':[200, 300, 500]\n",
    "\n",
    "}"
   ]
  },
  {
   "cell_type": "code",
   "execution_count": 106,
   "id": "3a408e92",
   "metadata": {},
   "outputs": [
    {
     "name": "stdout",
     "output_type": "stream",
     "text": [
      "Wall time: 0 ns\n",
      "Fitting 2 folds for each of 10 candidates, totalling 20 fits\n",
      "最佳的AUC得分为： 0.814\n",
      "最佳的参数为:{'n_estimators': 1500, 'min_samples_split': 200, 'min_samples_leaf': 3, 'max_leaf_nodes': 300, 'max_depth': 1000} \n"
     ]
    },
    {
     "data": {
      "text/plain": [
       "(0.8138702387815897,\n",
       " {'n_estimators': 1500,\n",
       "  'min_samples_split': 200,\n",
       "  'min_samples_leaf': 3,\n",
       "  'max_leaf_nodes': 300,\n",
       "  'max_depth': 1000})"
      ]
     },
     "execution_count": 106,
     "metadata": {},
     "output_type": "execute_result"
    }
   ],
   "source": [
    "%time\n",
    "find_best_params(model_rf, params, cv =2)"
   ]
  },
  {
   "cell_type": "code",
   "execution_count": 107,
   "id": "967cf348",
   "metadata": {},
   "outputs": [
    {
     "data": {
      "text/html": [
       "<style>#sk-container-id-3 {color: black;background-color: white;}#sk-container-id-3 pre{padding: 0;}#sk-container-id-3 div.sk-toggleable {background-color: white;}#sk-container-id-3 label.sk-toggleable__label {cursor: pointer;display: block;width: 100%;margin-bottom: 0;padding: 0.3em;box-sizing: border-box;text-align: center;}#sk-container-id-3 label.sk-toggleable__label-arrow:before {content: \"▸\";float: left;margin-right: 0.25em;color: #696969;}#sk-container-id-3 label.sk-toggleable__label-arrow:hover:before {color: black;}#sk-container-id-3 div.sk-estimator:hover label.sk-toggleable__label-arrow:before {color: black;}#sk-container-id-3 div.sk-toggleable__content {max-height: 0;max-width: 0;overflow: hidden;text-align: left;background-color: #f0f8ff;}#sk-container-id-3 div.sk-toggleable__content pre {margin: 0.2em;color: black;border-radius: 0.25em;background-color: #f0f8ff;}#sk-container-id-3 input.sk-toggleable__control:checked~div.sk-toggleable__content {max-height: 200px;max-width: 100%;overflow: auto;}#sk-container-id-3 input.sk-toggleable__control:checked~label.sk-toggleable__label-arrow:before {content: \"▾\";}#sk-container-id-3 div.sk-estimator input.sk-toggleable__control:checked~label.sk-toggleable__label {background-color: #d4ebff;}#sk-container-id-3 div.sk-label input.sk-toggleable__control:checked~label.sk-toggleable__label {background-color: #d4ebff;}#sk-container-id-3 input.sk-hidden--visually {border: 0;clip: rect(1px 1px 1px 1px);clip: rect(1px, 1px, 1px, 1px);height: 1px;margin: -1px;overflow: hidden;padding: 0;position: absolute;width: 1px;}#sk-container-id-3 div.sk-estimator {font-family: monospace;background-color: #f0f8ff;border: 1px dotted black;border-radius: 0.25em;box-sizing: border-box;margin-bottom: 0.5em;}#sk-container-id-3 div.sk-estimator:hover {background-color: #d4ebff;}#sk-container-id-3 div.sk-parallel-item::after {content: \"\";width: 100%;border-bottom: 1px solid gray;flex-grow: 1;}#sk-container-id-3 div.sk-label:hover label.sk-toggleable__label {background-color: #d4ebff;}#sk-container-id-3 div.sk-serial::before {content: \"\";position: absolute;border-left: 1px solid gray;box-sizing: border-box;top: 0;bottom: 0;left: 50%;z-index: 0;}#sk-container-id-3 div.sk-serial {display: flex;flex-direction: column;align-items: center;background-color: white;padding-right: 0.2em;padding-left: 0.2em;position: relative;}#sk-container-id-3 div.sk-item {position: relative;z-index: 1;}#sk-container-id-3 div.sk-parallel {display: flex;align-items: stretch;justify-content: center;background-color: white;position: relative;}#sk-container-id-3 div.sk-item::before, #sk-container-id-3 div.sk-parallel-item::before {content: \"\";position: absolute;border-left: 1px solid gray;box-sizing: border-box;top: 0;bottom: 0;left: 50%;z-index: -1;}#sk-container-id-3 div.sk-parallel-item {display: flex;flex-direction: column;z-index: 1;position: relative;background-color: white;}#sk-container-id-3 div.sk-parallel-item:first-child::after {align-self: flex-end;width: 50%;}#sk-container-id-3 div.sk-parallel-item:last-child::after {align-self: flex-start;width: 50%;}#sk-container-id-3 div.sk-parallel-item:only-child::after {width: 0;}#sk-container-id-3 div.sk-dashed-wrapped {border: 1px dashed gray;margin: 0 0.4em 0.5em 0.4em;box-sizing: border-box;padding-bottom: 0.4em;background-color: white;}#sk-container-id-3 div.sk-label label {font-family: monospace;font-weight: bold;display: inline-block;line-height: 1.2em;}#sk-container-id-3 div.sk-label-container {text-align: center;}#sk-container-id-3 div.sk-container {/* jupyter's `normalize.less` sets `[hidden] { display: none; }` but bootstrap.min.css set `[hidden] { display: none !important; }` so we also need the `!important` here to be able to override the default hidden behavior on the sphinx rendered scikit-learn.org. See: https://github.com/scikit-learn/scikit-learn/issues/21755 */display: inline-block !important;position: relative;}#sk-container-id-3 div.sk-text-repr-fallback {display: none;}</style><div id=\"sk-container-id-3\" class=\"sk-top-container\"><div class=\"sk-text-repr-fallback\"><pre>CalibratedClassifierCV(cv=&#x27;prefit&#x27;,\n",
       "                       estimator=RandomForestClassifier(class_weight=&#x27;balanced&#x27;))</pre><b>In a Jupyter environment, please rerun this cell to show the HTML representation or trust the notebook. <br />On GitHub, the HTML representation is unable to render, please try loading this page with nbviewer.org.</b></div><div class=\"sk-container\" hidden><div class=\"sk-item sk-dashed-wrapped\"><div class=\"sk-label-container\"><div class=\"sk-label sk-toggleable\"><input class=\"sk-toggleable__control sk-hidden--visually\" id=\"sk-estimator-id-5\" type=\"checkbox\" ><label for=\"sk-estimator-id-5\" class=\"sk-toggleable__label sk-toggleable__label-arrow\">CalibratedClassifierCV</label><div class=\"sk-toggleable__content\"><pre>CalibratedClassifierCV(cv=&#x27;prefit&#x27;,\n",
       "                       estimator=RandomForestClassifier(class_weight=&#x27;balanced&#x27;))</pre></div></div></div><div class=\"sk-parallel\"><div class=\"sk-parallel-item\"><div class=\"sk-item\"><div class=\"sk-label-container\"><div class=\"sk-label sk-toggleable\"><input class=\"sk-toggleable__control sk-hidden--visually\" id=\"sk-estimator-id-6\" type=\"checkbox\" ><label for=\"sk-estimator-id-6\" class=\"sk-toggleable__label sk-toggleable__label-arrow\">estimator: RandomForestClassifier</label><div class=\"sk-toggleable__content\"><pre>RandomForestClassifier(class_weight=&#x27;balanced&#x27;)</pre></div></div></div><div class=\"sk-serial\"><div class=\"sk-item\"><div class=\"sk-estimator sk-toggleable\"><input class=\"sk-toggleable__control sk-hidden--visually\" id=\"sk-estimator-id-7\" type=\"checkbox\" ><label for=\"sk-estimator-id-7\" class=\"sk-toggleable__label sk-toggleable__label-arrow\">RandomForestClassifier</label><div class=\"sk-toggleable__content\"><pre>RandomForestClassifier(class_weight=&#x27;balanced&#x27;)</pre></div></div></div></div></div></div></div></div></div></div>"
      ],
      "text/plain": [
       "CalibratedClassifierCV(cv='prefit',\n",
       "                       estimator=RandomForestClassifier(class_weight='balanced'))"
      ]
     },
     "execution_count": 107,
     "metadata": {},
     "output_type": "execute_result"
    }
   ],
   "source": [
    "model_rf = RandomForestClassifier(class_weight = \"balanced\")\n",
    "model_rf.fit(X_train, y_train)\n",
    "cc_model_rf = CalibratedClassifierCV(model_rf, cv = 'prefit') #校准分类器\n",
    "cc_model_rf.fit(X_train, y_train)"
   ]
  },
  {
   "cell_type": "code",
   "execution_count": 108,
   "id": "39516d3c",
   "metadata": {},
   "outputs": [
    {
     "name": "stdout",
     "output_type": "stream",
     "text": [
      "\t\t RF on log_re dataset \t\t \n",
      "\n"
     ]
    },
    {
     "data": {
      "image/png": "[encoded data removed]",
      "text/plain": [
       "<Figure size 432x288 with 1 Axes>"
      ]
     },
     "metadata": {
      "needs_background": "light"
     },
     "output_type": "display_data"
    },
    {
     "name": "stdout",
     "output_type": "stream",
     "text": [
      "在 log_re 数据集上 RF 模型的logloss = 0.214 AUC = 0.721\n"
     ]
    }
   ],
   "source": [
    "y_pred = cc_model_rf.predict_proba(X_val)[:, 1]\n",
    "labels = []\n",
    "y_preds=[]\n",
    "label = \"RF\"\n",
    "labels.append(label)\n",
    "y_preds.append(y_pred)\n",
    "result = plot_auc(y_val, y_pred, label, dataset)\n",
    "result_df = result.append(result)\n",
    "\n",
    "del result"
   ]
  },
  {
   "cell_type": "code",
   "execution_count": 109,
   "id": "8f6e4bdc",
   "metadata": {},
   "outputs": [
    {
     "data": {
      "text/html": [
       "<div>\n",
       "<style scoped>\n",
       "    .dataframe tbody tr th:only-of-type {\n",
       "        vertical-align: middle;\n",
       "    }\n",
       "\n",
       "    .dataframe tbody tr th {\n",
       "        vertical-align: top;\n",
       "    }\n",
       "\n",
       "    .dataframe thead th {\n",
       "        text-align: right;\n",
       "    }\n",
       "</style>\n",
       "<table border=\"1\" class=\"dataframe\">\n",
       "  <thead>\n",
       "    <tr style=\"text-align: right;\">\n",
       "      <th></th>\n",
       "      <th>Model</th>\n",
       "      <th>Dataset</th>\n",
       "      <th>log_loss</th>\n",
       "      <th>AUC</th>\n",
       "    </tr>\n",
       "  </thead>\n",
       "  <tbody>\n",
       "    <tr>\n",
       "      <th>0</th>\n",
       "      <td>RF</td>\n",
       "      <td>log_re</td>\n",
       "      <td>0.213703</td>\n",
       "      <td>0.721471</td>\n",
       "    </tr>\n",
       "    <tr>\n",
       "      <th>0</th>\n",
       "      <td>RF</td>\n",
       "      <td>log_re</td>\n",
       "      <td>0.213703</td>\n",
       "      <td>0.721471</td>\n",
       "    </tr>\n",
       "  </tbody>\n",
       "</table>\n",
       "</div>"
      ],
      "text/plain": [
       "  Model Dataset  log_loss       AUC\n",
       "0    RF  log_re  0.213703  0.721471\n",
       "0    RF  log_re  0.213703  0.721471"
      ]
     },
     "execution_count": 109,
     "metadata": {},
     "output_type": "execute_result"
    }
   ],
   "source": [
    "result_df"
   ]
  },
  {
   "cell_type": "markdown",
   "id": "279b0cce",
   "metadata": {},
   "source": [
    "### XGBoost"
   ]
  },
  {
   "cell_type": "code",
   "execution_count": 110,
   "id": "32fd759b",
   "metadata": {},
   "outputs": [],
   "source": [
    "model_xgb = XGBClassifier(n_jobs = -1,\n",
    "                             nthread =1,\n",
    "                             scale_pos_weight=1.,\n",
    "                             learning_rate = 0.01,\n",
    "                             colsample_bytree = 0.5,\n",
    "                             subsample=0.9,\n",
    "                             objective=\"binary:logistic\",\n",
    "                             n_estimators =1000, \n",
    "                             reg_alpha=0.3,\n",
    "                             max_depth=5,\n",
    "                             gamma=5,\n",
    "                             random_state=42)"
   ]
  },
  {
   "cell_type": "code",
   "execution_count": 111,
   "id": "56cec608",
   "metadata": {},
   "outputs": [
    {
     "name": "stdout",
     "output_type": "stream",
     "text": [
      "[0]\tvalidation_0-error:0.03951\tvalidation_0-auc:0.80166\tvalidation_1-error:0.03955\tvalidation_1-auc:0.80499\n",
      "[20]\tvalidation_0-error:0.03957\tvalidation_0-auc:0.81811\tvalidation_1-error:0.03955\tvalidation_1-auc:0.82189\n",
      "[40]\tvalidation_0-error:0.03957\tvalidation_0-auc:0.82478\tvalidation_1-error:0.03955\tvalidation_1-auc:0.82717\n",
      "[60]\tvalidation_0-error:0.03957\tvalidation_0-auc:0.82528\tvalidation_1-error:0.03955\tvalidation_1-auc:0.82796\n",
      "[80]\tvalidation_0-error:0.03957\tvalidation_0-auc:0.82635\tvalidation_1-error:0.03955\tvalidation_1-auc:0.82763\n",
      "[100]\tvalidation_0-error:0.03957\tvalidation_0-auc:0.82690\tvalidation_1-error:0.03955\tvalidation_1-auc:0.82855\n",
      "[120]\tvalidation_0-error:0.03957\tvalidation_0-auc:0.82856\tvalidation_1-error:0.03955\tvalidation_1-auc:0.82860\n",
      "[140]\tvalidation_0-error:0.03957\tvalidation_0-auc:0.82966\tvalidation_1-error:0.03955\tvalidation_1-auc:0.82976\n",
      "[160]\tvalidation_0-error:0.03957\tvalidation_0-auc:0.83057\tvalidation_1-error:0.03955\tvalidation_1-auc:0.83036\n",
      "[180]\tvalidation_0-error:0.03957\tvalidation_0-auc:0.83218\tvalidation_1-error:0.03955\tvalidation_1-auc:0.83050\n",
      "[200]\tvalidation_0-error:0.03957\tvalidation_0-auc:0.83362\tvalidation_1-error:0.03955\tvalidation_1-auc:0.83114\n",
      "[220]\tvalidation_0-error:0.03957\tvalidation_0-auc:0.83559\tvalidation_1-error:0.03955\tvalidation_1-auc:0.83221\n",
      "[240]\tvalidation_0-error:0.03956\tvalidation_0-auc:0.83744\tvalidation_1-error:0.03955\tvalidation_1-auc:0.83377\n",
      "[260]\tvalidation_0-error:0.03954\tvalidation_0-auc:0.83896\tvalidation_1-error:0.03955\tvalidation_1-auc:0.83379\n",
      "[280]\tvalidation_0-error:0.03956\tvalidation_0-auc:0.84127\tvalidation_1-error:0.03955\tvalidation_1-auc:0.83561\n",
      "[300]\tvalidation_0-error:0.03954\tvalidation_0-auc:0.84268\tvalidation_1-error:0.03955\tvalidation_1-auc:0.83636\n",
      "[320]\tvalidation_0-error:0.03953\tvalidation_0-auc:0.84394\tvalidation_1-error:0.03955\tvalidation_1-auc:0.83689\n",
      "[340]\tvalidation_0-error:0.03953\tvalidation_0-auc:0.84570\tvalidation_1-error:0.03955\tvalidation_1-auc:0.83754\n",
      "[360]\tvalidation_0-error:0.03953\tvalidation_0-auc:0.84707\tvalidation_1-error:0.03955\tvalidation_1-auc:0.83834\n",
      "[380]\tvalidation_0-error:0.03948\tvalidation_0-auc:0.84818\tvalidation_1-error:0.03955\tvalidation_1-auc:0.83878\n",
      "[400]\tvalidation_0-error:0.03946\tvalidation_0-auc:0.84943\tvalidation_1-error:0.03955\tvalidation_1-auc:0.83930\n",
      "[420]\tvalidation_0-error:0.03942\tvalidation_0-auc:0.85074\tvalidation_1-error:0.03955\tvalidation_1-auc:0.83969\n",
      "[440]\tvalidation_0-error:0.03937\tvalidation_0-auc:0.85197\tvalidation_1-error:0.03955\tvalidation_1-auc:0.83963\n",
      "[460]\tvalidation_0-error:0.03931\tvalidation_0-auc:0.85327\tvalidation_1-error:0.03955\tvalidation_1-auc:0.83993\n",
      "[480]\tvalidation_0-error:0.03931\tvalidation_0-auc:0.85443\tvalidation_1-error:0.03946\tvalidation_1-auc:0.83997\n",
      "[500]\tvalidation_0-error:0.03931\tvalidation_0-auc:0.85565\tvalidation_1-error:0.03946\tvalidation_1-auc:0.84050\n",
      "[520]\tvalidation_0-error:0.03928\tvalidation_0-auc:0.85708\tvalidation_1-error:0.03946\tvalidation_1-auc:0.84092\n",
      "[540]\tvalidation_0-error:0.03928\tvalidation_0-auc:0.85821\tvalidation_1-error:0.03946\tvalidation_1-auc:0.84126\n",
      "[560]\tvalidation_0-error:0.03928\tvalidation_0-auc:0.85935\tvalidation_1-error:0.03946\tvalidation_1-auc:0.84166\n",
      "[580]\tvalidation_0-error:0.03928\tvalidation_0-auc:0.86029\tvalidation_1-error:0.03946\tvalidation_1-auc:0.84205\n",
      "[600]\tvalidation_0-error:0.03925\tvalidation_0-auc:0.86150\tvalidation_1-error:0.03955\tvalidation_1-auc:0.84212\n",
      "[620]\tvalidation_0-error:0.03922\tvalidation_0-auc:0.86289\tvalidation_1-error:0.03955\tvalidation_1-auc:0.84223\n",
      "[640]\tvalidation_0-error:0.03920\tvalidation_0-auc:0.86395\tvalidation_1-error:0.03955\tvalidation_1-auc:0.84238\n",
      "[660]\tvalidation_0-error:0.03918\tvalidation_0-auc:0.86516\tvalidation_1-error:0.03955\tvalidation_1-auc:0.84235\n",
      "[680]\tvalidation_0-error:0.03915\tvalidation_0-auc:0.86608\tvalidation_1-error:0.03955\tvalidation_1-auc:0.84247\n",
      "[700]\tvalidation_0-error:0.03912\tvalidation_0-auc:0.86698\tvalidation_1-error:0.03955\tvalidation_1-auc:0.84255\n",
      "[720]\tvalidation_0-error:0.03906\tvalidation_0-auc:0.86785\tvalidation_1-error:0.03955\tvalidation_1-auc:0.84283\n",
      "[740]\tvalidation_0-error:0.03905\tvalidation_0-auc:0.86874\tvalidation_1-error:0.03955\tvalidation_1-auc:0.84288\n",
      "[760]\tvalidation_0-error:0.03900\tvalidation_0-auc:0.86964\tvalidation_1-error:0.03955\tvalidation_1-auc:0.84308\n",
      "[780]\tvalidation_0-error:0.03900\tvalidation_0-auc:0.87022\tvalidation_1-error:0.03955\tvalidation_1-auc:0.84316\n",
      "[800]\tvalidation_0-error:0.03895\tvalidation_0-auc:0.87110\tvalidation_1-error:0.03955\tvalidation_1-auc:0.84327\n",
      "[820]\tvalidation_0-error:0.03892\tvalidation_0-auc:0.87171\tvalidation_1-error:0.03955\tvalidation_1-auc:0.84344\n",
      "[840]\tvalidation_0-error:0.03888\tvalidation_0-auc:0.87226\tvalidation_1-error:0.03955\tvalidation_1-auc:0.84344\n",
      "[860]\tvalidation_0-error:0.03883\tvalidation_0-auc:0.87284\tvalidation_1-error:0.03955\tvalidation_1-auc:0.84358\n",
      "[880]\tvalidation_0-error:0.03883\tvalidation_0-auc:0.87342\tvalidation_1-error:0.03955\tvalidation_1-auc:0.84374\n",
      "[900]\tvalidation_0-error:0.03880\tvalidation_0-auc:0.87409\tvalidation_1-error:0.03955\tvalidation_1-auc:0.84393\n",
      "[920]\tvalidation_0-error:0.03875\tvalidation_0-auc:0.87470\tvalidation_1-error:0.03955\tvalidation_1-auc:0.84405\n",
      "[940]\tvalidation_0-error:0.03872\tvalidation_0-auc:0.87514\tvalidation_1-error:0.03955\tvalidation_1-auc:0.84407\n",
      "[960]\tvalidation_0-error:0.03869\tvalidation_0-auc:0.87578\tvalidation_1-error:0.03955\tvalidation_1-auc:0.84427\n",
      "[980]\tvalidation_0-error:0.03867\tvalidation_0-auc:0.87616\tvalidation_1-error:0.03955\tvalidation_1-auc:0.84434\n",
      "[999]\tvalidation_0-error:0.03867\tvalidation_0-auc:0.87659\tvalidation_1-error:0.03955\tvalidation_1-auc:0.84446\n",
      "Wall time: 6min 30s\n"
     ]
    },
    {
     "data": {
      "text/html": [
       "<style>#sk-container-id-4 {color: black;background-color: white;}#sk-container-id-4 pre{padding: 0;}#sk-container-id-4 div.sk-toggleable {background-color: white;}#sk-container-id-4 label.sk-toggleable__label {cursor: pointer;display: block;width: 100%;margin-bottom: 0;padding: 0.3em;box-sizing: border-box;text-align: center;}#sk-container-id-4 label.sk-toggleable__label-arrow:before {content: \"▸\";float: left;margin-right: 0.25em;color: #696969;}#sk-container-id-4 label.sk-toggleable__label-arrow:hover:before {color: black;}#sk-container-id-4 div.sk-estimator:hover label.sk-toggleable__label-arrow:before {color: black;}#sk-container-id-4 div.sk-toggleable__content {max-height: 0;max-width: 0;overflow: hidden;text-align: left;background-color: #f0f8ff;}#sk-container-id-4 div.sk-toggleable__content pre {margin: 0.2em;color: black;border-radius: 0.25em;background-color: #f0f8ff;}#sk-container-id-4 input.sk-toggleable__control:checked~div.sk-toggleable__content {max-height: 200px;max-width: 100%;overflow: auto;}#sk-container-id-4 input.sk-toggleable__control:checked~label.sk-toggleable__label-arrow:before {content: \"▾\";}#sk-container-id-4 div.sk-estimator input.sk-toggleable__control:checked~label.sk-toggleable__label {background-color: #d4ebff;}#sk-container-id-4 div.sk-label input.sk-toggleable__control:checked~label.sk-toggleable__label {background-color: #d4ebff;}#sk-container-id-4 input.sk-hidden--visually {border: 0;clip: rect(1px 1px 1px 1px);clip: rect(1px, 1px, 1px, 1px);height: 1px;margin: -1px;overflow: hidden;padding: 0;position: absolute;width: 1px;}#sk-container-id-4 div.sk-estimator {font-family: monospace;background-color: #f0f8ff;border: 1px dotted black;border-radius: 0.25em;box-sizing: border-box;margin-bottom: 0.5em;}#sk-container-id-4 div.sk-estimator:hover {background-color: #d4ebff;}#sk-container-id-4 div.sk-parallel-item::after {content: \"\";width: 100%;border-bottom: 1px solid gray;flex-grow: 1;}#sk-container-id-4 div.sk-label:hover label.sk-toggleable__label {background-color: #d4ebff;}#sk-container-id-4 div.sk-serial::before {content: \"\";position: absolute;border-left: 1px solid gray;box-sizing: border-box;top: 0;bottom: 0;left: 50%;z-index: 0;}#sk-container-id-4 div.sk-serial {display: flex;flex-direction: column;align-items: center;background-color: white;padding-right: 0.2em;padding-left: 0.2em;position: relative;}#sk-container-id-4 div.sk-item {position: relative;z-index: 1;}#sk-container-id-4 div.sk-parallel {display: flex;align-items: stretch;justify-content: center;background-color: white;position: relative;}#sk-container-id-4 div.sk-item::before, #sk-container-id-4 div.sk-parallel-item::before {content: \"\";position: absolute;border-left: 1px solid gray;box-sizing: border-box;top: 0;bottom: 0;left: 50%;z-index: -1;}#sk-container-id-4 div.sk-parallel-item {display: flex;flex-direction: column;z-index: 1;position: relative;background-color: white;}#sk-container-id-4 div.sk-parallel-item:first-child::after {align-self: flex-end;width: 50%;}#sk-container-id-4 div.sk-parallel-item:last-child::after {align-self: flex-start;width: 50%;}#sk-container-id-4 div.sk-parallel-item:only-child::after {width: 0;}#sk-container-id-4 div.sk-dashed-wrapped {border: 1px dashed gray;margin: 0 0.4em 0.5em 0.4em;box-sizing: border-box;padding-bottom: 0.4em;background-color: white;}#sk-container-id-4 div.sk-label label {font-family: monospace;font-weight: bold;display: inline-block;line-height: 1.2em;}#sk-container-id-4 div.sk-label-container {text-align: center;}#sk-container-id-4 div.sk-container {/* jupyter's `normalize.less` sets `[hidden] { display: none; }` but bootstrap.min.css set `[hidden] { display: none !important; }` so we also need the `!important` here to be able to override the default hidden behavior on the sphinx rendered scikit-learn.org. See: https://github.com/scikit-learn/scikit-learn/issues/21755 */display: inline-block !important;position: relative;}#sk-container-id-4 div.sk-text-repr-fallback {display: none;}</style><div id=\"sk-container-id-4\" class=\"sk-top-container\"><div class=\"sk-text-repr-fallback\"><pre>XGBClassifier(base_score=0.5, booster=&#x27;gbtree&#x27;, callbacks=None,\n",
       "              colsample_bylevel=1, colsample_bynode=1, colsample_bytree=0.5,\n",
       "              early_stopping_rounds=None, enable_categorical=False,\n",
       "              eval_metric=None, feature_types=None, gamma=5, gpu_id=-1,\n",
       "              grow_policy=&#x27;depthwise&#x27;, importance_type=None,\n",
       "              interaction_constraints=&#x27;&#x27;, learning_rate=0.01, max_bin=256,\n",
       "              max_cat_threshold=64, max_cat_to_onehot=4, max_delta_step=0,\n",
       "              max_depth=5, max_leaves=0, min_child_weight=1, missing=nan,\n",
       "              monotone_constraints=&#x27;()&#x27;, n_estimators=1000, n_jobs=-1,\n",
       "              nthread=1, num_parallel_tree=1, predictor=&#x27;auto&#x27;, ...)</pre><b>In a Jupyter environment, please rerun this cell to show the HTML representation or trust the notebook. <br />On GitHub, the HTML representation is unable to render, please try loading this page with nbviewer.org.</b></div><div class=\"sk-container\" hidden><div class=\"sk-item\"><div class=\"sk-estimator sk-toggleable\"><input class=\"sk-toggleable__control sk-hidden--visually\" id=\"sk-estimator-id-8\" type=\"checkbox\" checked><label for=\"sk-estimator-id-8\" class=\"sk-toggleable__label sk-toggleable__label-arrow\">XGBClassifier</label><div class=\"sk-toggleable__content\"><pre>XGBClassifier(base_score=0.5, booster=&#x27;gbtree&#x27;, callbacks=None,\n",
       "              colsample_bylevel=1, colsample_bynode=1, colsample_bytree=0.5,\n",
       "              early_stopping_rounds=None, enable_categorical=False,\n",
       "              eval_metric=None, feature_types=None, gamma=5, gpu_id=-1,\n",
       "              grow_policy=&#x27;depthwise&#x27;, importance_type=None,\n",
       "              interaction_constraints=&#x27;&#x27;, learning_rate=0.01, max_bin=256,\n",
       "              max_cat_threshold=64, max_cat_to_onehot=4, max_delta_step=0,\n",
       "              max_depth=5, max_leaves=0, min_child_weight=1, missing=nan,\n",
       "              monotone_constraints=&#x27;()&#x27;, n_estimators=1000, n_jobs=-1,\n",
       "              nthread=1, num_parallel_tree=1, predictor=&#x27;auto&#x27;, ...)</pre></div></div></div></div></div>"
      ],
      "text/plain": [
       "XGBClassifier(base_score=0.5, booster='gbtree', callbacks=None,\n",
       "              colsample_bylevel=1, colsample_bynode=1, colsample_bytree=0.5,\n",
       "              early_stopping_rounds=None, enable_categorical=False,\n",
       "              eval_metric=None, feature_types=None, gamma=5, gpu_id=-1,\n",
       "              grow_policy='depthwise', importance_type=None,\n",
       "              interaction_constraints='', learning_rate=0.01, max_bin=256,\n",
       "              max_cat_threshold=64, max_cat_to_onehot=4, max_delta_step=0,\n",
       "              max_depth=5, max_leaves=0, min_child_weight=1, missing=nan,\n",
       "              monotone_constraints='()', n_estimators=1000, n_jobs=-1,\n",
       "              nthread=1, num_parallel_tree=1, predictor='auto', ...)"
      ]
     },
     "execution_count": 111,
     "metadata": {},
     "output_type": "execute_result"
    }
   ],
   "source": [
    "%%time\n",
    "eval_metric = ['error', 'auc']\n",
    "eval_set = [(X_train, y_train), (X_val, y_val)]\n",
    "model_xgb.fit(X_train, y_train, eval_set=eval_set, eval_metric = eval_metric, early_stopping_rounds = 50, verbose =20)"
   ]
  },
  {
   "cell_type": "code",
   "execution_count": 112,
   "id": "06c19b57",
   "metadata": {},
   "outputs": [
    {
     "data": {
      "text/plain": [
       "(0.8444656303094009, 997)"
      ]
     },
     "execution_count": 112,
     "metadata": {},
     "output_type": "execute_result"
    }
   ],
   "source": [
    "model_xgb.best_score, model_xgb.best_iteration"
   ]
  },
  {
   "cell_type": "code",
   "execution_count": 113,
   "id": "c572b09b",
   "metadata": {},
   "outputs": [
    {
     "data": {
      "image/png": "[encoded data removed]",
      "text/plain": [
       "<Figure size 720x432 with 1 Axes>"
      ]
     },
     "metadata": {
      "needs_background": "light"
     },
     "output_type": "display_data"
    },
    {
     "name": "stdout",
     "output_type": "stream",
     "text": [
      "验证集上最大AUC：0.844\n",
      "最优迭代次数epochs： 997\n"
     ]
    }
   ],
   "source": [
    "results = model_xgb.evals_result_\n",
    "auc_train = results['validation_0']['auc']\n",
    "auc_val = results['validation_1']['auc']\n",
    "fig, ax = plt.subplots(figsize=(10,6))\n",
    "epochs = len(auc_val)\n",
    "\n",
    "ax.plot(range(0, epochs), auc_train, label='Train')\n",
    "ax.plot(range(0, epochs), auc_val, label='Test')\n",
    "ax.legend\n",
    "\n",
    "\n",
    "plt.title(model_xgb.__class__.__name__+ \" \" + \"AUC\")\n",
    "plt.ylabel(\"auc\")\n",
    "plt.show()\n",
    "\n",
    "print(\"验证集上最大AUC：%.3f\"% (max(auc_val)))\n",
    "print(\"最优迭代次数epochs： %i\" %(auc_val.index(max(auc_val))))"
   ]
  },
  {
   "cell_type": "code",
   "execution_count": 114,
   "id": "97ed3ddc",
   "metadata": {},
   "outputs": [
    {
     "name": "stdout",
     "output_type": "stream",
     "text": [
      "\t\t XGB on log_re dataset \t\t \n",
      "\n"
     ]
    },
    {
     "data": {
      "image/png": "[encoded data removed]",
      "text/plain": [
       "<Figure size 432x288 with 1 Axes>"
      ]
     },
     "metadata": {
      "needs_background": "light"
     },
     "output_type": "display_data"
    },
    {
     "name": "stdout",
     "output_type": "stream",
     "text": [
      "在 log_re 数据集上 XGB 模型的logloss = 0.134 AUC = 0.844\n"
     ]
    }
   ],
   "source": [
    "y_pred = model_xgb.predict_proba(X_val)[:, 1]\n",
    "label = \"XGB\"\n",
    "labels.append(label)\n",
    "y_preds.append(y_pred)\n",
    "result = plot_auc(y_val, y_pred, label, dataset)\n",
    "result_df = result.append(result)\n",
    "\n",
    "del result"
   ]
  },
  {
   "cell_type": "code",
   "execution_count": 115,
   "id": "61bb9115",
   "metadata": {},
   "outputs": [
    {
     "data": {
      "text/html": [
       "<div>\n",
       "<style scoped>\n",
       "    .dataframe tbody tr th:only-of-type {\n",
       "        vertical-align: middle;\n",
       "    }\n",
       "\n",
       "    .dataframe tbody tr th {\n",
       "        vertical-align: top;\n",
       "    }\n",
       "\n",
       "    .dataframe thead th {\n",
       "        text-align: right;\n",
       "    }\n",
       "</style>\n",
       "<table border=\"1\" class=\"dataframe\">\n",
       "  <thead>\n",
       "    <tr style=\"text-align: right;\">\n",
       "      <th></th>\n",
       "      <th>Model</th>\n",
       "      <th>Dataset</th>\n",
       "      <th>log_loss</th>\n",
       "      <th>AUC</th>\n",
       "    </tr>\n",
       "  </thead>\n",
       "  <tbody>\n",
       "    <tr>\n",
       "      <th>0</th>\n",
       "      <td>XGB</td>\n",
       "      <td>log_re</td>\n",
       "      <td>0.133672</td>\n",
       "      <td>0.844466</td>\n",
       "    </tr>\n",
       "    <tr>\n",
       "      <th>0</th>\n",
       "      <td>XGB</td>\n",
       "      <td>log_re</td>\n",
       "      <td>0.133672</td>\n",
       "      <td>0.844466</td>\n",
       "    </tr>\n",
       "  </tbody>\n",
       "</table>\n",
       "</div>"
      ],
      "text/plain": [
       "  Model Dataset  log_loss       AUC\n",
       "0   XGB  log_re  0.133672  0.844466\n",
       "0   XGB  log_re  0.133672  0.844466"
      ]
     },
     "execution_count": 115,
     "metadata": {},
     "output_type": "execute_result"
    }
   ],
   "source": [
    "result_df"
   ]
  },
  {
   "cell_type": "markdown",
   "id": "23b63eef",
   "metadata": {},
   "source": [
    "### 保存和提交结果"
   ]
  },
  {
   "cell_type": "code",
   "execution_count": 124,
   "id": "782a30c5",
   "metadata": {},
   "outputs": [
    {
     "data": {
      "text/plain": [
       "Index(['avg_no_zeros_saldo_medio_var5_ult1', 'num_var30_0', 'ind_var30',\n",
       "       'var15_0', 'var15_1', 'no_zerossaldo',\n",
       "       'avg_no_zeros_saldo_medio_var5_ult3', 'saldo_var30',\n",
       "       'num_meses_var8_ult3_0', 'num_var30_1',\n",
       "       ...\n",
       "       'ind_var25', 'avg_var3_saldo_medio_var8_hace2', 'num_var14_0_1',\n",
       "       'avg_var3_imp_op_var41_comer_ult3', 'avg_var3_saldo_medio_var8_ult3',\n",
       "       'num_var13_largo_0_0', 'num_var13_largo_0_1', 'avg_var3_no_nonzerosimp',\n",
       "       'avg_var3_imp_op_var39_ult1', 'num_op_var39_hace3'],\n",
       "      dtype='object', length=362)"
      ]
     },
     "execution_count": 124,
     "metadata": {},
     "output_type": "execute_result"
    }
   ],
   "source": [
    "best_model = model_xgb\n",
    "feat_imp = best_model.feature_importances_\n",
    "feat_indices = np.argsort(feat_imp)[::-1]\n",
    "important_feat = X_train.columns[feat_indices]\n",
    "important_feat"
   ]
  },
  {
   "cell_type": "code",
   "execution_count": 125,
   "id": "f5ce2d20",
   "metadata": {},
   "outputs": [
    {
     "data": {
      "image/png": "[encoded data removed]",
      "text/plain": [
       "<Figure size 504x864 with 1 Axes>"
      ]
     },
     "metadata": {
      "needs_background": "light"
     },
     "output_type": "display_data"
    }
   ],
   "source": [
    "top = 50\n",
    "top_indices = feat_indices[:top]\n",
    "most_important_feat = X_train.columns[top_indices]\n",
    "plt.figure(figsize=(7,12))\n",
    "sns.barplot(x= feat_imp[top_indices], y = most_important_feat)\n",
    "\n",
    "plt.title(\"Feature Importances\")\n",
    "plt.xlabel(\"Importances\")\n",
    "plt.ylabel(\"Feature names\")\n",
    "plt.show()"
   ]
  },
  {
   "cell_type": "code",
   "execution_count": 126,
   "id": "7a5eedda",
   "metadata": {},
   "outputs": [],
   "source": [
    "best_y_pred = best_model.predict_proba(X_test)[:,1]\n",
    "best_y_pred_df = pd.DataFrame(data = {\"ID\": test_id, 'TARGET': best_y_pred})\n",
    "best_y_pred_df.to_csv(dataset + 'boosting_method_submission.csv', index = False)"
   ]
  },
  {
   "cell_type": "markdown",
   "id": "ffbc8604",
   "metadata": {},
   "source": [
    "### RF model prediction"
   ]
  },
  {
   "cell_type": "code",
   "execution_count": 119,
   "id": "d6f4032d",
   "metadata": {},
   "outputs": [
    {
     "data": {
      "text/html": [
       "<style>#sk-container-id-5 {color: black;background-color: white;}#sk-container-id-5 pre{padding: 0;}#sk-container-id-5 div.sk-toggleable {background-color: white;}#sk-container-id-5 label.sk-toggleable__label {cursor: pointer;display: block;width: 100%;margin-bottom: 0;padding: 0.3em;box-sizing: border-box;text-align: center;}#sk-container-id-5 label.sk-toggleable__label-arrow:before {content: \"▸\";float: left;margin-right: 0.25em;color: #696969;}#sk-container-id-5 label.sk-toggleable__label-arrow:hover:before {color: black;}#sk-container-id-5 div.sk-estimator:hover label.sk-toggleable__label-arrow:before {color: black;}#sk-container-id-5 div.sk-toggleable__content {max-height: 0;max-width: 0;overflow: hidden;text-align: left;background-color: #f0f8ff;}#sk-container-id-5 div.sk-toggleable__content pre {margin: 0.2em;color: black;border-radius: 0.25em;background-color: #f0f8ff;}#sk-container-id-5 input.sk-toggleable__control:checked~div.sk-toggleable__content {max-height: 200px;max-width: 100%;overflow: auto;}#sk-container-id-5 input.sk-toggleable__control:checked~label.sk-toggleable__label-arrow:before {content: \"▾\";}#sk-container-id-5 div.sk-estimator input.sk-toggleable__control:checked~label.sk-toggleable__label {background-color: #d4ebff;}#sk-container-id-5 div.sk-label input.sk-toggleable__control:checked~label.sk-toggleable__label {background-color: #d4ebff;}#sk-container-id-5 input.sk-hidden--visually {border: 0;clip: rect(1px 1px 1px 1px);clip: rect(1px, 1px, 1px, 1px);height: 1px;margin: -1px;overflow: hidden;padding: 0;position: absolute;width: 1px;}#sk-container-id-5 div.sk-estimator {font-family: monospace;background-color: #f0f8ff;border: 1px dotted black;border-radius: 0.25em;box-sizing: border-box;margin-bottom: 0.5em;}#sk-container-id-5 div.sk-estimator:hover {background-color: #d4ebff;}#sk-container-id-5 div.sk-parallel-item::after {content: \"\";width: 100%;border-bottom: 1px solid gray;flex-grow: 1;}#sk-container-id-5 div.sk-label:hover label.sk-toggleable__label {background-color: #d4ebff;}#sk-container-id-5 div.sk-serial::before {content: \"\";position: absolute;border-left: 1px solid gray;box-sizing: border-box;top: 0;bottom: 0;left: 50%;z-index: 0;}#sk-container-id-5 div.sk-serial {display: flex;flex-direction: column;align-items: center;background-color: white;padding-right: 0.2em;padding-left: 0.2em;position: relative;}#sk-container-id-5 div.sk-item {position: relative;z-index: 1;}#sk-container-id-5 div.sk-parallel {display: flex;align-items: stretch;justify-content: center;background-color: white;position: relative;}#sk-container-id-5 div.sk-item::before, #sk-container-id-5 div.sk-parallel-item::before {content: \"\";position: absolute;border-left: 1px solid gray;box-sizing: border-box;top: 0;bottom: 0;left: 50%;z-index: -1;}#sk-container-id-5 div.sk-parallel-item {display: flex;flex-direction: column;z-index: 1;position: relative;background-color: white;}#sk-container-id-5 div.sk-parallel-item:first-child::after {align-self: flex-end;width: 50%;}#sk-container-id-5 div.sk-parallel-item:last-child::after {align-self: flex-start;width: 50%;}#sk-container-id-5 div.sk-parallel-item:only-child::after {width: 0;}#sk-container-id-5 div.sk-dashed-wrapped {border: 1px dashed gray;margin: 0 0.4em 0.5em 0.4em;box-sizing: border-box;padding-bottom: 0.4em;background-color: white;}#sk-container-id-5 div.sk-label label {font-family: monospace;font-weight: bold;display: inline-block;line-height: 1.2em;}#sk-container-id-5 div.sk-label-container {text-align: center;}#sk-container-id-5 div.sk-container {/* jupyter's `normalize.less` sets `[hidden] { display: none; }` but bootstrap.min.css set `[hidden] { display: none !important; }` so we also need the `!important` here to be able to override the default hidden behavior on the sphinx rendered scikit-learn.org. See: https://github.com/scikit-learn/scikit-learn/issues/21755 */display: inline-block !important;position: relative;}#sk-container-id-5 div.sk-text-repr-fallback {display: none;}</style><div id=\"sk-container-id-5\" class=\"sk-top-container\"><div class=\"sk-text-repr-fallback\"><pre>CalibratedClassifierCV(cv=&#x27;prefit&#x27;,\n",
       "                       estimator=RandomForestClassifier(class_weight=&#x27;balanced&#x27;))</pre><b>In a Jupyter environment, please rerun this cell to show the HTML representation or trust the notebook. <br />On GitHub, the HTML representation is unable to render, please try loading this page with nbviewer.org.</b></div><div class=\"sk-container\" hidden><div class=\"sk-item sk-dashed-wrapped\"><div class=\"sk-label-container\"><div class=\"sk-label sk-toggleable\"><input class=\"sk-toggleable__control sk-hidden--visually\" id=\"sk-estimator-id-9\" type=\"checkbox\" ><label for=\"sk-estimator-id-9\" class=\"sk-toggleable__label sk-toggleable__label-arrow\">CalibratedClassifierCV</label><div class=\"sk-toggleable__content\"><pre>CalibratedClassifierCV(cv=&#x27;prefit&#x27;,\n",
       "                       estimator=RandomForestClassifier(class_weight=&#x27;balanced&#x27;))</pre></div></div></div><div class=\"sk-parallel\"><div class=\"sk-parallel-item\"><div class=\"sk-item\"><div class=\"sk-label-container\"><div class=\"sk-label sk-toggleable\"><input class=\"sk-toggleable__control sk-hidden--visually\" id=\"sk-estimator-id-10\" type=\"checkbox\" ><label for=\"sk-estimator-id-10\" class=\"sk-toggleable__label sk-toggleable__label-arrow\">estimator: RandomForestClassifier</label><div class=\"sk-toggleable__content\"><pre>RandomForestClassifier(class_weight=&#x27;balanced&#x27;)</pre></div></div></div><div class=\"sk-serial\"><div class=\"sk-item\"><div class=\"sk-estimator sk-toggleable\"><input class=\"sk-toggleable__control sk-hidden--visually\" id=\"sk-estimator-id-11\" type=\"checkbox\" ><label for=\"sk-estimator-id-11\" class=\"sk-toggleable__label sk-toggleable__label-arrow\">RandomForestClassifier</label><div class=\"sk-toggleable__content\"><pre>RandomForestClassifier(class_weight=&#x27;balanced&#x27;)</pre></div></div></div></div></div></div></div></div></div></div>"
      ],
      "text/plain": [
       "CalibratedClassifierCV(cv='prefit',\n",
       "                       estimator=RandomForestClassifier(class_weight='balanced'))"
      ]
     },
     "execution_count": 119,
     "metadata": {},
     "output_type": "execute_result"
    }
   ],
   "source": [
    "best_model = cc_model_rf\n",
    "best_model.fit(X_train, y_train)"
   ]
  },
  {
   "cell_type": "code",
   "execution_count": 120,
   "id": "ca92064d",
   "metadata": {},
   "outputs": [
    {
     "data": {
      "text/html": [
       "<div>\n",
       "<style scoped>\n",
       "    .dataframe tbody tr th:only-of-type {\n",
       "        vertical-align: middle;\n",
       "    }\n",
       "\n",
       "    .dataframe tbody tr th {\n",
       "        vertical-align: top;\n",
       "    }\n",
       "\n",
       "    .dataframe thead th {\n",
       "        text-align: right;\n",
       "    }\n",
       "</style>\n",
       "<table border=\"1\" class=\"dataframe\">\n",
       "  <thead>\n",
       "    <tr style=\"text-align: right;\">\n",
       "      <th></th>\n",
       "      <th>ID</th>\n",
       "      <th>TARGET</th>\n",
       "    </tr>\n",
       "  </thead>\n",
       "  <tbody>\n",
       "    <tr>\n",
       "      <th>0</th>\n",
       "      <td>2</td>\n",
       "      <td>0</td>\n",
       "    </tr>\n",
       "    <tr>\n",
       "      <th>1</th>\n",
       "      <td>5</td>\n",
       "      <td>0</td>\n",
       "    </tr>\n",
       "    <tr>\n",
       "      <th>2</th>\n",
       "      <td>6</td>\n",
       "      <td>0</td>\n",
       "    </tr>\n",
       "    <tr>\n",
       "      <th>3</th>\n",
       "      <td>7</td>\n",
       "      <td>0</td>\n",
       "    </tr>\n",
       "    <tr>\n",
       "      <th>4</th>\n",
       "      <td>9</td>\n",
       "      <td>0</td>\n",
       "    </tr>\n",
       "    <tr>\n",
       "      <th>...</th>\n",
       "      <td>...</td>\n",
       "      <td>...</td>\n",
       "    </tr>\n",
       "    <tr>\n",
       "      <th>75813</th>\n",
       "      <td>151831</td>\n",
       "      <td>0</td>\n",
       "    </tr>\n",
       "    <tr>\n",
       "      <th>75814</th>\n",
       "      <td>151832</td>\n",
       "      <td>0</td>\n",
       "    </tr>\n",
       "    <tr>\n",
       "      <th>75815</th>\n",
       "      <td>151833</td>\n",
       "      <td>0</td>\n",
       "    </tr>\n",
       "    <tr>\n",
       "      <th>75816</th>\n",
       "      <td>151834</td>\n",
       "      <td>0</td>\n",
       "    </tr>\n",
       "    <tr>\n",
       "      <th>75817</th>\n",
       "      <td>151837</td>\n",
       "      <td>0</td>\n",
       "    </tr>\n",
       "  </tbody>\n",
       "</table>\n",
       "<p>75818 rows × 2 columns</p>\n",
       "</div>"
      ],
      "text/plain": [
       "           ID  TARGET\n",
       "0           2       0\n",
       "1           5       0\n",
       "2           6       0\n",
       "3           7       0\n",
       "4           9       0\n",
       "...       ...     ...\n",
       "75813  151831       0\n",
       "75814  151832       0\n",
       "75815  151833       0\n",
       "75816  151834       0\n",
       "75817  151837       0\n",
       "\n",
       "[75818 rows x 2 columns]"
      ]
     },
     "execution_count": 120,
     "metadata": {},
     "output_type": "execute_result"
    }
   ],
   "source": [
    "sample"
   ]
  },
  {
   "cell_type": "code",
   "execution_count": 121,
   "id": "be0a65ec",
   "metadata": {},
   "outputs": [],
   "source": [
    "predicted = best_model.predict(X_test)\n",
    "best_y_pred_df = pd.DataFrame(data = {\"ID\": test_id, 'TARGET': predicted})\n",
    "best_y_pred_df.to_csv(dataset + '_submission.csv', index = False)"
   ]
  },
  {
   "cell_type": "code",
   "execution_count": 122,
   "id": "c8ef7dbc",
   "metadata": {},
   "outputs": [
    {
     "data": {
      "text/html": [
       "<div>\n",
       "<style scoped>\n",
       "    .dataframe tbody tr th:only-of-type {\n",
       "        vertical-align: middle;\n",
       "    }\n",
       "\n",
       "    .dataframe tbody tr th {\n",
       "        vertical-align: top;\n",
       "    }\n",
       "\n",
       "    .dataframe thead th {\n",
       "        text-align: right;\n",
       "    }\n",
       "</style>\n",
       "<table border=\"1\" class=\"dataframe\">\n",
       "  <thead>\n",
       "    <tr style=\"text-align: right;\">\n",
       "      <th></th>\n",
       "      <th>ID</th>\n",
       "      <th>TARGET</th>\n",
       "    </tr>\n",
       "  </thead>\n",
       "  <tbody>\n",
       "    <tr>\n",
       "      <th>0</th>\n",
       "      <td>2</td>\n",
       "      <td>0</td>\n",
       "    </tr>\n",
       "    <tr>\n",
       "      <th>1</th>\n",
       "      <td>5</td>\n",
       "      <td>0</td>\n",
       "    </tr>\n",
       "    <tr>\n",
       "      <th>2</th>\n",
       "      <td>6</td>\n",
       "      <td>0</td>\n",
       "    </tr>\n",
       "    <tr>\n",
       "      <th>3</th>\n",
       "      <td>7</td>\n",
       "      <td>0</td>\n",
       "    </tr>\n",
       "    <tr>\n",
       "      <th>4</th>\n",
       "      <td>9</td>\n",
       "      <td>0</td>\n",
       "    </tr>\n",
       "    <tr>\n",
       "      <th>...</th>\n",
       "      <td>...</td>\n",
       "      <td>...</td>\n",
       "    </tr>\n",
       "    <tr>\n",
       "      <th>75813</th>\n",
       "      <td>151831</td>\n",
       "      <td>0</td>\n",
       "    </tr>\n",
       "    <tr>\n",
       "      <th>75814</th>\n",
       "      <td>151832</td>\n",
       "      <td>0</td>\n",
       "    </tr>\n",
       "    <tr>\n",
       "      <th>75815</th>\n",
       "      <td>151833</td>\n",
       "      <td>0</td>\n",
       "    </tr>\n",
       "    <tr>\n",
       "      <th>75816</th>\n",
       "      <td>151834</td>\n",
       "      <td>0</td>\n",
       "    </tr>\n",
       "    <tr>\n",
       "      <th>75817</th>\n",
       "      <td>151837</td>\n",
       "      <td>0</td>\n",
       "    </tr>\n",
       "  </tbody>\n",
       "</table>\n",
       "<p>75818 rows × 2 columns</p>\n",
       "</div>"
      ],
      "text/plain": [
       "           ID  TARGET\n",
       "0           2       0\n",
       "1           5       0\n",
       "2           6       0\n",
       "3           7       0\n",
       "4           9       0\n",
       "...       ...     ...\n",
       "75813  151831       0\n",
       "75814  151832       0\n",
       "75815  151833       0\n",
       "75816  151834       0\n",
       "75817  151837       0\n",
       "\n",
       "[75818 rows x 2 columns]"
      ]
     },
     "execution_count": 122,
     "metadata": {},
     "output_type": "execute_result"
    }
   ],
   "source": [
    "best_y_pred_df"
   ]
  }
 ],
 "metadata": {
  "kernelspec": {
   "display_name": "Python 3 (ipykernel)",
   "language": "python",
   "name": "python3"
  },
  "language_info": {
   "codemirror_mode": {
    "name": "ipython",
    "version": 3
   },
   "file_extension": ".py",
   "mimetype": "text/x-python",
   "name": "python",
   "nbconvert_exporter": "python",
   "pygments_lexer": "ipython3",
   "version": "3.9.7"
  }
 },
 "nbformat": 4,
 "nbformat_minor": 5
}
