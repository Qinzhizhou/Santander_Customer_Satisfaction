{
 "cells": [
  {
   "cell_type": "code",
   "execution_count": 1,
   "metadata": {
    "_cell_guid": "b1076dfc-b9ad-4769-8c92-a6c4dae69d19",
    "_uuid": "8f2839f25d086af736a60e9eeb907d3b93b6e0e5",
    "execution": {
     "iopub.execute_input": "2022-03-29T18:12:17.523754Z",
     "iopub.status.busy": "2022-03-29T18:12:17.523481Z",
     "iopub.status.idle": "2022-03-29T18:12:17.54292Z",
     "shell.execute_reply": "2022-03-29T18:12:17.542242Z",
     "shell.execute_reply.started": "2022-03-29T18:12:17.523723Z"
    }
   },
   "outputs": [],
   "source": [
    "# This Python 3 environment comes with many helpful analytics libraries installed\n",
    "# It is defined by the kaggle/python Docker image: https://github.com/kaggle/docker-python\n",
    "# For example, here's several helpful packages to load\n",
    "\n",
    "import numpy as np # linear algebra\n",
    "import pandas as pd # data processing, CSV file I/O (e.g. pd.read_csv)\n",
    "\n",
    "# Input data files are available in the read-only \"../input/\" directory\n",
    "# For example, running this (by clicking run or pressing Shift+Enter) will list all files under the input directory\n",
    "\n",
    "import os\n",
    "for dirname, _, filenames in os.walk('/kaggle/input'):\n",
    "    for filename in filenames:\n",
    "        print(os.path.join(dirname, filename))\n",
    "\n",
    "# You can write up to 20GB to the current directory (/kaggle/working/) that gets preserved as output when you create a version using \"Save & Run All\" \n",
    "# You can also write temporary files to /kaggle/temp/, but they won't be saved outside of the current session"
   ]
  },
  {
   "cell_type": "markdown",
   "metadata": {},
   "source": [
    "# Importing libraries."
   ]
  },
  {
   "cell_type": "code",
   "execution_count": 2,
   "metadata": {
    "execution": {
     "iopub.execute_input": "2022-03-29T18:12:17.651362Z",
     "iopub.status.busy": "2022-03-29T18:12:17.651124Z",
     "iopub.status.idle": "2022-03-29T18:12:17.658121Z",
     "shell.execute_reply": "2022-03-29T18:12:17.657424Z",
     "shell.execute_reply.started": "2022-03-29T18:12:17.651336Z"
    }
   },
   "outputs": [
    {
     "ename": "ModuleNotFoundError",
     "evalue": "No module named 'imblearn'",
     "output_type": "error",
     "traceback": [
      "\u001b[1;31m---------------------------------------------------------------------------\u001b[0m",
      "\u001b[1;31mModuleNotFoundError\u001b[0m                       Traceback (most recent call last)",
      "\u001b[1;32mC:\\Users\\ZHOUQI~1\\AppData\\Local\\Temp/ipykernel_53856/540976930.py\u001b[0m in \u001b[0;36m<module>\u001b[1;34m\u001b[0m\n\u001b[0;32m      2\u001b[0m \u001b[1;32mimport\u001b[0m \u001b[0mmatplotlib\u001b[0m\u001b[1;33m.\u001b[0m\u001b[0mpyplot\u001b[0m \u001b[1;32mas\u001b[0m \u001b[0mplt\u001b[0m\u001b[1;33m\u001b[0m\u001b[1;33m\u001b[0m\u001b[0m\n\u001b[0;32m      3\u001b[0m \u001b[1;32mfrom\u001b[0m \u001b[0msklearn\u001b[0m\u001b[1;33m.\u001b[0m\u001b[0mpreprocessing\u001b[0m \u001b[1;32mimport\u001b[0m \u001b[0mLabelEncoder\u001b[0m\u001b[1;33m,\u001b[0m \u001b[0mStandardScaler\u001b[0m\u001b[1;33m,\u001b[0m \u001b[0mMinMaxScaler\u001b[0m\u001b[1;33m\u001b[0m\u001b[1;33m\u001b[0m\u001b[0m\n\u001b[1;32m----> 4\u001b[1;33m \u001b[1;32mfrom\u001b[0m \u001b[0mimblearn\u001b[0m\u001b[1;33m.\u001b[0m\u001b[0mover_sampling\u001b[0m \u001b[1;32mimport\u001b[0m \u001b[0mRandomOverSampler\u001b[0m\u001b[1;33m,\u001b[0m \u001b[0mSMOTE\u001b[0m\u001b[1;33m\u001b[0m\u001b[1;33m\u001b[0m\u001b[0m\n\u001b[0m\u001b[0;32m      5\u001b[0m \u001b[1;32mfrom\u001b[0m \u001b[0mimblearn\u001b[0m\u001b[1;33m.\u001b[0m\u001b[0munder_sampling\u001b[0m \u001b[1;32mimport\u001b[0m \u001b[0mRandomUnderSampler\u001b[0m\u001b[1;33m\u001b[0m\u001b[1;33m\u001b[0m\u001b[0m\n\u001b[0;32m      6\u001b[0m \u001b[1;32mfrom\u001b[0m \u001b[0msklearn\u001b[0m\u001b[1;33m.\u001b[0m\u001b[0mmodel_selection\u001b[0m \u001b[1;32mimport\u001b[0m \u001b[0mtrain_test_split\u001b[0m\u001b[1;33m,\u001b[0m \u001b[0mRandomizedSearchCV\u001b[0m\u001b[1;33m\u001b[0m\u001b[1;33m\u001b[0m\u001b[0m\n",
      "\u001b[1;31mModuleNotFoundError\u001b[0m: No module named 'imblearn'"
     ]
    }
   ],
   "source": [
    "import seaborn as sns\n",
    "import matplotlib.pyplot as plt\n",
    "from sklearn.preprocessing import LabelEncoder, StandardScaler, MinMaxScaler\n",
    "from imblearn.over_sampling import RandomOverSampler, SMOTE\n",
    "from imblearn.under_sampling import RandomUnderSampler\n",
    "from sklearn.model_selection import train_test_split, RandomizedSearchCV\n",
    "from sklearn.ensemble import RandomForestClassifier\n",
    "from sklearn.tree import DecisionTreeClassifier\n",
    "from sklearn.linear_model import LogisticRegression\n",
    "from xgboost import XGBClassifier\n",
    "from sklearn.svm import SVC\n",
    "from sklearn.neighbors import KNeighborsClassifier\n",
    "from lightgbm import LGBMClassifier\n",
    "from catboost import CatBoostClassifier\n",
    "from sklearn.naive_bayes import GaussianNB\n",
    "from scipy import stats\n",
    "from sklearn.metrics import accuracy_score, roc_curve, auc, mean_squared_error, f1_score\n",
    "import warnings\n",
    "warnings.filterwarnings('ignore')"
   ]
  },
  {
   "cell_type": "markdown",
   "metadata": {},
   "source": [
    "# Reading the data."
   ]
  },
  {
   "cell_type": "code",
   "execution_count": null,
   "metadata": {
    "execution": {
     "iopub.execute_input": "2022-03-29T18:12:17.845111Z",
     "iopub.status.busy": "2022-03-29T18:12:17.844553Z",
     "iopub.status.idle": "2022-03-29T18:12:18.536008Z",
     "shell.execute_reply": "2022-03-29T18:12:18.535124Z",
     "shell.execute_reply.started": "2022-03-29T18:12:17.845077Z"
    }
   },
   "outputs": [],
   "source": [
    "!ls ../input/santander-customer-satisfaction/"
   ]
  },
  {
   "cell_type": "code",
   "execution_count": null,
   "metadata": {
    "execution": {
     "iopub.execute_input": "2022-03-29T18:12:18.539221Z",
     "iopub.status.busy": "2022-03-29T18:12:18.538514Z",
     "iopub.status.idle": "2022-03-29T18:12:21.428016Z",
     "shell.execute_reply": "2022-03-29T18:12:21.427266Z",
     "shell.execute_reply.started": "2022-03-29T18:12:18.539178Z"
    }
   },
   "outputs": [],
   "source": [
    "train = pd.read_csv(\"../input/santander-customer-satisfaction/train.csv\")\n",
    "test = pd.read_csv(\"../input/santander-customer-satisfaction/test.csv\")\n",
    "sample = pd.read_csv(\"../input/santander-customer-satisfaction/sample_submission.csv\")"
   ]
  },
  {
   "cell_type": "markdown",
   "metadata": {},
   "source": [
    "# Preprocessing."
   ]
  },
  {
   "cell_type": "code",
   "execution_count": null,
   "metadata": {
    "execution": {
     "iopub.execute_input": "2022-03-29T18:12:21.431359Z",
     "iopub.status.busy": "2022-03-29T18:12:21.431149Z",
     "iopub.status.idle": "2022-03-29T18:12:21.462842Z",
     "shell.execute_reply": "2022-03-29T18:12:21.462203Z",
     "shell.execute_reply.started": "2022-03-29T18:12:21.431334Z"
    }
   },
   "outputs": [],
   "source": [
    "train.head()"
   ]
  },
  {
   "cell_type": "code",
   "execution_count": null,
   "metadata": {
    "execution": {
     "iopub.execute_input": "2022-03-29T18:12:21.465153Z",
     "iopub.status.busy": "2022-03-29T18:12:21.464929Z",
     "iopub.status.idle": "2022-03-29T18:12:21.492284Z",
     "shell.execute_reply": "2022-03-29T18:12:21.491509Z",
     "shell.execute_reply.started": "2022-03-29T18:12:21.465121Z"
    }
   },
   "outputs": [],
   "source": [
    "test.head()"
   ]
  },
  {
   "cell_type": "code",
   "execution_count": null,
   "metadata": {
    "execution": {
     "iopub.execute_input": "2022-03-29T18:12:21.493969Z",
     "iopub.status.busy": "2022-03-29T18:12:21.493685Z",
     "iopub.status.idle": "2022-03-29T18:12:21.502175Z",
     "shell.execute_reply": "2022-03-29T18:12:21.501412Z",
     "shell.execute_reply.started": "2022-03-29T18:12:21.493933Z"
    }
   },
   "outputs": [],
   "source": [
    "sample.head()"
   ]
  },
  {
   "cell_type": "code",
   "execution_count": null,
   "metadata": {
    "execution": {
     "iopub.execute_input": "2022-03-29T18:12:21.504316Z",
     "iopub.status.busy": "2022-03-29T18:12:21.503446Z",
     "iopub.status.idle": "2022-03-29T18:12:21.51217Z",
     "shell.execute_reply": "2022-03-29T18:12:21.511282Z",
     "shell.execute_reply.started": "2022-03-29T18:12:21.504277Z"
    }
   },
   "outputs": [],
   "source": [
    "print(\"Shape of train dataframe is {}\".format(train.shape))\n",
    "print(\"Shape of test dataframe is {}\".format(test.shape))\n",
    "print(\"Shape of sample dataframe is {}\".format(sample.shape))"
   ]
  },
  {
   "cell_type": "code",
   "execution_count": null,
   "metadata": {
    "execution": {
     "iopub.execute_input": "2022-03-29T18:12:21.51554Z",
     "iopub.status.busy": "2022-03-29T18:12:21.515128Z",
     "iopub.status.idle": "2022-03-29T18:12:21.600347Z",
     "shell.execute_reply": "2022-03-29T18:12:21.59945Z",
     "shell.execute_reply.started": "2022-03-29T18:12:21.515507Z"
    }
   },
   "outputs": [],
   "source": [
    "print('Null values in training data is {}'.format(train.isnull().sum().any()))\n",
    "print('Null values in testing data is {}'.format(test.isnull().sum().any()))"
   ]
  },
  {
   "cell_type": "code",
   "execution_count": null,
   "metadata": {
    "execution": {
     "iopub.execute_input": "2022-03-29T18:12:21.602085Z",
     "iopub.status.busy": "2022-03-29T18:12:21.601757Z",
     "iopub.status.idle": "2022-03-29T18:12:22.664257Z",
     "shell.execute_reply": "2022-03-29T18:12:22.663561Z",
     "shell.execute_reply.started": "2022-03-29T18:12:21.602047Z"
    }
   },
   "outputs": [],
   "source": [
    "train.describe()"
   ]
  },
  {
   "cell_type": "code",
   "execution_count": null,
   "metadata": {
    "execution": {
     "iopub.execute_input": "2022-03-29T18:12:22.66574Z",
     "iopub.status.busy": "2022-03-29T18:12:22.665402Z",
     "iopub.status.idle": "2022-03-29T18:12:22.68881Z",
     "shell.execute_reply": "2022-03-29T18:12:22.688117Z",
     "shell.execute_reply.started": "2022-03-29T18:12:22.665682Z"
    }
   },
   "outputs": [],
   "source": [
    "train.info()"
   ]
  },
  {
   "cell_type": "code",
   "execution_count": null,
   "metadata": {
    "execution": {
     "iopub.execute_input": "2022-03-29T18:12:22.693537Z",
     "iopub.status.busy": "2022-03-29T18:12:22.69262Z",
     "iopub.status.idle": "2022-03-29T18:12:22.717677Z",
     "shell.execute_reply": "2022-03-29T18:12:22.71699Z",
     "shell.execute_reply.started": "2022-03-29T18:12:22.693498Z"
    }
   },
   "outputs": [],
   "source": [
    "test.info()"
   ]
  },
  {
   "cell_type": "code",
   "execution_count": null,
   "metadata": {
    "execution": {
     "iopub.execute_input": "2022-03-29T18:12:22.719178Z",
     "iopub.status.busy": "2022-03-29T18:12:22.718817Z",
     "iopub.status.idle": "2022-03-29T18:12:23.161507Z",
     "shell.execute_reply": "2022-03-29T18:12:23.160707Z",
     "shell.execute_reply.started": "2022-03-29T18:12:22.719144Z"
    }
   },
   "outputs": [],
   "source": [
    "# Findning duplicate rows.\n",
    "\n",
    "dupli = train[train.duplicated()]\n",
    "dupli"
   ]
  },
  {
   "cell_type": "markdown",
   "metadata": {},
   "source": [
    "*No duolicate rows found.*"
   ]
  },
  {
   "cell_type": "code",
   "execution_count": null,
   "metadata": {
    "execution": {
     "iopub.execute_input": "2022-03-29T18:12:23.163309Z",
     "iopub.status.busy": "2022-03-29T18:12:23.163041Z",
     "iopub.status.idle": "2022-03-29T18:12:28.109442Z",
     "shell.execute_reply": "2022-03-29T18:12:28.108647Z",
     "shell.execute_reply.started": "2022-03-29T18:12:23.163274Z"
    }
   },
   "outputs": [],
   "source": [
    "# Removing all the columns having only 1 unique value.\n",
    "\n",
    "for i in train.columns:\n",
    "    if train[i].nunique() == 1:\n",
    "        print(i)\n",
    "        train.drop(i, inplace = True, axis = 1)\n",
    "        test.drop(i, inplace = True, axis = 1)"
   ]
  },
  {
   "cell_type": "code",
   "execution_count": null,
   "metadata": {
    "execution": {
     "iopub.execute_input": "2022-03-29T18:12:28.111293Z",
     "iopub.status.busy": "2022-03-29T18:12:28.111015Z",
     "iopub.status.idle": "2022-03-29T18:12:28.116897Z",
     "shell.execute_reply": "2022-03-29T18:12:28.116127Z",
     "shell.execute_reply.started": "2022-03-29T18:12:28.111254Z"
    }
   },
   "outputs": [],
   "source": [
    "train.shape"
   ]
  },
  {
   "cell_type": "code",
   "execution_count": null,
   "metadata": {
    "execution": {
     "iopub.execute_input": "2022-03-29T18:12:28.119105Z",
     "iopub.status.busy": "2022-03-29T18:12:28.118541Z",
     "iopub.status.idle": "2022-03-29T18:12:32.548675Z",
     "shell.execute_reply": "2022-03-29T18:12:32.548009Z",
     "shell.execute_reply.started": "2022-03-29T18:12:28.119068Z"
    }
   },
   "outputs": [],
   "source": [
    "# Before removing Outliers.\n",
    "\n",
    "plt.figure(figsize = (20,20))\n",
    "for i in range (50):\n",
    "    plt.subplot(5, 10, i+1)\n",
    "    sns.boxplot(train.iloc[:,i])\n",
    "    plt.xlabel(train.columns[i], size = 10)"
   ]
  },
  {
   "cell_type": "code",
   "execution_count": null,
   "metadata": {
    "execution": {
     "iopub.execute_input": "2022-03-29T18:12:32.55035Z",
     "iopub.status.busy": "2022-03-29T18:12:32.5501Z",
     "iopub.status.idle": "2022-03-29T18:12:32.555741Z",
     "shell.execute_reply": "2022-03-29T18:12:32.554984Z",
     "shell.execute_reply.started": "2022-03-29T18:12:32.550316Z"
    }
   },
   "outputs": [],
   "source": [
    "def Outliers(data, ft):\n",
    "    \n",
    "    IQ1 = data[ft].quantile(0.25)\n",
    "    IQ3 = data[ft].quantile(0.75)\n",
    "    IQR = IQ3 - IQ1\n",
    "    \n",
    "    lower_bound = IQ1 - 1.5 * IQR\n",
    "    upper_bound = IQ3 + 1.5 * IQR\n",
    "    \n",
    "    index = data.index[ (data[ft] < lower_bound) | (data[ft] > upper_bound) ]\n",
    "    return index"
   ]
  },
  {
   "cell_type": "code",
   "execution_count": null,
   "metadata": {
    "execution": {
     "iopub.execute_input": "2022-03-29T18:12:32.557525Z",
     "iopub.status.busy": "2022-03-29T18:12:32.557267Z",
     "iopub.status.idle": "2022-03-29T18:12:33.620263Z",
     "shell.execute_reply": "2022-03-29T18:12:33.619555Z",
     "shell.execute_reply.started": "2022-03-29T18:12:32.557489Z"
    }
   },
   "outputs": [],
   "source": [
    "index = []\n",
    "for i in train.columns:\n",
    "    index.extend(Outliers(train, i))\n",
    "index = list(set(index))\n",
    "len(index)"
   ]
  },
  {
   "cell_type": "code",
   "execution_count": null,
   "metadata": {
    "execution": {
     "iopub.execute_input": "2022-03-29T18:12:33.621966Z",
     "iopub.status.busy": "2022-03-29T18:12:33.621539Z",
     "iopub.status.idle": "2022-03-29T18:12:33.625882Z",
     "shell.execute_reply": "2022-03-29T18:12:33.625161Z",
     "shell.execute_reply.started": "2022-03-29T18:12:33.621925Z"
    }
   },
   "outputs": [],
   "source": [
    "# print(\"Size of training data before removing outliers is {}\".format(train.shape))\n",
    "# train.drop(index, inplace = True, axis = 0)\n",
    "# print(\"Size of training data after removing outliers is {}\".format(train.shape))"
   ]
  },
  {
   "cell_type": "markdown",
   "metadata": {},
   "source": [
    "*Here I tried removing outlier, but by removing them I was loosing important information as well. That's why I decided not to remove outliers.*"
   ]
  },
  {
   "cell_type": "code",
   "execution_count": null,
   "metadata": {
    "execution": {
     "iopub.execute_input": "2022-03-29T18:12:33.627833Z",
     "iopub.status.busy": "2022-03-29T18:12:33.627362Z",
     "iopub.status.idle": "2022-03-29T18:12:33.81379Z",
     "shell.execute_reply": "2022-03-29T18:12:33.813095Z",
     "shell.execute_reply.started": "2022-03-29T18:12:33.627797Z"
    }
   },
   "outputs": [],
   "source": [
    "# Count plot for target column.\n",
    "\n",
    "print(train['TARGET'].value_counts())\n",
    "plt.figure(figsize = (8,5))\n",
    "sns.countplot(x = train['TARGET'])\n",
    "plt.xlabel('Target', size = 12)\n",
    "plt.ylabel('Count', size = 12)\n",
    "plt.title('Distribution in target column before resmpling', size = 12)"
   ]
  },
  {
   "cell_type": "markdown",
   "metadata": {},
   "source": [
    "*Here we can see that target column is unbalanced.*"
   ]
  },
  {
   "cell_type": "code",
   "execution_count": null,
   "metadata": {
    "execution": {
     "iopub.execute_input": "2022-03-29T18:12:33.815268Z",
     "iopub.status.busy": "2022-03-29T18:12:33.81487Z",
     "iopub.status.idle": "2022-03-29T18:12:33.944663Z",
     "shell.execute_reply": "2022-03-29T18:12:33.943857Z",
     "shell.execute_reply.started": "2022-03-29T18:12:33.81523Z"
    }
   },
   "outputs": [],
   "source": [
    "test_id = test['ID']\n",
    "train.drop('ID', inplace = True, axis = 1)\n",
    "test.drop('ID', inplace = True, axis = 1)"
   ]
  },
  {
   "cell_type": "code",
   "execution_count": null,
   "metadata": {
    "execution": {
     "iopub.execute_input": "2022-03-29T18:12:33.94647Z",
     "iopub.status.busy": "2022-03-29T18:12:33.946164Z",
     "iopub.status.idle": "2022-03-29T18:12:34.040434Z",
     "shell.execute_reply": "2022-03-29T18:12:34.03976Z",
     "shell.execute_reply.started": "2022-03-29T18:12:33.946432Z"
    }
   },
   "outputs": [],
   "source": [
    "x = train.drop('TARGET', axis = 1)\n",
    "x.head()"
   ]
  },
  {
   "cell_type": "code",
   "execution_count": null,
   "metadata": {
    "execution": {
     "iopub.execute_input": "2022-03-29T18:12:34.042068Z",
     "iopub.status.busy": "2022-03-29T18:12:34.041506Z",
     "iopub.status.idle": "2022-03-29T18:12:34.049549Z",
     "shell.execute_reply": "2022-03-29T18:12:34.048744Z",
     "shell.execute_reply.started": "2022-03-29T18:12:34.042022Z"
    }
   },
   "outputs": [],
   "source": [
    "y = train.loc[:, 'TARGET']\n",
    "y.head()"
   ]
  },
  {
   "cell_type": "code",
   "execution_count": null,
   "metadata": {
    "execution": {
     "iopub.execute_input": "2022-03-29T18:36:05.165283Z",
     "iopub.status.busy": "2022-03-29T18:36:05.164726Z",
     "iopub.status.idle": "2022-03-29T18:36:05.255855Z",
     "shell.execute_reply": "2022-03-29T18:36:05.255024Z",
     "shell.execute_reply.started": "2022-03-29T18:36:05.165249Z"
    }
   },
   "outputs": [],
   "source": [
    "# Sampling the data, to balance the classes in target column.\n",
    "\n",
    "sampler = RandomUnderSampler()\n",
    "x, y = sampler.fit_resample(x, y)"
   ]
  },
  {
   "cell_type": "code",
   "execution_count": null,
   "metadata": {
    "execution": {
     "iopub.execute_input": "2022-03-29T18:12:34.223941Z",
     "iopub.status.busy": "2022-03-29T18:12:34.223635Z",
     "iopub.status.idle": "2022-03-29T18:12:34.395628Z",
     "shell.execute_reply": "2022-03-29T18:12:34.394909Z",
     "shell.execute_reply.started": "2022-03-29T18:12:34.223907Z"
    }
   },
   "outputs": [],
   "source": [
    "print(y.value_counts())\n",
    "plt.figure(figsize = (8,5))\n",
    "sns.countplot(x = y)\n",
    "plt.xlabel('Target', size = 12)\n",
    "plt.ylabel('Count', size = 12)\n",
    "plt.title('Distribution in target column before resmpling', size = 12)"
   ]
  },
  {
   "cell_type": "code",
   "execution_count": null,
   "metadata": {
    "execution": {
     "iopub.execute_input": "2022-03-29T18:12:34.397526Z",
     "iopub.status.busy": "2022-03-29T18:12:34.397077Z",
     "iopub.status.idle": "2022-03-29T18:12:34.482065Z",
     "shell.execute_reply": "2022-03-29T18:12:34.481275Z",
     "shell.execute_reply.started": "2022-03-29T18:12:34.397488Z"
    }
   },
   "outputs": [],
   "source": [
    "# Applying standard scaler and min max scaler.\n",
    "\n",
    "col = x.columns\n",
    "std = StandardScaler()\n",
    "x_std = std.fit_transform(x)\n",
    "x_std = pd.DataFrame(data = x_std, columns = col)\n",
    "\n",
    "mms = MinMaxScaler()\n",
    "x_mms = mms.fit_transform(x)\n",
    "x_mms = pd.DataFrame(data = x_mms, columns = col)"
   ]
  },
  {
   "cell_type": "code",
   "execution_count": null,
   "metadata": {
    "execution": {
     "iopub.execute_input": "2022-03-29T18:12:34.483682Z",
     "iopub.status.busy": "2022-03-29T18:12:34.483419Z",
     "iopub.status.idle": "2022-03-29T18:12:34.500248Z",
     "shell.execute_reply": "2022-03-29T18:12:34.49937Z",
     "shell.execute_reply.started": "2022-03-29T18:12:34.483645Z"
    }
   },
   "outputs": [],
   "source": [
    "xtrain, xtest, ytrain, ytest = train_test_split(x, y, test_size = 0.25, random_state = 42)"
   ]
  },
  {
   "cell_type": "markdown",
   "metadata": {},
   "source": [
    "# Building models."
   ]
  },
  {
   "cell_type": "code",
   "execution_count": null,
   "metadata": {
    "execution": {
     "iopub.execute_input": "2022-03-29T18:12:34.503148Z",
     "iopub.status.busy": "2022-03-29T18:12:34.502954Z",
     "iopub.status.idle": "2022-03-29T18:12:34.512273Z",
     "shell.execute_reply": "2022-03-29T18:12:34.511591Z",
     "shell.execute_reply.started": "2022-03-29T18:12:34.503124Z"
    }
   },
   "outputs": [],
   "source": [
    "def Models(model, name, d, xtrain, ytrain, xtest, ytest):\n",
    "    print(\"Working on {} model\".format(name))\n",
    "    \n",
    "    cla = model\n",
    "    cla.fit(xtrain, ytrain)\n",
    "    \n",
    "    predicted = cla.predict(xtrain)\n",
    "    tr_auc = accuracy_score(predicted, ytrain)*100\n",
    "    \n",
    "    predicted = cla.predict(xtest)\n",
    "    te_auc = accuracy_score(predicted, ytest)*100\n",
    "    \n",
    "    F1 = f1_score(predicted, ytest)\n",
    "    fpr, tpr, threshould = roc_curve(predicted, ytest)\n",
    "    AUC = auc(fpr, tpr)\n",
    "    \n",
    "    d['Name'].append(name)\n",
    "    d['Training ACU'].append(tr_auc)\n",
    "    d['Testing ACU'].append(te_auc)\n",
    "    d['F1'].append(F1)\n",
    "    d['AUC'].append(AUC)\n",
    "    \n",
    "    print(\"**********\"*5)\n",
    "    print()\n",
    "    return d"
   ]
  },
  {
   "cell_type": "code",
   "execution_count": null,
   "metadata": {
    "execution": {
     "iopub.execute_input": "2022-03-29T18:12:34.51415Z",
     "iopub.status.busy": "2022-03-29T18:12:34.513951Z",
     "iopub.status.idle": "2022-03-29T18:14:24.346263Z",
     "shell.execute_reply": "2022-03-29T18:14:24.345668Z",
     "shell.execute_reply.started": "2022-03-29T18:12:34.514121Z"
    }
   },
   "outputs": [],
   "source": [
    "l = [x, x_std, x_mms]\n",
    "final = []\n",
    "for i in l:\n",
    "    xtrain, xtest, ytrain, ytest = train_test_split(i, y, test_size = 0.25, random_state = 42)\n",
    "    \n",
    "    d = {'Name' : [], 'Training ACU': [], 'Testing ACU': [], 'F1': [], 'AUC': []}\n",
    "    \n",
    "    models = [ \n",
    "        [RandomForestClassifier(n_estimators = 200), 'Random Forest'], [DecisionTreeClassifier(), 'Decision Tree'], \n",
    "              [XGBClassifier(tree_method='gpu_hist'), 'XGBoost'], \n",
    "              [CatBoostClassifier(task_type=\"GPU\"), 'CatBoost'], [GaussianNB(), 'Naive Bayes'], \n",
    "              [LogisticRegression(), 'Logistic Regression'] \n",
    "    ]\n",
    "\n",
    "    for model in models:\n",
    "        d = Models(model[0], model[1], d, xtrain, ytrain, xtest, ytest)\n",
    "    final.append(d)"
   ]
  },
  {
   "cell_type": "code",
   "execution_count": null,
   "metadata": {
    "execution": {
     "iopub.execute_input": "2022-03-29T18:14:24.355463Z",
     "iopub.status.busy": "2022-03-29T18:14:24.352967Z",
     "iopub.status.idle": "2022-03-29T18:14:24.392044Z",
     "shell.execute_reply": "2022-03-29T18:14:24.391133Z",
     "shell.execute_reply.started": "2022-03-29T18:14:24.355425Z"
    }
   },
   "outputs": [],
   "source": [
    "name = ['Normal', 'Standard', 'Min Max']\n",
    "for i in range (len(name)):\n",
    "    print(name[i])\n",
    "    acu_data = pd.DataFrame(data = final[i])\n",
    "    print(acu_data)\n",
    "    print(\"******\"*12)"
   ]
  },
  {
   "cell_type": "markdown",
   "metadata": {},
   "source": [
    "*Here we are choosing catboost with standard deviation since its giving best score.*"
   ]
  },
  {
   "cell_type": "markdown",
   "metadata": {},
   "source": [
    "# Making predictions on test data."
   ]
  },
  {
   "cell_type": "code",
   "execution_count": null,
   "metadata": {
    "execution": {
     "iopub.execute_input": "2022-03-29T18:14:24.398499Z",
     "iopub.status.busy": "2022-03-29T18:14:24.396275Z",
     "iopub.status.idle": "2022-03-29T18:14:24.432193Z",
     "shell.execute_reply": "2022-03-29T18:14:24.43163Z",
     "shell.execute_reply.started": "2022-03-29T18:14:24.398463Z"
    }
   },
   "outputs": [],
   "source": [
    "xtrain, xtest, ytrain, ytest = train_test_split(x_std, y, test_size = 0.25, random_state = 42)"
   ]
  },
  {
   "cell_type": "code",
   "execution_count": null,
   "metadata": {
    "execution": {
     "iopub.execute_input": "2022-03-29T18:14:24.438517Z",
     "iopub.status.busy": "2022-03-29T18:14:24.436004Z",
     "iopub.status.idle": "2022-03-29T18:14:57.132998Z",
     "shell.execute_reply": "2022-03-29T18:14:57.132243Z",
     "shell.execute_reply.started": "2022-03-29T18:14:24.43848Z"
    }
   },
   "outputs": [],
   "source": [
    "cla = CatBoostClassifier(task_type = 'GPU')\n",
    "cla.fit(xtrain, ytrain, verbose = 100)"
   ]
  },
  {
   "cell_type": "code",
   "execution_count": null,
   "metadata": {
    "execution": {
     "iopub.execute_input": "2022-03-29T18:14:57.13838Z",
     "iopub.status.busy": "2022-03-29T18:14:57.13663Z",
     "iopub.status.idle": "2022-03-29T18:14:57.387549Z",
     "shell.execute_reply": "2022-03-29T18:14:57.38695Z",
     "shell.execute_reply.started": "2022-03-29T18:14:57.138341Z"
    }
   },
   "outputs": [],
   "source": [
    "x_test = test.loc[:, :]\n",
    "col = x_test.columns\n",
    "x_test = std.transform(x_test)\n",
    "x_test = pd.DataFrame(data = x_test, columns = col)\n",
    "x_test.head()"
   ]
  },
  {
   "cell_type": "code",
   "execution_count": null,
   "metadata": {
    "execution": {
     "iopub.execute_input": "2022-03-29T18:14:57.392845Z",
     "iopub.status.busy": "2022-03-29T18:14:57.391117Z",
     "iopub.status.idle": "2022-03-29T18:14:57.662777Z",
     "shell.execute_reply": "2022-03-29T18:14:57.66216Z",
     "shell.execute_reply.started": "2022-03-29T18:14:57.392808Z"
    }
   },
   "outputs": [],
   "source": [
    "predicted = cla.predict(x_test)\n",
    "predicted"
   ]
  },
  {
   "cell_type": "code",
   "execution_count": null,
   "metadata": {
    "execution": {
     "iopub.execute_input": "2022-03-29T18:14:57.666041Z",
     "iopub.status.busy": "2022-03-29T18:14:57.665572Z",
     "iopub.status.idle": "2022-03-29T18:14:57.678615Z",
     "shell.execute_reply": "2022-03-29T18:14:57.678079Z",
     "shell.execute_reply.started": "2022-03-29T18:14:57.666001Z"
    }
   },
   "outputs": [],
   "source": [
    "sample"
   ]
  },
  {
   "cell_type": "code",
   "execution_count": null,
   "metadata": {
    "execution": {
     "iopub.execute_input": "2022-03-29T18:14:57.683712Z",
     "iopub.status.busy": "2022-03-29T18:14:57.681988Z",
     "iopub.status.idle": "2022-03-29T18:14:57.697799Z",
     "shell.execute_reply": "2022-03-29T18:14:57.697234Z",
     "shell.execute_reply.started": "2022-03-29T18:14:57.683661Z"
    }
   },
   "outputs": [],
   "source": [
    "submit = pd.DataFrame(data = {'ID' : test_id, 'TARGET' :predicted})\n",
    "submit"
   ]
  },
  {
   "cell_type": "code",
   "execution_count": null,
   "metadata": {
    "execution": {
     "iopub.execute_input": "2022-03-29T18:14:57.702803Z",
     "iopub.status.busy": "2022-03-29T18:14:57.701091Z",
     "iopub.status.idle": "2022-03-29T18:14:57.86616Z",
     "shell.execute_reply": "2022-03-29T18:14:57.865621Z",
     "shell.execute_reply.started": "2022-03-29T18:14:57.702769Z"
    }
   },
   "outputs": [],
   "source": [
    "submit.to_csv('Submission1.csv', index = False)"
   ]
  },
  {
   "cell_type": "code",
   "execution_count": null,
   "metadata": {},
   "outputs": [],
   "source": []
  }
 ],
 "metadata": {
  "kernelspec": {
   "display_name": "Python 3 (ipykernel)",
   "language": "python",
   "name": "python3"
  },
  "language_info": {
   "codemirror_mode": {
    "name": "ipython",
    "version": 3
   },
   "file_extension": ".py",
   "mimetype": "text/x-python",
   "name": "python",
   "nbconvert_exporter": "python",
   "pygments_lexer": "ipython3",
   "version": "3.9.7"
  }
 },
 "nbformat": 4,
 "nbformat_minor": 4
}
