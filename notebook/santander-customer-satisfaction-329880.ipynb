{
 "cells": [
  {
   "cell_type": "code",
   "execution_count": 7,
   "metadata": {
    "_cell_guid": "b1076dfc-b9ad-4769-8c92-a6c4dae69d19",
    "_uuid": "8f2839f25d086af736a60e9eeb907d3b93b6e0e5",
    "execution": {
     "iopub.execute_input": "2022-03-29T18:12:17.523754Z",
     "iopub.status.busy": "2022-03-29T18:12:17.523481Z",
     "iopub.status.idle": "2022-03-29T18:12:17.54292Z",
     "shell.execute_reply": "2022-03-29T18:12:17.542242Z",
     "shell.execute_reply.started": "2022-03-29T18:12:17.523723Z"
    }
   },
   "outputs": [],
   "source": [
    "# This Python 3 environment comes with many helpful analytics libraries installed\n",
    "# It is defined by the kaggle/python Docker image: https://github.com/kaggle/docker-python\n",
    "# For example, here's several helpful packages to load\n",
    "\n",
    "import numpy as np # linear algebra\n",
    "import pandas as pd # data processing, CSV file I/O (e.g. pd.read_csv)\n",
    "\n",
    "# Input data files are available in the read-only \"../input/\" directory\n",
    "# For example, running this (by clicking run or pressing Shift+Enter) will list all files under the input directory\n",
    "\n",
    "import os\n",
    "for dirname, _, filenames in os.walk('/kaggle/input'):\n",
    "    for filename in filenames:\n",
    "        print(os.path.join(dirname, filename))\n",
    "\n",
    "# You can write up to 20GB to the current directory (/kaggle/working/) that gets preserved as output when you create a version using \"Save & Run All\" \n",
    "# You can also write temporary files to /kaggle/temp/, but they won't be saved outside of the current session"
   ]
  },
  {
   "cell_type": "code",
   "execution_count": 10,
   "metadata": {},
   "outputs": [
    {
     "name": "stderr",
     "output_type": "stream",
     "text": [
      "WARNING: Ignoring invalid distribution -ip (e:\\langurages\\python3.9\\lib\\site-packages)\n",
      "WARNING: Ignoring invalid distribution -ip (e:\\langurages\\python3.9\\lib\\site-packages)\n",
      "WARNING: Ignoring invalid distribution -ip (e:\\langurages\\python3.9\\lib\\site-packages)\n",
      "    WARNING: Ignoring invalid distribution -ip (e:\\langurages\\python3.9\\lib\\site-packages)\n",
      "    WARNING: Ignoring invalid distribution -ip (e:\\langurages\\python3.9\\lib\\site-packages)\n",
      "ERROR: Could not install packages due to an OSError: [WinError 5] 拒绝访问。: 'E:\\\\langurages\\\\python3.9\\\\Lib\\\\site-packages\\\\~klearn\\\\.libs\\\\vcomp140.dll'\n",
      "Consider using the `--user` option or check the permissions.\n",
      "\n",
      "WARNING: Ignoring invalid distribution -ip (e:\\langurages\\python3.9\\lib\\site-packages)\n",
      "WARNING: Ignoring invalid distribution -ip (e:\\langurages\\python3.9\\lib\\site-packages)\n",
      "WARNING: Ignoring invalid distribution -ip (e:\\langurages\\python3.9\\lib\\site-packages)\n",
      "WARNING: You are using pip version 22.0.4; however, version 22.3.1 is available.\n",
      "You should consider upgrading via the 'E:\\langurages\\python3.9\\python.exe -m pip install --upgrade pip' command.\n"
     ]
    },
    {
     "name": "stdout",
     "output_type": "stream",
     "text": [
      "Collecting imblearn\n",
      "  Using cached imblearn-0.0-py2.py3-none-any.whl (1.9 kB)\n",
      "Collecting imbalanced-learn\n",
      "  Using cached imbalanced_learn-0.10.1-py3-none-any.whl (226 kB)\n",
      "Collecting scikit-learn>=1.0.2\n",
      "  Downloading scikit_learn-1.2.0-cp39-cp39-win_amd64.whl (8.3 MB)\n",
      "     ---------------------------------------- 8.3/8.3 MB 47.9 kB/s eta 0:00:00\n",
      "Requirement already satisfied: scipy>=1.3.2 in e:\\langurages\\python3.9\\lib\\site-packages (from imbalanced-learn->imblearn) (1.7.1)\n",
      "Requirement already satisfied: threadpoolctl>=2.0.0 in e:\\langurages\\python3.9\\lib\\site-packages (from imbalanced-learn->imblearn) (3.0.0)\n",
      "Requirement already satisfied: numpy>=1.17.3 in e:\\langurages\\python3.9\\lib\\site-packages (from imbalanced-learn->imblearn) (1.21.2)\n",
      "Collecting joblib>=1.1.1\n",
      "  Using cached joblib-1.2.0-py3-none-any.whl (297 kB)\n",
      "Installing collected packages: joblib, scikit-learn, imbalanced-learn, imblearn\n",
      "  Attempting uninstall: joblib\n",
      "    Found existing installation: joblib 1.0.1\n",
      "    Uninstalling joblib-1.0.1:\n",
      "      Successfully uninstalled joblib-1.0.1\n",
      "  Attempting uninstall: scikit-learn\n",
      "    Found existing installation: scikit-learn 1.0\n",
      "    Uninstalling scikit-learn-1.0:\n",
      "      Successfully uninstalled scikit-learn-1.0\n"
     ]
    },
    {
     "name": "stderr",
     "output_type": "stream",
     "text": [
      "WARNING: Ignoring invalid distribution -ip (e:\\langurages\\python3.9\\lib\\site-packages)\n",
      "WARNING: Ignoring invalid distribution -ip (e:\\langurages\\python3.9\\lib\\site-packages)\n",
      "ERROR: Exception:\n",
      "Traceback (most recent call last):\n",
      "  File \"E:\\langurages\\python3.9\\lib\\site-packages\\pip\\_vendor\\urllib3\\response.py\", line 438, in _error_catcher\n",
      "    yield\n",
      "  File \"E:\\langurages\\python3.9\\lib\\site-packages\\pip\\_vendor\\urllib3\\response.py\", line 519, in read\n",
      "    data = self._fp.read(amt) if not fp_closed else b\"\"\n",
      "  File \"E:\\langurages\\python3.9\\lib\\site-packages\\pip\\_vendor\\cachecontrol\\filewrapper.py\", line 90, in read\n",
      "    data = self.__fp.read(amt)\n",
      "  File \"E:\\langurages\\python3.9\\lib\\http\\client.py\", line 462, in read\n",
      "    n = self.readinto(b)\n",
      "  File \"E:\\langurages\\python3.9\\lib\\http\\client.py\", line 506, in readinto\n",
      "    n = self.fp.readinto(b)\n",
      "  File \"E:\\langurages\\python3.9\\lib\\socket.py\", line 704, in readinto\n",
      "    return self._sock.recv_into(b)\n",
      "  File \"E:\\langurages\\python3.9\\lib\\ssl.py\", line 1241, in recv_into\n",
      "    return self.read(nbytes, buffer)\n",
      "  File \"E:\\langurages\\python3.9\\lib\\ssl.py\", line 1099, in read\n",
      "    return self._sslobj.read(len, buffer)\n",
      "socket.timeout: The read operation timed out\n",
      "\n",
      "During handling of the above exception, another exception occurred:\n",
      "\n",
      "Traceback (most recent call last):\n",
      "  File \"E:\\langurages\\python3.9\\lib\\site-packages\\pip\\_internal\\cli\\base_command.py\", line 167, in exc_logging_wrapper\n",
      "    status = run_func(*args)\n",
      "  File \"E:\\langurages\\python3.9\\lib\\site-packages\\pip\\_internal\\cli\\req_command.py\", line 205, in wrapper\n",
      "    return func(self, options, args)\n",
      "  File \"E:\\langurages\\python3.9\\lib\\site-packages\\pip\\_internal\\commands\\install.py\", line 339, in run\n",
      "    requirement_set = resolver.resolve(\n",
      "  File \"E:\\langurages\\python3.9\\lib\\site-packages\\pip\\_internal\\resolution\\resolvelib\\resolver.py\", line 94, in resolve\n",
      "    result = self._result = resolver.resolve(\n",
      "  File \"E:\\langurages\\python3.9\\lib\\site-packages\\pip\\_vendor\\resolvelib\\resolvers.py\", line 481, in resolve\n",
      "    state = resolution.resolve(requirements, max_rounds=max_rounds)\n",
      "  File \"E:\\langurages\\python3.9\\lib\\site-packages\\pip\\_vendor\\resolvelib\\resolvers.py\", line 373, in resolve\n",
      "    failure_causes = self._attempt_to_pin_criterion(name)\n",
      "  File \"E:\\langurages\\python3.9\\lib\\site-packages\\pip\\_vendor\\resolvelib\\resolvers.py\", line 213, in _attempt_to_pin_criterion\n",
      "    criteria = self._get_updated_criteria(candidate)\n",
      "  File \"E:\\langurages\\python3.9\\lib\\site-packages\\pip\\_vendor\\resolvelib\\resolvers.py\", line 204, in _get_updated_criteria\n",
      "    self._add_to_criteria(criteria, requirement, parent=candidate)\n",
      "  File \"E:\\langurages\\python3.9\\lib\\site-packages\\pip\\_vendor\\resolvelib\\resolvers.py\", line 172, in _add_to_criteria\n",
      "    if not criterion.candidates:\n",
      "  File \"E:\\langurages\\python3.9\\lib\\site-packages\\pip\\_vendor\\resolvelib\\structs.py\", line 151, in __bool__\n",
      "    return bool(self._sequence)\n",
      "  File \"E:\\langurages\\python3.9\\lib\\site-packages\\pip\\_internal\\resolution\\resolvelib\\found_candidates.py\", line 155, in __bool__\n",
      "    return any(self)\n",
      "  File \"E:\\langurages\\python3.9\\lib\\site-packages\\pip\\_internal\\resolution\\resolvelib\\found_candidates.py\", line 143, in <genexpr>\n",
      "    return (c for c in iterator if id(c) not in self._incompatible_ids)\n",
      "  File \"E:\\langurages\\python3.9\\lib\\site-packages\\pip\\_internal\\resolution\\resolvelib\\found_candidates.py\", line 47, in _iter_built\n",
      "    candidate = func()\n",
      "  File \"E:\\langurages\\python3.9\\lib\\site-packages\\pip\\_internal\\resolution\\resolvelib\\factory.py\", line 215, in _make_candidate_from_link\n",
      "    self._link_candidate_cache[link] = LinkCandidate(\n",
      "  File \"E:\\langurages\\python3.9\\lib\\site-packages\\pip\\_internal\\resolution\\resolvelib\\candidates.py\", line 288, in __init__\n",
      "    super().__init__(\n",
      "  File \"E:\\langurages\\python3.9\\lib\\site-packages\\pip\\_internal\\resolution\\resolvelib\\candidates.py\", line 158, in __init__\n",
      "    self.dist = self._prepare()\n",
      "  File \"E:\\langurages\\python3.9\\lib\\site-packages\\pip\\_internal\\resolution\\resolvelib\\candidates.py\", line 227, in _prepare\n",
      "    dist = self._prepare_distribution()\n",
      "  File \"E:\\langurages\\python3.9\\lib\\site-packages\\pip\\_internal\\resolution\\resolvelib\\candidates.py\", line 299, in _prepare_distribution\n",
      "    return preparer.prepare_linked_requirement(self._ireq, parallel_builds=True)\n",
      "  File \"E:\\langurages\\python3.9\\lib\\site-packages\\pip\\_internal\\operations\\prepare.py\", line 487, in prepare_linked_requirement\n",
      "    return self._prepare_linked_requirement(req, parallel_builds)\n",
      "  File \"E:\\langurages\\python3.9\\lib\\site-packages\\pip\\_internal\\operations\\prepare.py\", line 532, in _prepare_linked_requirement\n",
      "    local_file = unpack_url(\n",
      "  File \"E:\\langurages\\python3.9\\lib\\site-packages\\pip\\_internal\\operations\\prepare.py\", line 214, in unpack_url\n",
      "    file = get_http_url(\n",
      "  File \"E:\\langurages\\python3.9\\lib\\site-packages\\pip\\_internal\\operations\\prepare.py\", line 94, in get_http_url\n",
      "    from_path, content_type = download(link, temp_dir.path)\n",
      "  File \"E:\\langurages\\python3.9\\lib\\site-packages\\pip\\_internal\\network\\download.py\", line 146, in __call__\n",
      "    for chunk in chunks:\n",
      "  File \"E:\\langurages\\python3.9\\lib\\site-packages\\pip\\_internal\\cli\\progress_bars.py\", line 304, in _rich_progress_bar\n",
      "    for chunk in iterable:\n",
      "  File \"E:\\langurages\\python3.9\\lib\\site-packages\\pip\\_internal\\network\\utils.py\", line 63, in response_chunks\n",
      "    for chunk in response.raw.stream(\n",
      "  File \"E:\\langurages\\python3.9\\lib\\site-packages\\pip\\_vendor\\urllib3\\response.py\", line 576, in stream\n",
      "    data = self.read(amt=amt, decode_content=decode_content)\n",
      "  File \"E:\\langurages\\python3.9\\lib\\site-packages\\pip\\_vendor\\urllib3\\response.py\", line 541, in read\n",
      "    raise IncompleteRead(self._fp_bytes_read, self.length_remaining)\n",
      "  File \"E:\\langurages\\python3.9\\lib\\contextlib.py\", line 137, in __exit__\n",
      "    self.gen.throw(typ, value, traceback)\n",
      "  File \"E:\\langurages\\python3.9\\lib\\site-packages\\pip\\_vendor\\urllib3\\response.py\", line 443, in _error_catcher\n",
      "    raise ReadTimeoutError(self._pool, None, \"Read timed out.\")\n",
      "pip._vendor.urllib3.exceptions.ReadTimeoutError: HTTPSConnectionPool(host='files.pythonhosted.org', port=443): Read timed out.\n",
      "WARNING: Ignoring invalid distribution -ip (e:\\langurages\\python3.9\\lib\\site-packages)\n",
      "WARNING: Ignoring invalid distribution -ip (e:\\langurages\\python3.9\\lib\\site-packages)\n",
      "WARNING: Ignoring invalid distribution -ip (e:\\langurages\\python3.9\\lib\\site-packages)\n",
      "WARNING: You are using pip version 22.0.4; however, version 22.3.1 is available.\n",
      "You should consider upgrading via the 'E:\\langurages\\python3.9\\python.exe -m pip install --upgrade pip' command.\n"
     ]
    },
    {
     "name": "stdout",
     "output_type": "stream",
     "text": [
      "Collecting imblearn\n",
      "  Using cached imblearn-0.0-py2.py3-none-any.whl (1.9 kB)\n",
      "Collecting imbalanced-learn\n",
      "  Using cached imbalanced_learn-0.10.1-py3-none-any.whl (226 kB)\n",
      "Requirement already satisfied: scipy>=1.3.2 in e:\\langurages\\python3.9\\lib\\site-packages (from imbalanced-learn->imblearn) (1.7.1)\n",
      "Collecting scikit-learn>=1.0.2\n",
      "  Downloading scikit_learn-1.2.0-cp39-cp39-win_amd64.whl (8.3 MB)\n",
      "     ----------------------------             5.9/8.3 MB 6.2 kB/s eta 0:06:24\n",
      "Collecting imblearn\n",
      "  Using cached imblearn-0.0-py2.py3-none-any.whl (1.9 kB)\n",
      "Collecting imbalanced-learn\n",
      "  Using cached imbalanced_learn-0.10.1-py3-none-any.whl (226 kB)\n",
      "Collecting scikit-learn>=1.0.2\n",
      "  Downloading scikit_learn-1.2.0-cp39-cp39-win_amd64.whl (8.3 MB)\n",
      "     ---------------------------------------- 8.3/8.3 MB 57.2 kB/s eta 0:00:00\n",
      "Collecting joblib>=1.1.1\n",
      "  Using cached joblib-1.2.0-py3-none-any.whl (297 kB)\n",
      "Requirement already satisfied: threadpoolctl>=2.0.0 in e:\\langurages\\python3.9\\lib\\site-packages (from imbalanced-learn->imblearn) (3.0.0)\n",
      "Requirement already satisfied: scipy>=1.3.2 in e:\\langurages\\python3.9\\lib\\site-packages (from imbalanced-learn->imblearn) (1.7.1)\n",
      "Requirement already satisfied: numpy>=1.17.3 in e:\\langurages\\python3.9\\lib\\site-packages (from imbalanced-learn->imblearn) (1.21.2)\n",
      "Installing collected packages: joblib, scikit-learn, imbalanced-learn, imblearn\n",
      "  Attempting uninstall: joblib\n",
      "    Found existing installation: joblib 1.0.1\n",
      "    Can't uninstall 'joblib'. No files were found to uninstall.\n",
      "  Attempting uninstall: scikit-learn\n",
      "    Found existing installation: scikit-learn 1.0\n",
      "    Can't uninstall 'scikit-learn'. No files were found to uninstall.\n",
      "Successfully installed imbalanced-learn-0.10.1 imblearn-0.0 joblib-1.2.0 scikit-learn-1.2.0\n",
      "Note: you may need to restart the kernel to use updated packages.\n"
     ]
    },
    {
     "name": "stderr",
     "output_type": "stream",
     "text": [
      "WARNING: Ignoring invalid distribution -ip (e:\\langurages\\python3.9\\lib\\site-packages)\n",
      "WARNING: Ignoring invalid distribution -ip (e:\\langurages\\python3.9\\lib\\site-packages)\n",
      "WARNING: Ignoring invalid distribution -ip (e:\\langurages\\python3.9\\lib\\site-packages)\n",
      "WARNING: Error parsing requirements for scikit-learn: [Errno 2] No such file or directory: 'e:\\\\langurages\\\\python3.9\\\\lib\\\\site-packages\\\\scikit_learn-1.0.dist-info\\\\METADATA'\n",
      "WARNING: Error parsing requirements for joblib: [Errno 2] No such file or directory: 'e:\\\\langurages\\\\python3.9\\\\lib\\\\site-packages\\\\joblib-1.0.1.dist-info\\\\METADATA'\n",
      "    WARNING: Ignoring invalid distribution -ip (e:\\langurages\\python3.9\\lib\\site-packages)\n",
      "    WARNING: No metadata found in e:\\langurages\\python3.9\\lib\\site-packages\n",
      "    WARNING: No metadata found in e:\\langurages\\python3.9\\lib\\site-packages\n",
      "    WARNING: No metadata found in e:\\langurages\\python3.9\\lib\\site-packages\n",
      "    WARNING: No metadata found in e:\\langurages\\python3.9\\lib\\site-packages\n",
      "    WARNING: No metadata found in e:\\langurages\\python3.9\\lib\\site-packages\n",
      "    WARNING: No metadata found in e:\\langurages\\python3.9\\lib\\site-packages\n",
      "    WARNING: No metadata found in e:\\langurages\\python3.9\\lib\\site-packages\n",
      "    WARNING: Ignoring invalid distribution -ip (e:\\langurages\\python3.9\\lib\\site-packages)\n",
      "    WARNING: No metadata found in e:\\langurages\\python3.9\\lib\\site-packages\n",
      "    WARNING: No metadata found in e:\\langurages\\python3.9\\lib\\site-packages\n",
      "    WARNING: No metadata found in e:\\langurages\\python3.9\\lib\\site-packages\n",
      "    WARNING: No metadata found in e:\\langurages\\python3.9\\lib\\site-packages\n",
      "    WARNING: No metadata found in e:\\langurages\\python3.9\\lib\\site-packages\n",
      "    WARNING: No metadata found in e:\\langurages\\python3.9\\lib\\site-packages\n",
      "    WARNING: No metadata found in e:\\langurages\\python3.9\\lib\\site-packages\n",
      "WARNING: Ignoring invalid distribution -ip (e:\\langurages\\python3.9\\lib\\site-packages)\n",
      "WARNING: Ignoring invalid distribution -ip (e:\\langurages\\python3.9\\lib\\site-packages)\n",
      "WARNING: Ignoring invalid distribution -ip (e:\\langurages\\python3.9\\lib\\site-packages)\n",
      "WARNING: Ignoring invalid distribution -ip (e:\\langurages\\python3.9\\lib\\site-packages)\n",
      "WARNING: Ignoring invalid distribution -ip (e:\\langurages\\python3.9\\lib\\site-packages)\n",
      "WARNING: Ignoring invalid distribution -ip (e:\\langurages\\python3.9\\lib\\site-packages)\n",
      "WARNING: Ignoring invalid distribution -ip (e:\\langurages\\python3.9\\lib\\site-packages)\n",
      "WARNING: You are using pip version 22.0.4; however, version 22.3.1 is available.\n",
      "You should consider upgrading via the 'E:\\langurages\\python3.9\\python.exe -m pip install --upgrade pip' command.\n"
     ]
    }
   ],
   "source": [
    "pip install imblearn"
   ]
  },
  {
   "cell_type": "code",
   "execution_count": 18,
   "metadata": {
    "execution": {
     "iopub.execute_input": "2022-03-29T18:12:17.651362Z",
     "iopub.status.busy": "2022-03-29T18:12:17.651124Z",
     "iopub.status.idle": "2022-03-29T18:12:17.658121Z",
     "shell.execute_reply": "2022-03-29T18:12:17.657424Z",
     "shell.execute_reply.started": "2022-03-29T18:12:17.651336Z"
    }
   },
   "outputs": [
    {
     "ename": "ImportError",
     "evalue": "cannot import name '_is_arraylike_not_scalar' from 'sklearn.utils.validation' (E:\\langurages\\python3.9\\lib\\site-packages\\sklearn\\utils\\validation.py)",
     "output_type": "error",
     "traceback": [
      "\u001b[1;31m---------------------------------------------------------------------------\u001b[0m",
      "\u001b[1;31mImportError\u001b[0m                               Traceback (most recent call last)",
      "\u001b[1;32mC:\\Users\\ZHOUQI~1\\AppData\\Local\\Temp/ipykernel_41324/2110634844.py\u001b[0m in \u001b[0;36m<module>\u001b[1;34m\u001b[0m\n\u001b[0;32m      2\u001b[0m \u001b[1;32mimport\u001b[0m \u001b[0mmatplotlib\u001b[0m\u001b[1;33m.\u001b[0m\u001b[0mpyplot\u001b[0m \u001b[1;32mas\u001b[0m \u001b[0mplt\u001b[0m\u001b[1;33m\u001b[0m\u001b[1;33m\u001b[0m\u001b[0m\n\u001b[0;32m      3\u001b[0m \u001b[1;32mfrom\u001b[0m \u001b[0msklearn\u001b[0m\u001b[1;33m.\u001b[0m\u001b[0mpreprocessing\u001b[0m \u001b[1;32mimport\u001b[0m \u001b[0mLabelEncoder\u001b[0m\u001b[1;33m,\u001b[0m \u001b[0mStandardScaler\u001b[0m\u001b[1;33m,\u001b[0m \u001b[0mMinMaxScaler\u001b[0m\u001b[1;33m\u001b[0m\u001b[1;33m\u001b[0m\u001b[0m\n\u001b[1;32m----> 4\u001b[1;33m \u001b[1;32mfrom\u001b[0m \u001b[0msklearn\u001b[0m\u001b[1;33m.\u001b[0m\u001b[0mmodel_selection\u001b[0m \u001b[1;32mimport\u001b[0m \u001b[0mtrain_test_split\u001b[0m\u001b[1;33m,\u001b[0m \u001b[0mRandomizedSearchCV\u001b[0m\u001b[1;33m\u001b[0m\u001b[1;33m\u001b[0m\u001b[0m\n\u001b[0m\u001b[0;32m      5\u001b[0m \u001b[1;32mfrom\u001b[0m \u001b[0msklearn\u001b[0m\u001b[1;33m.\u001b[0m\u001b[0mensemble\u001b[0m \u001b[1;32mimport\u001b[0m \u001b[0mRandomForestClassifier\u001b[0m\u001b[1;33m\u001b[0m\u001b[1;33m\u001b[0m\u001b[0m\n\u001b[0;32m      6\u001b[0m \u001b[1;32mfrom\u001b[0m \u001b[0msklearn\u001b[0m\u001b[1;33m.\u001b[0m\u001b[0mtree\u001b[0m \u001b[1;32mimport\u001b[0m \u001b[0mDecisionTreeClassifier\u001b[0m\u001b[1;33m\u001b[0m\u001b[1;33m\u001b[0m\u001b[0m\n",
      "\u001b[1;32mE:\\langurages\\python3.9\\lib\\site-packages\\sklearn\\model_selection\\__init__.py\u001b[0m in \u001b[0;36m<module>\u001b[1;34m\u001b[0m\n\u001b[0;32m     21\u001b[0m \u001b[1;32mfrom\u001b[0m \u001b[1;33m.\u001b[0m\u001b[0m_split\u001b[0m \u001b[1;32mimport\u001b[0m \u001b[0mcheck_cv\u001b[0m\u001b[1;33m\u001b[0m\u001b[1;33m\u001b[0m\u001b[0m\n\u001b[0;32m     22\u001b[0m \u001b[1;33m\u001b[0m\u001b[0m\n\u001b[1;32m---> 23\u001b[1;33m \u001b[1;32mfrom\u001b[0m \u001b[1;33m.\u001b[0m\u001b[0m_validation\u001b[0m \u001b[1;32mimport\u001b[0m \u001b[0mcross_val_score\u001b[0m\u001b[1;33m\u001b[0m\u001b[1;33m\u001b[0m\u001b[0m\n\u001b[0m\u001b[0;32m     24\u001b[0m \u001b[1;32mfrom\u001b[0m \u001b[1;33m.\u001b[0m\u001b[0m_validation\u001b[0m \u001b[1;32mimport\u001b[0m \u001b[0mcross_val_predict\u001b[0m\u001b[1;33m\u001b[0m\u001b[1;33m\u001b[0m\u001b[0m\n\u001b[0;32m     25\u001b[0m \u001b[1;32mfrom\u001b[0m \u001b[1;33m.\u001b[0m\u001b[0m_validation\u001b[0m \u001b[1;32mimport\u001b[0m \u001b[0mcross_validate\u001b[0m\u001b[1;33m\u001b[0m\u001b[1;33m\u001b[0m\u001b[0m\n",
      "\u001b[1;32mE:\\langurages\\python3.9\\lib\\site-packages\\sklearn\\model_selection\\_validation.py\u001b[0m in \u001b[0;36m<module>\u001b[1;34m\u001b[0m\n\u001b[0;32m     30\u001b[0m \u001b[1;32mfrom\u001b[0m \u001b[1;33m.\u001b[0m\u001b[1;33m.\u001b[0m\u001b[0mutils\u001b[0m\u001b[1;33m.\u001b[0m\u001b[0mfixes\u001b[0m \u001b[1;32mimport\u001b[0m \u001b[0mdelayed\u001b[0m\u001b[1;33m\u001b[0m\u001b[1;33m\u001b[0m\u001b[0m\n\u001b[0;32m     31\u001b[0m \u001b[1;32mfrom\u001b[0m \u001b[1;33m.\u001b[0m\u001b[1;33m.\u001b[0m\u001b[0mutils\u001b[0m\u001b[1;33m.\u001b[0m\u001b[0mmetaestimators\u001b[0m \u001b[1;32mimport\u001b[0m \u001b[0m_safe_split\u001b[0m\u001b[1;33m\u001b[0m\u001b[1;33m\u001b[0m\u001b[0m\n\u001b[1;32m---> 32\u001b[1;33m \u001b[1;32mfrom\u001b[0m \u001b[1;33m.\u001b[0m\u001b[1;33m.\u001b[0m\u001b[0mmetrics\u001b[0m \u001b[1;32mimport\u001b[0m \u001b[0mcheck_scoring\u001b[0m\u001b[1;33m\u001b[0m\u001b[1;33m\u001b[0m\u001b[0m\n\u001b[0m\u001b[0;32m     33\u001b[0m \u001b[1;32mfrom\u001b[0m \u001b[1;33m.\u001b[0m\u001b[1;33m.\u001b[0m\u001b[0mmetrics\u001b[0m\u001b[1;33m.\u001b[0m\u001b[0m_scorer\u001b[0m \u001b[1;32mimport\u001b[0m \u001b[0m_check_multimetric_scoring\u001b[0m\u001b[1;33m,\u001b[0m \u001b[0m_MultimetricScorer\u001b[0m\u001b[1;33m\u001b[0m\u001b[1;33m\u001b[0m\u001b[0m\n\u001b[0;32m     34\u001b[0m \u001b[1;32mfrom\u001b[0m \u001b[1;33m.\u001b[0m\u001b[1;33m.\u001b[0m\u001b[0mexceptions\u001b[0m \u001b[1;32mimport\u001b[0m \u001b[0mFitFailedWarning\u001b[0m\u001b[1;33m\u001b[0m\u001b[1;33m\u001b[0m\u001b[0m\n",
      "\u001b[1;32mE:\\langurages\\python3.9\\lib\\site-packages\\sklearn\\metrics\\__init__.py\u001b[0m in \u001b[0;36m<module>\u001b[1;34m\u001b[0m\n\u001b[0;32m     18\u001b[0m \u001b[1;32mfrom\u001b[0m \u001b[1;33m.\u001b[0m\u001b[0m_ranking\u001b[0m \u001b[1;32mimport\u001b[0m \u001b[0mtop_k_accuracy_score\u001b[0m\u001b[1;33m\u001b[0m\u001b[1;33m\u001b[0m\u001b[0m\n\u001b[0;32m     19\u001b[0m \u001b[1;33m\u001b[0m\u001b[0m\n\u001b[1;32m---> 20\u001b[1;33m \u001b[1;32mfrom\u001b[0m \u001b[1;33m.\u001b[0m\u001b[0m_classification\u001b[0m \u001b[1;32mimport\u001b[0m \u001b[0maccuracy_score\u001b[0m\u001b[1;33m\u001b[0m\u001b[1;33m\u001b[0m\u001b[0m\n\u001b[0m\u001b[0;32m     21\u001b[0m \u001b[1;32mfrom\u001b[0m \u001b[1;33m.\u001b[0m\u001b[0m_classification\u001b[0m \u001b[1;32mimport\u001b[0m \u001b[0mbalanced_accuracy_score\u001b[0m\u001b[1;33m\u001b[0m\u001b[1;33m\u001b[0m\u001b[0m\n\u001b[0;32m     22\u001b[0m \u001b[1;32mfrom\u001b[0m \u001b[1;33m.\u001b[0m\u001b[0m_classification\u001b[0m \u001b[1;32mimport\u001b[0m \u001b[0mclass_likelihood_ratios\u001b[0m\u001b[1;33m\u001b[0m\u001b[1;33m\u001b[0m\u001b[0m\n",
      "\u001b[1;32mE:\\langurages\\python3.9\\lib\\site-packages\\sklearn\\metrics\\_classification.py\u001b[0m in \u001b[0;36m<module>\u001b[1;34m\u001b[0m\n\u001b[0;32m     41\u001b[0m \u001b[1;32mfrom\u001b[0m \u001b[1;33m.\u001b[0m\u001b[1;33m.\u001b[0m\u001b[0mutils\u001b[0m\u001b[1;33m.\u001b[0m\u001b[0mvalidation\u001b[0m \u001b[1;32mimport\u001b[0m \u001b[0m_num_samples\u001b[0m\u001b[1;33m\u001b[0m\u001b[1;33m\u001b[0m\u001b[0m\n\u001b[0;32m     42\u001b[0m \u001b[1;32mfrom\u001b[0m \u001b[1;33m.\u001b[0m\u001b[1;33m.\u001b[0m\u001b[0mutils\u001b[0m\u001b[1;33m.\u001b[0m\u001b[0msparsefuncs\u001b[0m \u001b[1;32mimport\u001b[0m \u001b[0mcount_nonzero\u001b[0m\u001b[1;33m\u001b[0m\u001b[1;33m\u001b[0m\u001b[0m\n\u001b[1;32m---> 43\u001b[1;33m \u001b[1;32mfrom\u001b[0m \u001b[1;33m.\u001b[0m\u001b[1;33m.\u001b[0m\u001b[0mutils\u001b[0m\u001b[1;33m.\u001b[0m\u001b[0m_param_validation\u001b[0m \u001b[1;32mimport\u001b[0m \u001b[0mvalidate_params\u001b[0m\u001b[1;33m\u001b[0m\u001b[1;33m\u001b[0m\u001b[0m\n\u001b[0m\u001b[0;32m     44\u001b[0m \u001b[1;32mfrom\u001b[0m \u001b[1;33m.\u001b[0m\u001b[1;33m.\u001b[0m\u001b[0mexceptions\u001b[0m \u001b[1;32mimport\u001b[0m \u001b[0mUndefinedMetricWarning\u001b[0m\u001b[1;33m\u001b[0m\u001b[1;33m\u001b[0m\u001b[0m\n\u001b[0;32m     45\u001b[0m \u001b[1;33m\u001b[0m\u001b[0m\n",
      "\u001b[1;32mE:\\langurages\\python3.9\\lib\\site-packages\\sklearn\\utils\\_param_validation.py\u001b[0m in \u001b[0;36m<module>\u001b[1;34m\u001b[0m\n\u001b[0;32m     15\u001b[0m \u001b[1;32mfrom\u001b[0m \u001b[0mscipy\u001b[0m\u001b[1;33m.\u001b[0m\u001b[0msparse\u001b[0m \u001b[1;32mimport\u001b[0m \u001b[0mcsr_matrix\u001b[0m\u001b[1;33m\u001b[0m\u001b[1;33m\u001b[0m\u001b[0m\n\u001b[0;32m     16\u001b[0m \u001b[1;33m\u001b[0m\u001b[0m\n\u001b[1;32m---> 17\u001b[1;33m \u001b[1;32mfrom\u001b[0m \u001b[1;33m.\u001b[0m\u001b[0mvalidation\u001b[0m \u001b[1;32mimport\u001b[0m \u001b[0m_is_arraylike_not_scalar\u001b[0m\u001b[1;33m\u001b[0m\u001b[1;33m\u001b[0m\u001b[0m\n\u001b[0m\u001b[0;32m     18\u001b[0m \u001b[1;33m\u001b[0m\u001b[0m\n\u001b[0;32m     19\u001b[0m \u001b[1;33m\u001b[0m\u001b[0m\n",
      "\u001b[1;31mImportError\u001b[0m: cannot import name '_is_arraylike_not_scalar' from 'sklearn.utils.validation' (E:\\langurages\\python3.9\\lib\\site-packages\\sklearn\\utils\\validation.py)"
     ]
    }
   ],
   "source": [
    "import seaborn as sns\n",
    "import matplotlib.pyplot as plt\n",
    "from sklearn.preprocessing import LabelEncoder, StandardScaler, MinMaxScaler\n",
    "from imblearn.over_sampling import RandomOverSampler, SMOTE\n",
    "from imblearn.under_sampling import RandomUnderSampler\n",
    "from sklearn.model_selection import train_test_split, RandomizedSearchCV\n",
    "from sklearn.ensemble import RandomForestClassifier\n",
    "from sklearn.tree import DecisionTreeClassifier\n",
    "from sklearn.linear_model import LogisticRegression\n",
    "from xgboost import XGBClassifier\n",
    "from sklearn.svm import SVC\n",
    "from sklearn.neighbors import KNeighborsClassifier\n",
    "from lightgbm import LGBMClassifier\n",
    "from catboost import CatBoostClassifier\n",
    "from sklearn.naive_bayes import GaussianNB\n",
    "from scipy import stats\n",
    "from sklearn.metrics import accuracy_score, roc_curve, auc, mean_squared_error, f1_score\n",
    "import warnings\n",
    "warnings.filterwarnings('ignore')"
   ]
  },
  {
   "cell_type": "markdown",
   "metadata": {},
   "source": [
    "# Importing libraries."
   ]
  },
  {
   "cell_type": "markdown",
   "metadata": {},
   "source": [
    "# Reading the data."
   ]
  },
  {
   "cell_type": "code",
   "execution_count": null,
   "metadata": {
    "execution": {
     "iopub.execute_input": "2022-03-29T18:12:17.845111Z",
     "iopub.status.busy": "2022-03-29T18:12:17.844553Z",
     "iopub.status.idle": "2022-03-29T18:12:18.536008Z",
     "shell.execute_reply": "2022-03-29T18:12:18.535124Z",
     "shell.execute_reply.started": "2022-03-29T18:12:17.845077Z"
    }
   },
   "outputs": [],
   "source": [
    "!ls ../input/santander-customer-satisfaction/"
   ]
  },
  {
   "cell_type": "code",
   "execution_count": null,
   "metadata": {
    "execution": {
     "iopub.execute_input": "2022-03-29T18:12:18.539221Z",
     "iopub.status.busy": "2022-03-29T18:12:18.538514Z",
     "iopub.status.idle": "2022-03-29T18:12:21.428016Z",
     "shell.execute_reply": "2022-03-29T18:12:21.427266Z",
     "shell.execute_reply.started": "2022-03-29T18:12:18.539178Z"
    }
   },
   "outputs": [],
   "source": [
    "train = pd.read_csv(\"../input/santander-customer-satisfaction/train.csv\")\n",
    "test = pd.read_csv(\"../input/santander-customer-satisfaction/test.csv\")\n",
    "sample = pd.read_csv(\"../input/santander-customer-satisfaction/sample_submission.csv\")"
   ]
  },
  {
   "cell_type": "markdown",
   "metadata": {},
   "source": [
    "# Preprocessing."
   ]
  },
  {
   "cell_type": "code",
   "execution_count": null,
   "metadata": {
    "execution": {
     "iopub.execute_input": "2022-03-29T18:12:21.431359Z",
     "iopub.status.busy": "2022-03-29T18:12:21.431149Z",
     "iopub.status.idle": "2022-03-29T18:12:21.462842Z",
     "shell.execute_reply": "2022-03-29T18:12:21.462203Z",
     "shell.execute_reply.started": "2022-03-29T18:12:21.431334Z"
    }
   },
   "outputs": [],
   "source": [
    "train.head()"
   ]
  },
  {
   "cell_type": "code",
   "execution_count": null,
   "metadata": {
    "execution": {
     "iopub.execute_input": "2022-03-29T18:12:21.465153Z",
     "iopub.status.busy": "2022-03-29T18:12:21.464929Z",
     "iopub.status.idle": "2022-03-29T18:12:21.492284Z",
     "shell.execute_reply": "2022-03-29T18:12:21.491509Z",
     "shell.execute_reply.started": "2022-03-29T18:12:21.465121Z"
    }
   },
   "outputs": [],
   "source": [
    "test.head()"
   ]
  },
  {
   "cell_type": "code",
   "execution_count": null,
   "metadata": {
    "execution": {
     "iopub.execute_input": "2022-03-29T18:12:21.493969Z",
     "iopub.status.busy": "2022-03-29T18:12:21.493685Z",
     "iopub.status.idle": "2022-03-29T18:12:21.502175Z",
     "shell.execute_reply": "2022-03-29T18:12:21.501412Z",
     "shell.execute_reply.started": "2022-03-29T18:12:21.493933Z"
    }
   },
   "outputs": [],
   "source": [
    "sample.head()"
   ]
  },
  {
   "cell_type": "code",
   "execution_count": null,
   "metadata": {
    "execution": {
     "iopub.execute_input": "2022-03-29T18:12:21.504316Z",
     "iopub.status.busy": "2022-03-29T18:12:21.503446Z",
     "iopub.status.idle": "2022-03-29T18:12:21.51217Z",
     "shell.execute_reply": "2022-03-29T18:12:21.511282Z",
     "shell.execute_reply.started": "2022-03-29T18:12:21.504277Z"
    }
   },
   "outputs": [],
   "source": [
    "print(\"Shape of train dataframe is {}\".format(train.shape))\n",
    "print(\"Shape of test dataframe is {}\".format(test.shape))\n",
    "print(\"Shape of sample dataframe is {}\".format(sample.shape))"
   ]
  },
  {
   "cell_type": "code",
   "execution_count": null,
   "metadata": {
    "execution": {
     "iopub.execute_input": "2022-03-29T18:12:21.51554Z",
     "iopub.status.busy": "2022-03-29T18:12:21.515128Z",
     "iopub.status.idle": "2022-03-29T18:12:21.600347Z",
     "shell.execute_reply": "2022-03-29T18:12:21.59945Z",
     "shell.execute_reply.started": "2022-03-29T18:12:21.515507Z"
    }
   },
   "outputs": [],
   "source": [
    "print('Null values in training data is {}'.format(train.isnull().sum().any()))\n",
    "print('Null values in testing data is {}'.format(test.isnull().sum().any()))"
   ]
  },
  {
   "cell_type": "code",
   "execution_count": null,
   "metadata": {
    "execution": {
     "iopub.execute_input": "2022-03-29T18:12:21.602085Z",
     "iopub.status.busy": "2022-03-29T18:12:21.601757Z",
     "iopub.status.idle": "2022-03-29T18:12:22.664257Z",
     "shell.execute_reply": "2022-03-29T18:12:22.663561Z",
     "shell.execute_reply.started": "2022-03-29T18:12:21.602047Z"
    }
   },
   "outputs": [],
   "source": [
    "train.describe()"
   ]
  },
  {
   "cell_type": "code",
   "execution_count": null,
   "metadata": {
    "execution": {
     "iopub.execute_input": "2022-03-29T18:12:22.66574Z",
     "iopub.status.busy": "2022-03-29T18:12:22.665402Z",
     "iopub.status.idle": "2022-03-29T18:12:22.68881Z",
     "shell.execute_reply": "2022-03-29T18:12:22.688117Z",
     "shell.execute_reply.started": "2022-03-29T18:12:22.665682Z"
    }
   },
   "outputs": [],
   "source": [
    "train.info()"
   ]
  },
  {
   "cell_type": "code",
   "execution_count": null,
   "metadata": {
    "execution": {
     "iopub.execute_input": "2022-03-29T18:12:22.693537Z",
     "iopub.status.busy": "2022-03-29T18:12:22.69262Z",
     "iopub.status.idle": "2022-03-29T18:12:22.717677Z",
     "shell.execute_reply": "2022-03-29T18:12:22.71699Z",
     "shell.execute_reply.started": "2022-03-29T18:12:22.693498Z"
    }
   },
   "outputs": [],
   "source": [
    "test.info()"
   ]
  },
  {
   "cell_type": "code",
   "execution_count": null,
   "metadata": {
    "execution": {
     "iopub.execute_input": "2022-03-29T18:12:22.719178Z",
     "iopub.status.busy": "2022-03-29T18:12:22.718817Z",
     "iopub.status.idle": "2022-03-29T18:12:23.161507Z",
     "shell.execute_reply": "2022-03-29T18:12:23.160707Z",
     "shell.execute_reply.started": "2022-03-29T18:12:22.719144Z"
    }
   },
   "outputs": [],
   "source": [
    "# Findning duplicate rows.\n",
    "\n",
    "dupli = train[train.duplicated()]\n",
    "dupli"
   ]
  },
  {
   "cell_type": "markdown",
   "metadata": {},
   "source": [
    "*No duolicate rows found.*"
   ]
  },
  {
   "cell_type": "code",
   "execution_count": null,
   "metadata": {
    "execution": {
     "iopub.execute_input": "2022-03-29T18:12:23.163309Z",
     "iopub.status.busy": "2022-03-29T18:12:23.163041Z",
     "iopub.status.idle": "2022-03-29T18:12:28.109442Z",
     "shell.execute_reply": "2022-03-29T18:12:28.108647Z",
     "shell.execute_reply.started": "2022-03-29T18:12:23.163274Z"
    }
   },
   "outputs": [],
   "source": [
    "# Removing all the columns having only 1 unique value.\n",
    "\n",
    "for i in train.columns:\n",
    "    if train[i].nunique() == 1:\n",
    "        print(i)\n",
    "        train.drop(i, inplace = True, axis = 1)\n",
    "        test.drop(i, inplace = True, axis = 1)"
   ]
  },
  {
   "cell_type": "code",
   "execution_count": null,
   "metadata": {
    "execution": {
     "iopub.execute_input": "2022-03-29T18:12:28.111293Z",
     "iopub.status.busy": "2022-03-29T18:12:28.111015Z",
     "iopub.status.idle": "2022-03-29T18:12:28.116897Z",
     "shell.execute_reply": "2022-03-29T18:12:28.116127Z",
     "shell.execute_reply.started": "2022-03-29T18:12:28.111254Z"
    }
   },
   "outputs": [],
   "source": [
    "train.shape"
   ]
  },
  {
   "cell_type": "code",
   "execution_count": null,
   "metadata": {
    "execution": {
     "iopub.execute_input": "2022-03-29T18:12:28.119105Z",
     "iopub.status.busy": "2022-03-29T18:12:28.118541Z",
     "iopub.status.idle": "2022-03-29T18:12:32.548675Z",
     "shell.execute_reply": "2022-03-29T18:12:32.548009Z",
     "shell.execute_reply.started": "2022-03-29T18:12:28.119068Z"
    }
   },
   "outputs": [],
   "source": [
    "# Before removing Outliers.\n",
    "\n",
    "plt.figure(figsize = (20,20))\n",
    "for i in range (50):\n",
    "    plt.subplot(5, 10, i+1)\n",
    "    sns.boxplot(train.iloc[:,i])\n",
    "    plt.xlabel(train.columns[i], size = 10)"
   ]
  },
  {
   "cell_type": "code",
   "execution_count": null,
   "metadata": {
    "execution": {
     "iopub.execute_input": "2022-03-29T18:12:32.55035Z",
     "iopub.status.busy": "2022-03-29T18:12:32.5501Z",
     "iopub.status.idle": "2022-03-29T18:12:32.555741Z",
     "shell.execute_reply": "2022-03-29T18:12:32.554984Z",
     "shell.execute_reply.started": "2022-03-29T18:12:32.550316Z"
    }
   },
   "outputs": [],
   "source": [
    "def Outliers(data, ft):\n",
    "    \n",
    "    IQ1 = data[ft].quantile(0.25)\n",
    "    IQ3 = data[ft].quantile(0.75)\n",
    "    IQR = IQ3 - IQ1\n",
    "    \n",
    "    lower_bound = IQ1 - 1.5 * IQR\n",
    "    upper_bound = IQ3 + 1.5 * IQR\n",
    "    \n",
    "    index = data.index[ (data[ft] < lower_bound) | (data[ft] > upper_bound) ]\n",
    "    return index"
   ]
  },
  {
   "cell_type": "code",
   "execution_count": null,
   "metadata": {
    "execution": {
     "iopub.execute_input": "2022-03-29T18:12:32.557525Z",
     "iopub.status.busy": "2022-03-29T18:12:32.557267Z",
     "iopub.status.idle": "2022-03-29T18:12:33.620263Z",
     "shell.execute_reply": "2022-03-29T18:12:33.619555Z",
     "shell.execute_reply.started": "2022-03-29T18:12:32.557489Z"
    }
   },
   "outputs": [],
   "source": [
    "index = []\n",
    "for i in train.columns:\n",
    "    index.extend(Outliers(train, i))\n",
    "index = list(set(index))\n",
    "len(index)"
   ]
  },
  {
   "cell_type": "code",
   "execution_count": null,
   "metadata": {
    "execution": {
     "iopub.execute_input": "2022-03-29T18:12:33.621966Z",
     "iopub.status.busy": "2022-03-29T18:12:33.621539Z",
     "iopub.status.idle": "2022-03-29T18:12:33.625882Z",
     "shell.execute_reply": "2022-03-29T18:12:33.625161Z",
     "shell.execute_reply.started": "2022-03-29T18:12:33.621925Z"
    }
   },
   "outputs": [],
   "source": [
    "# print(\"Size of training data before removing outliers is {}\".format(train.shape))\n",
    "# train.drop(index, inplace = True, axis = 0)\n",
    "# print(\"Size of training data after removing outliers is {}\".format(train.shape))"
   ]
  },
  {
   "cell_type": "markdown",
   "metadata": {},
   "source": [
    "*Here I tried removing outlier, but by removing them I was loosing important information as well. That's why I decided not to remove outliers.*"
   ]
  },
  {
   "cell_type": "code",
   "execution_count": null,
   "metadata": {
    "execution": {
     "iopub.execute_input": "2022-03-29T18:12:33.627833Z",
     "iopub.status.busy": "2022-03-29T18:12:33.627362Z",
     "iopub.status.idle": "2022-03-29T18:12:33.81379Z",
     "shell.execute_reply": "2022-03-29T18:12:33.813095Z",
     "shell.execute_reply.started": "2022-03-29T18:12:33.627797Z"
    }
   },
   "outputs": [],
   "source": [
    "# Count plot for target column.\n",
    "\n",
    "print(train['TARGET'].value_counts())\n",
    "plt.figure(figsize = (8,5))\n",
    "sns.countplot(x = train['TARGET'])\n",
    "plt.xlabel('Target', size = 12)\n",
    "plt.ylabel('Count', size = 12)\n",
    "plt.title('Distribution in target column before resmpling', size = 12)"
   ]
  },
  {
   "cell_type": "markdown",
   "metadata": {},
   "source": [
    "*Here we can see that target column is unbalanced.*"
   ]
  },
  {
   "cell_type": "code",
   "execution_count": null,
   "metadata": {
    "execution": {
     "iopub.execute_input": "2022-03-29T18:12:33.815268Z",
     "iopub.status.busy": "2022-03-29T18:12:33.81487Z",
     "iopub.status.idle": "2022-03-29T18:12:33.944663Z",
     "shell.execute_reply": "2022-03-29T18:12:33.943857Z",
     "shell.execute_reply.started": "2022-03-29T18:12:33.81523Z"
    }
   },
   "outputs": [],
   "source": [
    "test_id = test['ID']\n",
    "train.drop('ID', inplace = True, axis = 1)\n",
    "test.drop('ID', inplace = True, axis = 1)"
   ]
  },
  {
   "cell_type": "code",
   "execution_count": null,
   "metadata": {
    "execution": {
     "iopub.execute_input": "2022-03-29T18:12:33.94647Z",
     "iopub.status.busy": "2022-03-29T18:12:33.946164Z",
     "iopub.status.idle": "2022-03-29T18:12:34.040434Z",
     "shell.execute_reply": "2022-03-29T18:12:34.03976Z",
     "shell.execute_reply.started": "2022-03-29T18:12:33.946432Z"
    }
   },
   "outputs": [],
   "source": [
    "x = train.drop('TARGET', axis = 1)\n",
    "x.head()"
   ]
  },
  {
   "cell_type": "code",
   "execution_count": null,
   "metadata": {
    "execution": {
     "iopub.execute_input": "2022-03-29T18:12:34.042068Z",
     "iopub.status.busy": "2022-03-29T18:12:34.041506Z",
     "iopub.status.idle": "2022-03-29T18:12:34.049549Z",
     "shell.execute_reply": "2022-03-29T18:12:34.048744Z",
     "shell.execute_reply.started": "2022-03-29T18:12:34.042022Z"
    }
   },
   "outputs": [],
   "source": [
    "y = train.loc[:, 'TARGET']\n",
    "y.head()"
   ]
  },
  {
   "cell_type": "code",
   "execution_count": null,
   "metadata": {
    "execution": {
     "iopub.execute_input": "2022-03-29T18:36:05.165283Z",
     "iopub.status.busy": "2022-03-29T18:36:05.164726Z",
     "iopub.status.idle": "2022-03-29T18:36:05.255855Z",
     "shell.execute_reply": "2022-03-29T18:36:05.255024Z",
     "shell.execute_reply.started": "2022-03-29T18:36:05.165249Z"
    }
   },
   "outputs": [],
   "source": [
    "# Sampling the data, to balance the classes in target column.\n",
    "\n",
    "sampler = RandomUnderSampler()\n",
    "x, y = sampler.fit_resample(x, y)"
   ]
  },
  {
   "cell_type": "code",
   "execution_count": null,
   "metadata": {
    "execution": {
     "iopub.execute_input": "2022-03-29T18:12:34.223941Z",
     "iopub.status.busy": "2022-03-29T18:12:34.223635Z",
     "iopub.status.idle": "2022-03-29T18:12:34.395628Z",
     "shell.execute_reply": "2022-03-29T18:12:34.394909Z",
     "shell.execute_reply.started": "2022-03-29T18:12:34.223907Z"
    }
   },
   "outputs": [],
   "source": [
    "print(y.value_counts())\n",
    "plt.figure(figsize = (8,5))\n",
    "sns.countplot(x = y)\n",
    "plt.xlabel('Target', size = 12)\n",
    "plt.ylabel('Count', size = 12)\n",
    "plt.title('Distribution in target column before resmpling', size = 12)"
   ]
  },
  {
   "cell_type": "code",
   "execution_count": null,
   "metadata": {
    "execution": {
     "iopub.execute_input": "2022-03-29T18:12:34.397526Z",
     "iopub.status.busy": "2022-03-29T18:12:34.397077Z",
     "iopub.status.idle": "2022-03-29T18:12:34.482065Z",
     "shell.execute_reply": "2022-03-29T18:12:34.481275Z",
     "shell.execute_reply.started": "2022-03-29T18:12:34.397488Z"
    }
   },
   "outputs": [],
   "source": [
    "# Applying standard scaler and min max scaler.\n",
    "\n",
    "col = x.columns\n",
    "std = StandardScaler()\n",
    "x_std = std.fit_transform(x)\n",
    "x_std = pd.DataFrame(data = x_std, columns = col)\n",
    "\n",
    "mms = MinMaxScaler()\n",
    "x_mms = mms.fit_transform(x)\n",
    "x_mms = pd.DataFrame(data = x_mms, columns = col)"
   ]
  },
  {
   "cell_type": "code",
   "execution_count": null,
   "metadata": {
    "execution": {
     "iopub.execute_input": "2022-03-29T18:12:34.483682Z",
     "iopub.status.busy": "2022-03-29T18:12:34.483419Z",
     "iopub.status.idle": "2022-03-29T18:12:34.500248Z",
     "shell.execute_reply": "2022-03-29T18:12:34.49937Z",
     "shell.execute_reply.started": "2022-03-29T18:12:34.483645Z"
    }
   },
   "outputs": [],
   "source": [
    "xtrain, xtest, ytrain, ytest = train_test_split(x, y, test_size = 0.25, random_state = 42)"
   ]
  },
  {
   "cell_type": "markdown",
   "metadata": {},
   "source": [
    "# Building models."
   ]
  },
  {
   "cell_type": "code",
   "execution_count": null,
   "metadata": {
    "execution": {
     "iopub.execute_input": "2022-03-29T18:12:34.503148Z",
     "iopub.status.busy": "2022-03-29T18:12:34.502954Z",
     "iopub.status.idle": "2022-03-29T18:12:34.512273Z",
     "shell.execute_reply": "2022-03-29T18:12:34.511591Z",
     "shell.execute_reply.started": "2022-03-29T18:12:34.503124Z"
    }
   },
   "outputs": [],
   "source": [
    "def Models(model, name, d, xtrain, ytrain, xtest, ytest):\n",
    "    print(\"Working on {} model\".format(name))\n",
    "    \n",
    "    cla = model\n",
    "    cla.fit(xtrain, ytrain)\n",
    "    \n",
    "    predicted = cla.predict(xtrain)\n",
    "    tr_auc = accuracy_score(predicted, ytrain)*100\n",
    "    \n",
    "    predicted = cla.predict(xtest)\n",
    "    te_auc = accuracy_score(predicted, ytest)*100\n",
    "    \n",
    "    F1 = f1_score(predicted, ytest)\n",
    "    fpr, tpr, threshould = roc_curve(predicted, ytest)\n",
    "    AUC = auc(fpr, tpr)\n",
    "    \n",
    "    d['Name'].append(name)\n",
    "    d['Training ACU'].append(tr_auc)\n",
    "    d['Testing ACU'].append(te_auc)\n",
    "    d['F1'].append(F1)\n",
    "    d['AUC'].append(AUC)\n",
    "    \n",
    "    print(\"**********\"*5)\n",
    "    print()\n",
    "    return d"
   ]
  },
  {
   "cell_type": "code",
   "execution_count": null,
   "metadata": {
    "execution": {
     "iopub.execute_input": "2022-03-29T18:12:34.51415Z",
     "iopub.status.busy": "2022-03-29T18:12:34.513951Z",
     "iopub.status.idle": "2022-03-29T18:14:24.346263Z",
     "shell.execute_reply": "2022-03-29T18:14:24.345668Z",
     "shell.execute_reply.started": "2022-03-29T18:12:34.514121Z"
    }
   },
   "outputs": [],
   "source": [
    "l = [x, x_std, x_mms]\n",
    "final = []\n",
    "for i in l:\n",
    "    xtrain, xtest, ytrain, ytest = train_test_split(i, y, test_size = 0.25, random_state = 42)\n",
    "    \n",
    "    d = {'Name' : [], 'Training ACU': [], 'Testing ACU': [], 'F1': [], 'AUC': []}\n",
    "    \n",
    "    models = [ \n",
    "        [RandomForestClassifier(n_estimators = 200), 'Random Forest'], [DecisionTreeClassifier(), 'Decision Tree'], \n",
    "              [XGBClassifier(tree_method='gpu_hist'), 'XGBoost'], \n",
    "              [CatBoostClassifier(task_type=\"GPU\"), 'CatBoost'], [GaussianNB(), 'Naive Bayes'], \n",
    "              [LogisticRegression(), 'Logistic Regression'] \n",
    "    ]\n",
    "\n",
    "    for model in models:\n",
    "        d = Models(model[0], model[1], d, xtrain, ytrain, xtest, ytest)\n",
    "    final.append(d)"
   ]
  },
  {
   "cell_type": "code",
   "execution_count": null,
   "metadata": {
    "execution": {
     "iopub.execute_input": "2022-03-29T18:14:24.355463Z",
     "iopub.status.busy": "2022-03-29T18:14:24.352967Z",
     "iopub.status.idle": "2022-03-29T18:14:24.392044Z",
     "shell.execute_reply": "2022-03-29T18:14:24.391133Z",
     "shell.execute_reply.started": "2022-03-29T18:14:24.355425Z"
    }
   },
   "outputs": [],
   "source": [
    "name = ['Normal', 'Standard', 'Min Max']\n",
    "for i in range (len(name)):\n",
    "    print(name[i])\n",
    "    acu_data = pd.DataFrame(data = final[i])\n",
    "    print(acu_data)\n",
    "    print(\"******\"*12)"
   ]
  },
  {
   "cell_type": "markdown",
   "metadata": {},
   "source": [
    "*Here we are choosing catboost with standard deviation since its giving best score.*"
   ]
  },
  {
   "cell_type": "markdown",
   "metadata": {},
   "source": [
    "# Making predictions on test data."
   ]
  },
  {
   "cell_type": "code",
   "execution_count": null,
   "metadata": {
    "execution": {
     "iopub.execute_input": "2022-03-29T18:14:24.398499Z",
     "iopub.status.busy": "2022-03-29T18:14:24.396275Z",
     "iopub.status.idle": "2022-03-29T18:14:24.432193Z",
     "shell.execute_reply": "2022-03-29T18:14:24.43163Z",
     "shell.execute_reply.started": "2022-03-29T18:14:24.398463Z"
    }
   },
   "outputs": [],
   "source": [
    "xtrain, xtest, ytrain, ytest = train_test_split(x_std, y, test_size = 0.25, random_state = 42)"
   ]
  },
  {
   "cell_type": "code",
   "execution_count": null,
   "metadata": {
    "execution": {
     "iopub.execute_input": "2022-03-29T18:14:24.438517Z",
     "iopub.status.busy": "2022-03-29T18:14:24.436004Z",
     "iopub.status.idle": "2022-03-29T18:14:57.132998Z",
     "shell.execute_reply": "2022-03-29T18:14:57.132243Z",
     "shell.execute_reply.started": "2022-03-29T18:14:24.43848Z"
    }
   },
   "outputs": [],
   "source": [
    "cla = CatBoostClassifier(task_type = 'GPU')\n",
    "cla.fit(xtrain, ytrain, verbose = 100)"
   ]
  },
  {
   "cell_type": "code",
   "execution_count": null,
   "metadata": {
    "execution": {
     "iopub.execute_input": "2022-03-29T18:14:57.13838Z",
     "iopub.status.busy": "2022-03-29T18:14:57.13663Z",
     "iopub.status.idle": "2022-03-29T18:14:57.387549Z",
     "shell.execute_reply": "2022-03-29T18:14:57.38695Z",
     "shell.execute_reply.started": "2022-03-29T18:14:57.138341Z"
    }
   },
   "outputs": [],
   "source": [
    "x_test = test.loc[:, :]\n",
    "col = x_test.columns\n",
    "x_test = std.transform(x_test)\n",
    "x_test = pd.DataFrame(data = x_test, columns = col)\n",
    "x_test.head()"
   ]
  },
  {
   "cell_type": "code",
   "execution_count": null,
   "metadata": {
    "execution": {
     "iopub.execute_input": "2022-03-29T18:14:57.392845Z",
     "iopub.status.busy": "2022-03-29T18:14:57.391117Z",
     "iopub.status.idle": "2022-03-29T18:14:57.662777Z",
     "shell.execute_reply": "2022-03-29T18:14:57.66216Z",
     "shell.execute_reply.started": "2022-03-29T18:14:57.392808Z"
    }
   },
   "outputs": [],
   "source": [
    "predicted = cla.predict(x_test)\n",
    "predicted"
   ]
  },
  {
   "cell_type": "code",
   "execution_count": null,
   "metadata": {
    "execution": {
     "iopub.execute_input": "2022-03-29T18:14:57.666041Z",
     "iopub.status.busy": "2022-03-29T18:14:57.665572Z",
     "iopub.status.idle": "2022-03-29T18:14:57.678615Z",
     "shell.execute_reply": "2022-03-29T18:14:57.678079Z",
     "shell.execute_reply.started": "2022-03-29T18:14:57.666001Z"
    }
   },
   "outputs": [],
   "source": [
    "sample"
   ]
  },
  {
   "cell_type": "code",
   "execution_count": null,
   "metadata": {
    "execution": {
     "iopub.execute_input": "2022-03-29T18:14:57.683712Z",
     "iopub.status.busy": "2022-03-29T18:14:57.681988Z",
     "iopub.status.idle": "2022-03-29T18:14:57.697799Z",
     "shell.execute_reply": "2022-03-29T18:14:57.697234Z",
     "shell.execute_reply.started": "2022-03-29T18:14:57.683661Z"
    }
   },
   "outputs": [],
   "source": [
    "submit = pd.DataFrame(data = {'ID' : test_id, 'TARGET' :predicted})\n",
    "submit"
   ]
  },
  {
   "cell_type": "code",
   "execution_count": null,
   "metadata": {
    "execution": {
     "iopub.execute_input": "2022-03-29T18:14:57.702803Z",
     "iopub.status.busy": "2022-03-29T18:14:57.701091Z",
     "iopub.status.idle": "2022-03-29T18:14:57.86616Z",
     "shell.execute_reply": "2022-03-29T18:14:57.865621Z",
     "shell.execute_reply.started": "2022-03-29T18:14:57.702769Z"
    }
   },
   "outputs": [],
   "source": [
    "submit.to_csv('Submission1.csv', index = False)"
   ]
  },
  {
   "cell_type": "code",
   "execution_count": null,
   "metadata": {},
   "outputs": [],
   "source": []
  }
 ],
 "metadata": {
  "kernelspec": {
   "display_name": "Python 3 (ipykernel)",
   "language": "python",
   "name": "python3"
  },
  "language_info": {
   "codemirror_mode": {
    "name": "ipython",
    "version": 3
   },
   "file_extension": ".py",
   "mimetype": "text/x-python",
   "name": "python",
   "nbconvert_exporter": "python",
   "pygments_lexer": "ipython3",
   "version": "3.9.7"
  }
 },
 "nbformat": 4,
 "nbformat_minor": 4
}
